{
 "cells": [
  {
   "cell_type": "code",
   "execution_count": 1,
   "metadata": {},
   "outputs": [],
   "source": [
    "import Baysor\n",
    "import Colors\n",
    "import Images\n",
    "import MultivariateStats\n",
    "import Plots\n",
    "import Random\n",
    "import Clustering\n",
    "import CSV\n",
    "\n",
    "using DataFrames\n",
    "using DataFramesMeta\n",
    "using Distributed\n",
    "using NearestNeighbors\n",
    "using ProgressMeter\n",
    "using RCall\n",
    "using Statistics\n",
    "using StatsBase\n",
    "\n",
    "B = Baysor;\n",
    "\n",
    "PROJECT_PATH = \"/home/vpetukhov/spatial/Benchmarking/\";"
   ]
  },
  {
   "cell_type": "code",
   "execution_count": 2,
   "metadata": {},
   "outputs": [],
   "source": [
    "R\"\"\"\n",
    "library(ggplot2)\n",
    "library(ggbeeswarm)\n",
    "theme_set(theme_bw())\n",
    "\"\"\";"
   ]
  },
  {
   "cell_type": "code",
   "execution_count": 3,
   "metadata": {},
   "outputs": [],
   "source": [
    "addprocs(max(2 - nprocs(), 0))\n",
    "@everywhere begin\n",
    "    using DataFrames\n",
    "    using Baysor\n",
    "    using Logging\n",
    "    B = Baysor\n",
    "end;"
   ]
  },
  {
   "cell_type": "markdown",
   "metadata": {
    "toc-hr-collapsed": true,
    "toc-nb-collapsed": true
   },
   "source": [
    "## osmFISH"
   ]
  },
  {
   "cell_type": "code",
   "execution_count": 7,
   "metadata": {},
   "outputs": [],
   "source": [
    "@everywhere df_spatial, gene_names = B.load_df(\"/home/vpetukhov/spatial/Benchmarking/run_results/spacejam2/allen_sm_fish/allen_prior/segmentation.csv\");"
   ]
  },
  {
   "cell_type": "code",
   "execution_count": 5,
   "metadata": {},
   "outputs": [
    {
     "name": "stderr",
     "output_type": "stream",
     "text": [
      "\u001b[32mProgress: 100%|█████████████████████████████████████████| Time: 0:25:37\u001b[39m\n"
     ]
    }
   ],
   "source": [
    "assignments = @showprogress pmap(1:12) do i\n",
    "    with_logger(NullLogger()) do\n",
    "        Random.seed!(i)\n",
    "        bm_data = B.initial_distribution_arr(df_spatial; n_frames=1, scale=49.0, scale_std=12.25, min_molecules_per_cell=30)[1];\n",
    "        B.bmm!(bm_data, n_iters=400, new_component_frac=0.3, min_molecules_per_cell=30, assignment_history_depth=100, verbose=false);\n",
    "        res = bm_data.assignment, B.estimate_assignment_by_history(bm_data)\n",
    "        bm_data = nothing\n",
    "        return res\n",
    "#         return bm_data\n",
    "    end\n",
    "end;"
   ]
  },
  {
   "cell_type": "code",
   "execution_count": 13,
   "metadata": {},
   "outputs": [
    {
     "name": "stdout",
     "output_type": "stream",
     "text": [
      " 10.686299 seconds (88.58 k allocations: 16.575 GiB, 6.63% gc time)\n",
      " 10.150382 seconds (88.58 k allocations: 15.291 GiB, 6.35% gc time)\n",
      " 10.030105 seconds (281.91 k allocations: 16.585 GiB, 6.99% gc time)\n",
      "  8.945709 seconds (89.71 k allocations: 15.291 GiB, 7.09% gc time)\n"
     ]
    }
   ],
   "source": [
    "raw_assignments = getindex.(assignments, 1);\n",
    "avg_assignments = getindex.(getindex.(assignments, 2), 1);\n",
    "\n",
    "@time nmi_raw = vcat([Float64[Clustering.mutualinfo(raw_assignments[i], raw_assignments[j]) for j in 1:(i-1)] for i in 1:length(avg_assignments)]...);\n",
    "@time nmi_avg = vcat([Float64[Clustering.mutualinfo(avg_assignments[i], avg_assignments[j]) for j in 1:(i-1)] for i in 1:length(avg_assignments)]...);\n",
    "\n",
    "@time ari_raw = vcat([Float64[Clustering.randindex(raw_assignments[i], raw_assignments[j])[1] for j in 1:(i-1)] for i in 1:length(avg_assignments)]...);\n",
    "@time ari_avg = vcat([Float64[Clustering.randindex(avg_assignments[i], avg_assignments[j])[1] for j in 1:(i-1)] for i in 1:length(avg_assignments)]...);"
   ]
  },
  {
   "cell_type": "code",
   "execution_count": 25,
   "metadata": {},
   "outputs": [
    {
     "data": {
      "image/png": "[encoded data removed]"
     },
     "metadata": {},
     "output_type": "display_data"
    },
    {
     "data": {
      "text/plain": [
       "RObject{VecSxp}\n"
      ]
     },
     "execution_count": 25,
     "metadata": {},
     "output_type": "execute_result"
    }
   ],
   "source": [
    "R\"\"\"\n",
    "ggplot($p_df_osm, aes(x=Metric, y=Value, color=Type)) + geom_quasirandom() + theme(legend.position=c(0.01, 0.01), legend.justification=c(0, 0))\n",
    "\"\"\""
   ]
  },
  {
   "cell_type": "code",
   "execution_count": 21,
   "metadata": {},
   "outputs": [
    {
     "data": {
      "image/png": "[encoded data removed]"
     },
     "metadata": {},
     "output_type": "display_data"
    },
    {
     "data": {
      "text/plain": [
       "RObject{VecSxp}\n"
      ]
     },
     "execution_count": 21,
     "metadata": {},
     "output_type": "execute_result"
    }
   ],
   "source": [
    "p_df_osm = vcat([DataFrame(:Metric => m, :Type => t, :Value => v, :Protocol => \"osmFISH\") \n",
    "        for (m, t, v) in zip(repeat([\"Mutual Information\", \"Rand Index\"], inner=2), repeat([\"Raw\", \"Averaged\"], outer=2), [nmi_raw, nmi_avg, ari_raw, ari_avg])]...);\n",
    "\n",
    "CSV.write(\"../cache/stability_df_osm.csv\", p_df_osm)\n",
    "\n",
    "R\"\"\"\n",
    "ggplot($p_df_osm, aes(x=Metric, y=Value, color=Type)) + geom_boxplot() + theme(legend.position=c(0.01, 0.01), legend.justification=c(0, 0))\n",
    "\"\"\""
   ]
  },
  {
   "cell_type": "markdown",
   "metadata": {},
   "source": [
    "## ISS"
   ]
  },
  {
   "cell_type": "code",
   "execution_count": 4,
   "metadata": {},
   "outputs": [],
   "source": [
    "@everywhere df_spatial, gene_names = B.load_df(\"/home/vpetukhov/spatial/Benchmarking/run_results/iss_hippo/ca1_no_prior/segmentation.csv\");"
   ]
  },
  {
   "cell_type": "code",
   "execution_count": 5,
   "metadata": {},
   "outputs": [
    {
     "name": "stderr",
     "output_type": "stream",
     "text": [
      "\u001b[32mProgress: 100%|█████████████████████████████████████████| Time: 0:02:12\u001b[39m\n"
     ]
    }
   ],
   "source": [
    "assignments = @showprogress pmap(1:30) do i\n",
    "    with_logger(NullLogger()) do\n",
    "        Random.seed!(i)\n",
    "        bm_data = B.initial_distribution_arr(df_spatial; n_frames=1, scale=49.0, scale_std=12.25, min_molecules_per_cell=30)[1];\n",
    "        B.bmm!(bm_data, n_iters=400, new_component_frac=0.3, min_molecules_per_cell=30, assignment_history_depth=100, verbose=false);\n",
    "        res = bm_data.assignment, B.estimate_assignment_by_history(bm_data)\n",
    "        bm_data = nothing\n",
    "        return res\n",
    "#         return bm_data\n",
    "    end\n",
    "end;"
   ]
  },
  {
   "cell_type": "code",
   "execution_count": 35,
   "metadata": {},
   "outputs": [
    {
     "name": "stdout",
     "output_type": "stream",
     "text": [
      "  0.416629 seconds (92.56 k allocations: 625.666 MiB, 4.51% gc time)\n",
      "  0.298680 seconds (92.52 k allocations: 554.792 MiB, 1.61% gc time)\n",
      "  0.265653 seconds (95.52 k allocations: 625.761 MiB, 4.20% gc time)\n",
      "  0.220280 seconds (95.50 k allocations: 554.884 MiB, 5.92% gc time)\n"
     ]
    }
   ],
   "source": [
    "raw_assignments = getindex.(assignments, 1);\n",
    "avg_assignments = getindex.(getindex.(assignments, 2), 1);\n",
    "\n",
    "@time nmi_raw = vcat([Float64[Clustering.mutualinfo(raw_assignments[i], raw_assignments[j]) for j in 1:(i-1)] for i in 1:length(avg_assignments)]...);\n",
    "@time nmi_avg = vcat([Float64[Clustering.mutualinfo(avg_assignments[i], avg_assignments[j]) for j in 1:(i-1)] for i in 1:length(avg_assignments)]...);\n",
    "\n",
    "@time ari_raw = vcat([Float64[Clustering.randindex(raw_assignments[i], raw_assignments[j])[1] for j in 1:(i-1)] for i in 1:length(avg_assignments)]...);\n",
    "@time ari_avg = vcat([Float64[Clustering.randindex(avg_assignments[i], avg_assignments[j])[1] for j in 1:(i-1)] for i in 1:length(avg_assignments)]...);"
   ]
  },
  {
   "cell_type": "code",
   "execution_count": 36,
   "metadata": {},
   "outputs": [
    {
     "data": {
      "image/png": "[encoded data removed]"
     },
     "metadata": {},
     "output_type": "display_data"
    },
    {
     "data": {
      "text/plain": [
       "RObject{VecSxp}\n"
      ]
     },
     "execution_count": 36,
     "metadata": {},
     "output_type": "execute_result"
    }
   ],
   "source": [
    "p_df_iss = vcat([DataFrame(:Metric => m, :Type => t, :Value => v, :Protocol => \"ISS\") \n",
    "        for (m, t, v) in zip(repeat([\"Mutual Information\", \"Rand Index\"], inner=2), repeat([\"Raw\", \"Averaged\"], outer=2), [nmi_raw, nmi_avg, ari_raw, ari_avg])]...);\n",
    "\n",
    "CSV.write(\"../cache/stability_df_iss.csv\", p_df_iss)\n",
    "\n",
    "R\"\"\"\n",
    "ggplot($p_df_iss, aes(x=Metric, y=Value, color=Type)) + geom_boxplot() + theme(legend.position=c(0.01, 0.01), legend.justification=c(0, 0))\n",
    "\"\"\""
   ]
  },
  {
   "cell_type": "markdown",
   "metadata": {
    "toc-hr-collapsed": true,
    "toc-nb-collapsed": true
   },
   "source": [
    "## STARmap"
   ]
  },
  {
   "cell_type": "code",
   "execution_count": 3,
   "metadata": {},
   "outputs": [],
   "source": [
    "df_spatial, gene_names = B.load_df(\"/home/vpetukhov/spatial/Benchmarking/run_results/star_map_vis_1020/segmentation.csv\");"
   ]
  },
  {
   "cell_type": "code",
   "execution_count": 4,
   "metadata": {},
   "outputs": [
    {
     "name": "stderr",
     "output_type": "stream",
     "text": [
      "┌ Info: Estimate confidence per molecule\n",
      "└ @ Baysor /home/vpetukhov/.julia/dev/Baysor/src/data_processing/initialization.jl:231\n",
      "┌ Info: Done\n",
      "└ @ Baysor /home/vpetukhov/.julia/dev/Baysor/src/data_processing/initialization.jl:234\n",
      "┌ Info: #frames: 1; mean number of molecules per frame: 1.224917e6.\n",
      "└ @ Baysor /home/vpetukhov/.julia/dev/Baysor/src/data_processing/initialization.jl:238\n",
      "┌ Info: Initializing algorithm. Scale: 100.0, scale std: 25.0, initial #clusters: 81660.\n",
      "└ @ Baysor /home/vpetukhov/.julia/dev/Baysor/src/data_processing/initialization.jl:292\n"
     ]
    },
    {
     "name": "stdout",
     "output_type": "stream",
     "text": [
      "250.715465 seconds (287.09 M allocations: 79.772 GiB, 3.81% gc time)\n"
     ]
    }
   ],
   "source": [
    "@time bm_data = B.initial_distribution_arr(df_spatial; n_frames=1, scale=100.0, scale_std=\"25%\", min_molecules_per_cell=30)[1];"
   ]
  },
  {
   "cell_type": "code",
   "execution_count": 6,
   "metadata": {},
   "outputs": [],
   "source": [
    "# @everywhere df_spatial, gene_names = B.load_df(\"/home/vpetukhov/spatial/Benchmarking/run_results/star_map_vis_1020/segmentation.csv\");"
   ]
  },
  {
   "cell_type": "code",
   "execution_count": 13,
   "metadata": {},
   "outputs": [],
   "source": [
    "@everywhere bm_data = $bm_data;"
   ]
  },
  {
   "cell_type": "code",
   "execution_count": 14,
   "metadata": {},
   "outputs": [
    {
     "name": "stderr",
     "output_type": "stream",
     "text": [
      "\u001b[32mProgress: 100%|█████████████████████████████████████████| Time: 0:22:05\u001b[39m\n"
     ]
    }
   ],
   "source": [
    "assignments = @showprogress pmap(1:12) do i\n",
    "    with_logger(NullLogger()) do\n",
    "        Random.seed!(i)\n",
    "        \n",
    "#         bm_data = B.initial_distribution_arr(df_spatial; n_frames=1, scale=100.0, scale_std=\"25%\", min_molecules_per_cell=30)[1];\n",
    "        bdr = deepcopy(bm_data)\n",
    "        B.bmm!(bdr, n_iters=400, new_component_frac=0.3, min_molecules_per_cell=30, assignment_history_depth=100, verbose=false);\n",
    "        res = bdr.assignment, B.estimate_assignment_by_history(bdr)\n",
    "        GC.gc()\n",
    "        return res\n",
    "#         return bm_data\n",
    "    end\n",
    "end;"
   ]
  },
  {
   "cell_type": "code",
   "execution_count": 15,
   "metadata": {},
   "outputs": [
    {
     "name": "stdout",
     "output_type": "stream",
     "text": [
      " 52.963856 seconds (382.69 k allocations: 7.869 GiB, 86.04% gc time)\n",
      "  2.348824 seconds (88.58 k allocations: 4.359 GiB, 8.46% gc time)\n",
      "  3.480640 seconds (266.93 k allocations: 7.864 GiB, 5.80% gc time)\n",
      "  1.672850 seconds (89.71 k allocations: 4.359 GiB, 11.92% gc time)\n"
     ]
    }
   ],
   "source": [
    "raw_assignments = getindex.(assignments, 1);\n",
    "avg_assignments = getindex.(getindex.(assignments, 2), 1);\n",
    "\n",
    "@time nmi_raw = vcat([Float64[Clustering.mutualinfo(raw_assignments[i], raw_assignments[j]) for j in 1:(i-1)] for i in 1:length(avg_assignments)]...);\n",
    "@time nmi_avg = vcat([Float64[Clustering.mutualinfo(avg_assignments[i], avg_assignments[j]) for j in 1:(i-1)] for i in 1:length(avg_assignments)]...);\n",
    "\n",
    "@time ari_raw = vcat([Float64[Clustering.randindex(raw_assignments[i], raw_assignments[j])[1] for j in 1:(i-1)] for i in 1:length(avg_assignments)]...);\n",
    "@time ari_avg = vcat([Float64[Clustering.randindex(avg_assignments[i], avg_assignments[j])[1] for j in 1:(i-1)] for i in 1:length(avg_assignments)]...);"
   ]
  },
  {
   "cell_type": "code",
   "execution_count": 17,
   "metadata": {},
   "outputs": [
    {
     "data": {
      "image/png": "[encoded data removed]"
     },
     "metadata": {},
     "output_type": "display_data"
    },
    {
     "data": {
      "text/plain": [
       "RObject{VecSxp}\n"
      ]
     },
     "execution_count": 17,
     "metadata": {},
     "output_type": "execute_result"
    }
   ],
   "source": [
    "p_df_starmap = vcat([DataFrame(:Metric => m, :Type => t, :Value => v, :Protocol => \"STARmap\") \n",
    "        for (m, t, v) in zip(repeat([\"Mutual Information\", \"Rand Index\"], inner=2), repeat([\"Raw\", \"Averaged\"], outer=2), [nmi_raw, nmi_avg, ari_raw, ari_avg])]...);\n",
    "\n",
    "CSV.write(\"../cache/stability_df_starmap.csv\", p_df_starmap)\n",
    "\n",
    "R\"\"\"\n",
    "ggplot($p_df_starmap, aes(x=Metric, y=Value, color=Type)) + geom_boxplot() + theme(legend.position=c(0.01, 0.01), legend.justification=c(0, 0))\n",
    "\"\"\""
   ]
  },
  {
   "cell_type": "markdown",
   "metadata": {},
   "source": [
    "## MERFISH"
   ]
  },
  {
   "cell_type": "code",
   "execution_count": 2,
   "metadata": {},
   "outputs": [],
   "source": [
    "df_spatial, gene_names = B.load_df(\"/home/vpetukhov/spatial/Benchmarking/run_results/merfish_moffit/segmentation.csv\");"
   ]
  },
  {
   "cell_type": "code",
   "execution_count": 3,
   "metadata": {},
   "outputs": [
    {
     "name": "stderr",
     "output_type": "stream",
     "text": [
      "┌ Info: Estimate confidence per molecule\n",
      "└ @ Baysor /home/vpetukhov/.julia/dev/Baysor/src/data_processing/initialization.jl:180\n",
      "┌ Info: Done\n",
      "└ @ Baysor /home/vpetukhov/.julia/dev/Baysor/src/data_processing/initialization.jl:183\n",
      "┌ Info: #frames: 1; mean number of molecules per frame: 3.73936e6.\n",
      "└ @ Baysor /home/vpetukhov/.julia/dev/Baysor/src/data_processing/initialization.jl:188\n",
      "┌ Info: Initializing algorithm. Scale: 6.16, scale std: 1.54, initial #clusters: 249290.\n",
      "└ @ Baysor /home/vpetukhov/.julia/dev/Baysor/src/data_processing/initialization.jl:195\n"
     ]
    },
    {
     "name": "stdout",
     "output_type": "stream",
     "text": [
      "208.817858 seconds (745.46 M allocations: 104.011 GiB, 12.52% gc time)\n"
     ]
    }
   ],
   "source": [
    "@time bm_data = B.initial_distribution_arr(df_spatial; n_frames=1, scale=6.16, scale_std=\"25%\", min_molecules_per_cell=30)[1];"
   ]
  },
  {
   "cell_type": "code",
   "execution_count": 6,
   "metadata": {},
   "outputs": [],
   "source": [
    "@everywhere bm_data = $bm_data;"
   ]
  },
  {
   "cell_type": "code",
   "execution_count": 7,
   "metadata": {},
   "outputs": [
    {
     "name": "stderr",
     "output_type": "stream",
     "text": [
      "\u001b[32mProgress: 100%|█████████████████████████████████████████| Time: 6:13:36\u001b[39m\n"
     ]
    }
   ],
   "source": [
    "assignments = @showprogress pmap(1:10) do i\n",
    "    with_logger(NullLogger()) do\n",
    "        Random.seed!(i)\n",
    "\n",
    "#         bm_data = B.initial_distribution_arr(df_spatial; n_frames=1, scale=100.0, scale_std=\"25%\", min_molecules_per_cell=30)[1];\n",
    "        bdr = deepcopy(bm_data)\n",
    "        B.bmm!(bdr, n_iters=400, new_component_frac=0.3, min_molecules_per_cell=30, assignment_history_depth=100, verbose=false);\n",
    "        res = bdr.assignment, B.estimate_assignment_by_history(bdr)\n",
    "        GC.gc()\n",
    "        return res\n",
    "#         return bm_data\n",
    "    end\n",
    "end;"
   ]
  },
  {
   "cell_type": "code",
   "execution_count": 8,
   "metadata": {},
   "outputs": [
    {
     "name": "stdout",
     "output_type": "stream",
     "text": [
      " 72.085519 seconds (386.88 k allocations: 96.531 GiB, 6.68% gc time)\n",
      " 49.580850 seconds (88.31 k allocations: 75.110 GiB, 8.26% gc time)\n",
      " 53.449874 seconds (266.55 k allocations: 96.525 GiB, 6.78% gc time)\n",
      " 43.867318 seconds (89.33 k allocations: 75.110 GiB, 7.03% gc time)\n"
     ]
    }
   ],
   "source": [
    "raw_assignments = getindex.(assignments, 1);\n",
    "avg_assignments = getindex.(getindex.(assignments, 2), 1);\n",
    "\n",
    "@time nmi_raw = vcat([Float64[Clustering.mutualinfo(raw_assignments[i], raw_assignments[j]) for j in 1:(i-1)] for i in 1:length(avg_assignments)]...);\n",
    "@time nmi_avg = vcat([Float64[Clustering.mutualinfo(avg_assignments[i], avg_assignments[j]) for j in 1:(i-1)] for i in 1:length(avg_assignments)]...);\n",
    "\n",
    "@time ari_raw = vcat([Float64[Clustering.randindex(raw_assignments[i], raw_assignments[j])[1] for j in 1:(i-1)] for i in 1:length(avg_assignments)]...);\n",
    "@time ari_avg = vcat([Float64[Clustering.randindex(avg_assignments[i], avg_assignments[j])[1] for j in 1:(i-1)] for i in 1:length(avg_assignments)]...);"
   ]
  },
  {
   "cell_type": "code",
   "execution_count": 11,
   "metadata": {},
   "outputs": [
    {
     "data": {
      "image/png": "[encoded data removed]"
     },
     "metadata": {},
     "output_type": "display_data"
    },
    {
     "data": {
      "text/plain": [
       "RObject{VecSxp}\n"
      ]
     },
     "execution_count": 11,
     "metadata": {},
     "output_type": "execute_result"
    }
   ],
   "source": [
    "p_df_merfish = vcat([DataFrame(:Metric => m, :Type => t, :Value => v, :Protocol => \"MERFISH\") \n",
    "        for (m, t, v) in zip(repeat([\"Mutual Information\", \"Rand Index\"], inner=2), repeat([\"Raw\", \"Averaged\"], outer=2), [nmi_raw, nmi_avg, ari_raw, ari_avg])]...);\n",
    "\n",
    "CSV.write(\"../cache/stability_df_merfish.csv\", p_df_merfish)\n",
    "\n",
    "R\"\"\"\n",
    "ggplot($p_df_merfish, aes(x=Metric, y=Value, color=Type)) + geom_boxplot() + theme(legend.position=c(0.01, 0.01), legend.justification=c(0, 0))\n",
    "\"\"\""
   ]
  },
  {
   "cell_type": "markdown",
   "metadata": {},
   "source": [
    "## Aggregate"
   ]
  },
  {
   "cell_type": "code",
   "execution_count": 3,
   "metadata": {},
   "outputs": [
    {
     "name": "stdout",
     "output_type": "stream",
     "text": [
      "  9.800966 seconds (22.36 M allocations: 1.073 GiB, 4.38% gc time)\n"
     ]
    }
   ],
   "source": [
    "@time met_df = vcat(CSV.read.([\"../cache/stability_df_merfish.csv\", \"../cache/stability_df_iss.csv\", \n",
    "            \"../cache/stability_df_osm.csv\", \"../cache/stability_df_starmap.csv\"])...);"
   ]
  },
  {
   "cell_type": "code",
   "execution_count": 6,
   "metadata": {},
   "outputs": [
    {
     "data": {
      "image/svg+xml": [
       "<?xml version=\"1.0\" encoding=\"UTF-8\"?>\n",
       "<svg xmlns=\"http://www.w3.org/2000/svg\" xmlns:xlink=\"http://www.w3.org/1999/xlink\" width=\"576pt\" height=\"216pt\" viewBox=\"0 0 576 216\" version=\"1.1\">\n",
       "<defs>\n",
       "<g>\n",
       "<symbol overflow=\"visible\" id=\"glyphtF7SQCb30-0\">\n",
       "<path style=\"stroke:none;\" d=\"M 1.09375 0 L 1.09375 -5.5 L 5.5 -5.5 L 5.5 0 Z M 1.234375 -0.140625 L 5.359375 -0.140625 L 5.359375 -5.359375 L 1.234375 -5.359375 Z M 1.234375 -0.140625 \"/>\n",
       "</symbol>\n",
       "<symbol overflow=\"visible\" id=\"glyphtF7SQCb30-1\">\n",
       "<path style=\"stroke:none;\" d=\"M 0.359375 -3.109375 C 0.359375 -3.847656 0.4375 -4.441406 0.59375 -4.890625 C 0.75 -5.347656 0.976562 -5.703125 1.28125 -5.953125 C 1.582031 -6.203125 1.960938 -6.328125 2.421875 -6.328125 C 2.753906 -6.328125 3.046875 -6.257812 3.296875 -6.125 C 3.554688 -5.988281 3.769531 -5.789062 3.9375 -5.53125 C 4.101562 -5.269531 4.234375 -4.957031 4.328125 -4.59375 C 4.421875 -4.226562 4.46875 -3.734375 4.46875 -3.109375 C 4.46875 -2.367188 4.390625 -1.769531 4.234375 -1.3125 C 4.085938 -0.863281 3.863281 -0.515625 3.5625 -0.265625 C 3.257812 -0.015625 2.878906 0.109375 2.421875 0.109375 C 1.804688 0.109375 1.328125 -0.109375 0.984375 -0.546875 C 0.566406 -1.066406 0.359375 -1.921875 0.359375 -3.109375 Z M 1.15625 -3.109375 C 1.15625 -2.078125 1.273438 -1.390625 1.515625 -1.046875 C 1.765625 -0.703125 2.066406 -0.53125 2.421875 -0.53125 C 2.773438 -0.53125 3.070312 -0.703125 3.3125 -1.046875 C 3.550781 -1.390625 3.671875 -2.078125 3.671875 -3.109375 C 3.671875 -4.140625 3.550781 -4.828125 3.3125 -5.171875 C 3.070312 -5.515625 2.769531 -5.6875 2.40625 -5.6875 C 2.050781 -5.6875 1.769531 -5.535156 1.5625 -5.234375 C 1.289062 -4.847656 1.15625 -4.140625 1.15625 -3.109375 Z M 1.15625 -3.109375 \"/>\n",
       "</symbol>\n",
       "<symbol overflow=\"visible\" id=\"glyphtF7SQCb30-2\">\n",
       "<path style=\"stroke:none;\" d=\"M 0.796875 0 L 0.796875 -0.875 L 1.671875 -0.875 L 1.671875 0 Z M 0.796875 0 \"/>\n",
       "</symbol>\n",
       "<symbol overflow=\"visible\" id=\"glyphtF7SQCb30-3\">\n",
       "<path style=\"stroke:none;\" d=\"M 1.5625 -3.421875 C 1.238281 -3.535156 1 -3.703125 0.84375 -3.921875 C 0.6875 -4.140625 0.609375 -4.398438 0.609375 -4.703125 C 0.609375 -5.160156 0.769531 -5.546875 1.09375 -5.859375 C 1.425781 -6.171875 1.867188 -6.328125 2.421875 -6.328125 C 2.972656 -6.328125 3.414062 -6.164062 3.75 -5.84375 C 4.082031 -5.519531 4.25 -5.128906 4.25 -4.671875 C 4.25 -4.378906 4.171875 -4.125 4.015625 -3.90625 C 3.859375 -3.695312 3.625 -3.535156 3.3125 -3.421875 C 3.707031 -3.285156 4.003906 -3.078125 4.203125 -2.796875 C 4.398438 -2.523438 4.5 -2.191406 4.5 -1.796875 C 4.5 -1.265625 4.304688 -0.8125 3.921875 -0.4375 C 3.546875 -0.0703125 3.050781 0.109375 2.4375 0.109375 C 1.8125 0.109375 1.304688 -0.0703125 0.921875 -0.4375 C 0.546875 -0.8125 0.359375 -1.273438 0.359375 -1.828125 C 0.359375 -2.234375 0.460938 -2.570312 0.671875 -2.84375 C 0.878906 -3.125 1.175781 -3.316406 1.5625 -3.421875 Z M 1.40625 -4.71875 C 1.40625 -4.425781 1.5 -4.1875 1.6875 -4 C 1.875 -3.8125 2.125 -3.71875 2.4375 -3.71875 C 2.726562 -3.71875 2.96875 -3.8125 3.15625 -4 C 3.351562 -4.1875 3.453125 -4.414062 3.453125 -4.6875 C 3.453125 -4.96875 3.351562 -5.203125 3.15625 -5.390625 C 2.957031 -5.585938 2.710938 -5.6875 2.421875 -5.6875 C 2.128906 -5.6875 1.882812 -5.59375 1.6875 -5.40625 C 1.5 -5.21875 1.40625 -4.988281 1.40625 -4.71875 Z M 1.15625 -1.8125 C 1.15625 -1.59375 1.207031 -1.378906 1.3125 -1.171875 C 1.414062 -0.972656 1.566406 -0.816406 1.765625 -0.703125 C 1.972656 -0.585938 2.195312 -0.53125 2.4375 -0.53125 C 2.8125 -0.53125 3.117188 -0.644531 3.359375 -0.875 C 3.597656 -1.113281 3.71875 -1.421875 3.71875 -1.796875 C 3.71875 -2.160156 3.59375 -2.460938 3.34375 -2.703125 C 3.09375 -2.953125 2.78125 -3.078125 2.40625 -3.078125 C 2.050781 -3.078125 1.753906 -2.957031 1.515625 -2.71875 C 1.273438 -2.476562 1.15625 -2.175781 1.15625 -1.8125 Z M 1.15625 -1.8125 \"/>\n",
       "</symbol>\n",
       "<symbol overflow=\"visible\" id=\"glyphtF7SQCb30-4\">\n",
       "<path style=\"stroke:none;\" d=\"M 0.359375 -1.65625 L 1.171875 -1.71875 C 1.234375 -1.320312 1.375 -1.023438 1.59375 -0.828125 C 1.8125 -0.628906 2.078125 -0.53125 2.390625 -0.53125 C 2.765625 -0.53125 3.078125 -0.671875 3.328125 -0.953125 C 3.585938 -1.234375 3.71875 -1.601562 3.71875 -2.0625 C 3.71875 -2.507812 3.59375 -2.859375 3.34375 -3.109375 C 3.101562 -3.359375 2.78125 -3.484375 2.375 -3.484375 C 2.125 -3.484375 1.898438 -3.425781 1.703125 -3.3125 C 1.503906 -3.207031 1.347656 -3.0625 1.234375 -2.875 L 0.5 -2.984375 L 1.109375 -6.21875 L 4.25 -6.21875 L 4.25 -5.46875 L 1.734375 -5.46875 L 1.390625 -3.78125 C 1.765625 -4.039062 2.160156 -4.171875 2.578125 -4.171875 C 3.128906 -4.171875 3.59375 -3.976562 3.96875 -3.59375 C 4.351562 -3.21875 4.546875 -2.734375 4.546875 -2.140625 C 4.546875 -1.566406 4.378906 -1.070312 4.046875 -0.65625 C 3.640625 -0.144531 3.085938 0.109375 2.390625 0.109375 C 1.816406 0.109375 1.347656 -0.0507812 0.984375 -0.375 C 0.617188 -0.695312 0.410156 -1.125 0.359375 -1.65625 Z M 0.359375 -1.65625 \"/>\n",
       "</symbol>\n",
       "<symbol overflow=\"visible\" id=\"glyphtF7SQCb30-5\">\n",
       "<path style=\"stroke:none;\" d=\"M 0.484375 -1.453125 L 1.21875 -1.53125 C 1.28125 -1.175781 1.398438 -0.921875 1.578125 -0.765625 C 1.753906 -0.609375 1.984375 -0.53125 2.265625 -0.53125 C 2.503906 -0.53125 2.710938 -0.582031 2.890625 -0.6875 C 3.066406 -0.800781 3.210938 -0.945312 3.328125 -1.125 C 3.441406 -1.3125 3.535156 -1.554688 3.609375 -1.859375 C 3.691406 -2.171875 3.734375 -2.488281 3.734375 -2.8125 C 3.734375 -2.84375 3.734375 -2.894531 3.734375 -2.96875 C 3.578125 -2.71875 3.363281 -2.515625 3.09375 -2.359375 C 2.832031 -2.210938 2.546875 -2.140625 2.234375 -2.140625 C 1.710938 -2.140625 1.269531 -2.328125 0.90625 -2.703125 C 0.539062 -3.078125 0.359375 -3.578125 0.359375 -4.203125 C 0.359375 -4.835938 0.546875 -5.347656 0.921875 -5.734375 C 1.304688 -6.128906 1.78125 -6.328125 2.34375 -6.328125 C 2.75 -6.328125 3.125 -6.210938 3.46875 -5.984375 C 3.8125 -5.765625 4.066406 -5.453125 4.234375 -5.046875 C 4.410156 -4.640625 4.5 -4.050781 4.5 -3.28125 C 4.5 -2.476562 4.410156 -1.835938 4.234375 -1.359375 C 4.066406 -0.878906 3.8125 -0.515625 3.46875 -0.265625 C 3.125 -0.015625 2.71875 0.109375 2.25 0.109375 C 1.757812 0.109375 1.359375 -0.0234375 1.046875 -0.296875 C 0.734375 -0.578125 0.546875 -0.960938 0.484375 -1.453125 Z M 3.640625 -4.234375 C 3.640625 -4.679688 3.519531 -5.035156 3.28125 -5.296875 C 3.050781 -5.554688 2.769531 -5.6875 2.4375 -5.6875 C 2.09375 -5.6875 1.789062 -5.546875 1.53125 -5.265625 C 1.28125 -4.984375 1.15625 -4.617188 1.15625 -4.171875 C 1.15625 -3.765625 1.273438 -3.4375 1.515625 -3.1875 C 1.765625 -2.9375 2.066406 -2.8125 2.421875 -2.8125 C 2.773438 -2.8125 3.066406 -2.9375 3.296875 -3.1875 C 3.523438 -3.4375 3.640625 -3.785156 3.640625 -4.234375 Z M 3.640625 -4.234375 \"/>\n",
       "</symbol>\n",
       "<symbol overflow=\"visible\" id=\"glyphtF7SQCb30-6\">\n",
       "<path style=\"stroke:none;\" d=\"M 3.28125 0 L 2.5 0 L 2.5 -4.921875 C 2.3125 -4.742188 2.066406 -4.566406 1.765625 -4.390625 C 1.460938 -4.210938 1.191406 -4.082031 0.953125 -4 L 0.953125 -4.734375 C 1.390625 -4.941406 1.769531 -5.191406 2.09375 -5.484375 C 2.414062 -5.773438 2.644531 -6.054688 2.78125 -6.328125 L 3.28125 -6.328125 Z M 3.28125 0 \"/>\n",
       "</symbol>\n",
       "<symbol overflow=\"visible\" id=\"glyphtF7SQCb30-7\">\n",
       "<path style=\"stroke:none;\" d=\"M 0.828125 0 L 0.828125 -6.296875 L 1.65625 -6.296875 L 1.65625 0 Z M 0.828125 0 \"/>\n",
       "</symbol>\n",
       "<symbol overflow=\"visible\" id=\"glyphtF7SQCb30-8\">\n",
       "<path style=\"stroke:none;\" d=\"M 0.390625 -2.015625 L 1.1875 -2.09375 C 1.21875 -1.78125 1.300781 -1.519531 1.4375 -1.3125 C 1.570312 -1.113281 1.78125 -0.953125 2.0625 -0.828125 C 2.351562 -0.703125 2.679688 -0.640625 3.046875 -0.640625 C 3.359375 -0.640625 3.632812 -0.6875 3.875 -0.78125 C 4.125 -0.875 4.304688 -1.003906 4.421875 -1.171875 C 4.546875 -1.335938 4.609375 -1.515625 4.609375 -1.703125 C 4.609375 -1.898438 4.550781 -2.070312 4.4375 -2.21875 C 4.320312 -2.375 4.128906 -2.5 3.859375 -2.59375 C 3.691406 -2.664062 3.316406 -2.769531 2.734375 -2.90625 C 2.160156 -3.039062 1.757812 -3.171875 1.53125 -3.296875 C 1.226562 -3.453125 1.003906 -3.644531 0.859375 -3.875 C 0.710938 -4.113281 0.640625 -4.378906 0.640625 -4.671875 C 0.640625 -4.984375 0.726562 -5.273438 0.90625 -5.546875 C 1.082031 -5.828125 1.34375 -6.039062 1.6875 -6.1875 C 2.039062 -6.332031 2.429688 -6.40625 2.859375 -6.40625 C 3.316406 -6.40625 3.722656 -6.328125 4.078125 -6.171875 C 4.441406 -6.023438 4.71875 -5.804688 4.90625 -5.515625 C 5.101562 -5.222656 5.207031 -4.890625 5.21875 -4.515625 L 4.421875 -4.46875 C 4.378906 -4.863281 4.234375 -5.160156 3.984375 -5.359375 C 3.734375 -5.566406 3.367188 -5.671875 2.890625 -5.671875 C 2.378906 -5.671875 2.007812 -5.578125 1.78125 -5.390625 C 1.550781 -5.203125 1.4375 -4.976562 1.4375 -4.71875 C 1.4375 -4.5 1.519531 -4.316406 1.6875 -4.171875 C 1.84375 -4.023438 2.257812 -3.875 2.9375 -3.71875 C 3.613281 -3.5625 4.078125 -3.425781 4.328125 -3.3125 C 4.703125 -3.144531 4.972656 -2.929688 5.140625 -2.671875 C 5.316406 -2.410156 5.40625 -2.113281 5.40625 -1.78125 C 5.40625 -1.445312 5.304688 -1.128906 5.109375 -0.828125 C 4.921875 -0.535156 4.644531 -0.304688 4.28125 -0.140625 C 3.925781 0.0234375 3.523438 0.109375 3.078125 0.109375 C 2.503906 0.109375 2.023438 0.0234375 1.640625 -0.140625 C 1.253906 -0.304688 0.953125 -0.554688 0.734375 -0.890625 C 0.515625 -1.222656 0.398438 -1.597656 0.390625 -2.015625 Z M 0.390625 -2.015625 \"/>\n",
       "</symbol>\n",
       "<symbol overflow=\"visible\" id=\"glyphtF7SQCb30-9\">\n",
       "<path style=\"stroke:none;\" d=\"M 0.65625 0 L 0.65625 -6.296875 L 1.90625 -6.296875 L 3.390625 -1.84375 C 3.535156 -1.425781 3.640625 -1.113281 3.703125 -0.90625 C 3.773438 -1.132812 3.882812 -1.472656 4.03125 -1.921875 L 5.546875 -6.296875 L 6.65625 -6.296875 L 6.65625 0 L 5.859375 0 L 5.859375 -5.265625 L 4.03125 0 L 3.28125 0 L 1.453125 -5.359375 L 1.453125 0 Z M 0.65625 0 \"/>\n",
       "</symbol>\n",
       "<symbol overflow=\"visible\" id=\"glyphtF7SQCb30-10\">\n",
       "<path style=\"stroke:none;\" d=\"M 0.703125 0 L 0.703125 -6.296875 L 5.25 -6.296875 L 5.25 -5.546875 L 1.53125 -5.546875 L 1.53125 -3.625 L 5.015625 -3.625 L 5.015625 -2.890625 L 1.53125 -2.890625 L 1.53125 -0.75 L 5.390625 -0.75 L 5.390625 0 Z M 0.703125 0 \"/>\n",
       "</symbol>\n",
       "<symbol overflow=\"visible\" id=\"glyphtF7SQCb30-11\">\n",
       "<path style=\"stroke:none;\" d=\"M 0.6875 0 L 0.6875 -6.296875 L 3.484375 -6.296875 C 4.046875 -6.296875 4.472656 -6.238281 4.765625 -6.125 C 5.054688 -6.007812 5.285156 -5.804688 5.453125 -5.515625 C 5.628906 -5.234375 5.71875 -4.921875 5.71875 -4.578125 C 5.71875 -4.128906 5.570312 -3.75 5.28125 -3.4375 C 5 -3.132812 4.554688 -2.941406 3.953125 -2.859375 C 4.171875 -2.753906 4.335938 -2.648438 4.453125 -2.546875 C 4.691406 -2.328125 4.921875 -2.050781 5.140625 -1.71875 L 6.234375 0 L 5.1875 0 L 4.359375 -1.3125 C 4.117188 -1.6875 3.914062 -1.972656 3.75 -2.171875 C 3.59375 -2.378906 3.453125 -2.519531 3.328125 -2.59375 C 3.210938 -2.675781 3.085938 -2.734375 2.953125 -2.765625 C 2.859375 -2.785156 2.703125 -2.796875 2.484375 -2.796875 L 1.53125 -2.796875 L 1.53125 0 Z M 1.53125 -3.515625 L 3.3125 -3.515625 C 3.695312 -3.515625 3.992188 -3.550781 4.203125 -3.625 C 4.421875 -3.707031 4.582031 -3.835938 4.6875 -4.015625 C 4.800781 -4.191406 4.859375 -4.378906 4.859375 -4.578125 C 4.859375 -4.878906 4.75 -5.125 4.53125 -5.3125 C 4.320312 -5.5 3.984375 -5.59375 3.515625 -5.59375 L 1.53125 -5.59375 Z M 1.53125 -3.515625 \"/>\n",
       "</symbol>\n",
       "<symbol overflow=\"visible\" id=\"glyphtF7SQCb30-12\">\n",
       "<path style=\"stroke:none;\" d=\"M 0.71875 0 L 0.71875 -6.296875 L 4.96875 -6.296875 L 4.96875 -5.546875 L 1.5625 -5.546875 L 1.5625 -3.609375 L 4.515625 -3.609375 L 4.515625 -2.859375 L 1.5625 -2.859375 L 1.5625 0 Z M 0.71875 0 \"/>\n",
       "</symbol>\n",
       "<symbol overflow=\"visible\" id=\"glyphtF7SQCb30-13\">\n",
       "<path style=\"stroke:none;\" d=\"M 0.703125 0 L 0.703125 -6.296875 L 1.53125 -6.296875 L 1.53125 -3.71875 L 4.8125 -3.71875 L 4.8125 -6.296875 L 5.640625 -6.296875 L 5.640625 0 L 4.8125 0 L 4.8125 -2.96875 L 1.53125 -2.96875 L 1.53125 0 Z M 0.703125 0 \"/>\n",
       "</symbol>\n",
       "<symbol overflow=\"visible\" id=\"glyphtF7SQCb30-14\">\n",
       "<path style=\"stroke:none;\" d=\"M 0.296875 -2.28125 C 0.296875 -3.125 0.53125 -3.75 1 -4.15625 C 1.382812 -4.5 1.863281 -4.671875 2.4375 -4.671875 C 3.0625 -4.671875 3.570312 -4.460938 3.96875 -4.046875 C 4.363281 -3.640625 4.5625 -3.070312 4.5625 -2.34375 C 4.5625 -1.757812 4.472656 -1.296875 4.296875 -0.953125 C 4.117188 -0.617188 3.863281 -0.359375 3.53125 -0.171875 C 3.195312 0.0117188 2.832031 0.109375 2.4375 0.109375 C 1.789062 0.109375 1.269531 -0.09375 0.875 -0.5 C 0.488281 -0.914062 0.296875 -1.507812 0.296875 -2.28125 Z M 1.09375 -2.28125 C 1.09375 -1.695312 1.21875 -1.257812 1.46875 -0.96875 C 1.71875 -0.675781 2.039062 -0.53125 2.4375 -0.53125 C 2.8125 -0.53125 3.125 -0.675781 3.375 -0.96875 C 3.632812 -1.257812 3.765625 -1.707031 3.765625 -2.3125 C 3.765625 -2.875 3.632812 -3.300781 3.375 -3.59375 C 3.125 -3.882812 2.8125 -4.03125 2.4375 -4.03125 C 2.039062 -4.03125 1.71875 -3.882812 1.46875 -3.59375 C 1.21875 -3.300781 1.09375 -2.863281 1.09375 -2.28125 Z M 1.09375 -2.28125 \"/>\n",
       "</symbol>\n",
       "<symbol overflow=\"visible\" id=\"glyphtF7SQCb30-15\">\n",
       "<path style=\"stroke:none;\" d=\"M 0.265625 -1.359375 L 1.03125 -1.484375 C 1.070312 -1.171875 1.191406 -0.929688 1.390625 -0.765625 C 1.585938 -0.609375 1.863281 -0.53125 2.21875 -0.53125 C 2.570312 -0.53125 2.832031 -0.601562 3 -0.75 C 3.175781 -0.894531 3.265625 -1.066406 3.265625 -1.265625 C 3.265625 -1.429688 3.1875 -1.566406 3.03125 -1.671875 C 2.925781 -1.742188 2.664062 -1.832031 2.25 -1.9375 C 1.675781 -2.070312 1.28125 -2.191406 1.0625 -2.296875 C 0.84375 -2.410156 0.675781 -2.554688 0.5625 -2.734375 C 0.457031 -2.921875 0.40625 -3.125 0.40625 -3.34375 C 0.40625 -3.550781 0.445312 -3.738281 0.53125 -3.90625 C 0.625 -4.082031 0.753906 -4.226562 0.921875 -4.34375 C 1.035156 -4.4375 1.195312 -4.515625 1.40625 -4.578125 C 1.613281 -4.640625 1.835938 -4.671875 2.078125 -4.671875 C 2.429688 -4.671875 2.742188 -4.617188 3.015625 -4.515625 C 3.285156 -4.410156 3.484375 -4.269531 3.609375 -4.09375 C 3.742188 -3.914062 3.835938 -3.679688 3.890625 -3.390625 L 3.125 -3.28125 C 3.09375 -3.519531 2.992188 -3.703125 2.828125 -3.828125 C 2.660156 -3.960938 2.429688 -4.03125 2.140625 -4.03125 C 1.785156 -4.03125 1.53125 -3.96875 1.375 -3.84375 C 1.21875 -3.726562 1.140625 -3.59375 1.140625 -3.4375 C 1.140625 -3.34375 1.171875 -3.253906 1.234375 -3.171875 C 1.296875 -3.085938 1.394531 -3.019531 1.53125 -2.96875 C 1.613281 -2.9375 1.84375 -2.867188 2.21875 -2.765625 C 2.769531 -2.617188 3.148438 -2.5 3.359375 -2.40625 C 3.578125 -2.3125 3.75 -2.175781 3.875 -2 C 4 -1.820312 4.0625 -1.601562 4.0625 -1.34375 C 4.0625 -1.082031 3.984375 -0.835938 3.828125 -0.609375 C 3.679688 -0.378906 3.460938 -0.203125 3.171875 -0.078125 C 2.890625 0.0429688 2.570312 0.109375 2.21875 0.109375 C 1.625 0.109375 1.171875 -0.015625 0.859375 -0.265625 C 0.554688 -0.515625 0.359375 -0.878906 0.265625 -1.359375 Z M 0.265625 -1.359375 \"/>\n",
       "</symbol>\n",
       "<symbol overflow=\"visible\" id=\"glyphtF7SQCb30-16\">\n",
       "<path style=\"stroke:none;\" d=\"M 0.578125 0 L 0.578125 -4.5625 L 1.265625 -4.5625 L 1.265625 -3.921875 C 1.410156 -4.140625 1.601562 -4.316406 1.84375 -4.453125 C 2.082031 -4.597656 2.351562 -4.671875 2.65625 -4.671875 C 2.988281 -4.671875 3.265625 -4.597656 3.484375 -4.453125 C 3.703125 -4.316406 3.851562 -4.117188 3.9375 -3.859375 C 4.300781 -4.398438 4.773438 -4.671875 5.359375 -4.671875 C 5.804688 -4.671875 6.148438 -4.539062 6.390625 -4.28125 C 6.640625 -4.03125 6.765625 -3.644531 6.765625 -3.125 L 6.765625 0 L 5.984375 0 L 5.984375 -2.875 C 5.984375 -3.1875 5.957031 -3.410156 5.90625 -3.546875 C 5.863281 -3.679688 5.773438 -3.789062 5.640625 -3.875 C 5.515625 -3.957031 5.363281 -4 5.1875 -4 C 4.863281 -4 4.59375 -3.890625 4.375 -3.671875 C 4.164062 -3.460938 4.0625 -3.125 4.0625 -2.65625 L 4.0625 0 L 3.296875 0 L 3.296875 -2.96875 C 3.296875 -3.3125 3.226562 -3.566406 3.09375 -3.734375 C 2.96875 -3.910156 2.765625 -4 2.484375 -4 C 2.265625 -4 2.0625 -3.941406 1.875 -3.828125 C 1.695312 -3.710938 1.566406 -3.539062 1.484375 -3.3125 C 1.398438 -3.09375 1.359375 -2.773438 1.359375 -2.359375 L 1.359375 0 Z M 0.578125 0 \"/>\n",
       "</symbol>\n",
       "<symbol overflow=\"visible\" id=\"glyphtF7SQCb30-17\">\n",
       "<path style=\"stroke:none;\" d=\"M 2.28125 0 L 2.28125 -5.546875 L 0.203125 -5.546875 L 0.203125 -6.296875 L 5.203125 -6.296875 L 5.203125 -5.546875 L 3.109375 -5.546875 L 3.109375 0 Z M 2.28125 0 \"/>\n",
       "</symbol>\n",
       "<symbol overflow=\"visible\" id=\"glyphtF7SQCb30-18\">\n",
       "<path style=\"stroke:none;\" d=\"M -0.015625 0 L 2.40625 -6.296875 L 3.296875 -6.296875 L 5.875 0 L 4.9375 0 L 4.203125 -1.90625 L 1.5625 -1.90625 L 0.875 0 Z M 1.796875 -2.578125 L 3.9375 -2.578125 L 3.28125 -4.328125 C 3.082031 -4.859375 2.929688 -5.296875 2.828125 -5.640625 C 2.753906 -5.234375 2.644531 -4.832031 2.5 -4.4375 Z M 1.796875 -2.578125 \"/>\n",
       "</symbol>\n",
       "<symbol overflow=\"visible\" id=\"glyphtF7SQCb30-19\">\n",
       "<path style=\"stroke:none;\" d=\"M 3.5625 -0.5625 C 3.269531 -0.320312 2.988281 -0.148438 2.71875 -0.046875 C 2.457031 0.0546875 2.175781 0.109375 1.875 0.109375 C 1.375 0.109375 0.988281 -0.0078125 0.71875 -0.25 C 0.445312 -0.5 0.3125 -0.816406 0.3125 -1.203125 C 0.3125 -1.421875 0.363281 -1.625 0.46875 -1.8125 C 0.570312 -2 0.703125 -2.144531 0.859375 -2.25 C 1.023438 -2.363281 1.210938 -2.453125 1.421875 -2.515625 C 1.578125 -2.554688 1.804688 -2.59375 2.109375 -2.625 C 2.734375 -2.695312 3.191406 -2.785156 3.484375 -2.890625 C 3.492188 -2.992188 3.5 -3.0625 3.5 -3.09375 C 3.5 -3.40625 3.425781 -3.628906 3.28125 -3.765625 C 3.082031 -3.941406 2.785156 -4.03125 2.390625 -4.03125 C 2.023438 -4.03125 1.753906 -3.960938 1.578125 -3.828125 C 1.410156 -3.703125 1.285156 -3.476562 1.203125 -3.15625 L 0.453125 -3.265625 C 0.515625 -3.585938 0.625 -3.847656 0.78125 -4.046875 C 0.945312 -4.242188 1.175781 -4.394531 1.46875 -4.5 C 1.769531 -4.613281 2.117188 -4.671875 2.515625 -4.671875 C 2.898438 -4.671875 3.210938 -4.625 3.453125 -4.53125 C 3.703125 -4.4375 3.882812 -4.316406 4 -4.171875 C 4.113281 -4.035156 4.191406 -3.863281 4.234375 -3.65625 C 4.265625 -3.519531 4.28125 -3.28125 4.28125 -2.9375 L 4.28125 -1.90625 C 4.28125 -1.1875 4.296875 -0.734375 4.328125 -0.546875 C 4.359375 -0.359375 4.421875 -0.175781 4.515625 0 L 3.71875 0 C 3.632812 -0.15625 3.582031 -0.34375 3.5625 -0.5625 Z M 3.484375 -2.296875 C 3.210938 -2.179688 2.796875 -2.082031 2.234375 -2 C 1.910156 -1.945312 1.679688 -1.890625 1.546875 -1.828125 C 1.421875 -1.773438 1.320312 -1.691406 1.25 -1.578125 C 1.175781 -1.472656 1.140625 -1.351562 1.140625 -1.21875 C 1.140625 -1.019531 1.21875 -0.847656 1.375 -0.703125 C 1.53125 -0.566406 1.757812 -0.5 2.0625 -0.5 C 2.363281 -0.5 2.628906 -0.5625 2.859375 -0.6875 C 3.085938 -0.820312 3.257812 -1.003906 3.375 -1.234375 C 3.445312 -1.410156 3.484375 -1.664062 3.484375 -2 Z M 3.484375 -2.296875 \"/>\n",
       "</symbol>\n",
       "<symbol overflow=\"visible\" id=\"glyphtF7SQCb30-20\">\n",
       "<path style=\"stroke:none;\" d=\"M 0.578125 1.75 L 0.578125 -4.5625 L 1.28125 -4.5625 L 1.28125 -3.96875 C 1.445312 -4.195312 1.632812 -4.367188 1.84375 -4.484375 C 2.050781 -4.609375 2.304688 -4.671875 2.609375 -4.671875 C 2.992188 -4.671875 3.332031 -4.566406 3.625 -4.359375 C 3.925781 -4.160156 4.15625 -3.878906 4.3125 -3.515625 C 4.46875 -3.148438 4.546875 -2.75 4.546875 -2.3125 C 4.546875 -1.84375 4.457031 -1.421875 4.28125 -1.046875 C 4.113281 -0.679688 3.867188 -0.394531 3.546875 -0.1875 C 3.234375 0.0078125 2.898438 0.109375 2.546875 0.109375 C 2.296875 0.109375 2.066406 0.0546875 1.859375 -0.046875 C 1.648438 -0.160156 1.484375 -0.300781 1.359375 -0.46875 L 1.359375 1.75 Z M 1.28125 -2.25 C 1.28125 -1.664062 1.398438 -1.234375 1.640625 -0.953125 C 1.878906 -0.671875 2.164062 -0.53125 2.5 -0.53125 C 2.84375 -0.53125 3.132812 -0.675781 3.375 -0.96875 C 3.625 -1.257812 3.75 -1.707031 3.75 -2.3125 C 3.75 -2.894531 3.628906 -3.332031 3.390625 -3.625 C 3.148438 -3.914062 2.863281 -4.0625 2.53125 -4.0625 C 2.207031 -4.0625 1.914062 -3.90625 1.65625 -3.59375 C 1.40625 -3.289062 1.28125 -2.84375 1.28125 -2.25 Z M 1.28125 -2.25 \"/>\n",
       "</symbol>\n",
       "<symbol overflow=\"visible\" id=\"glyphtF7SQCb30-21\">\n",
       "<path style=\"stroke:none;\" d=\"M 1.84375 0 L 0.109375 -4.5625 L 0.921875 -4.5625 L 1.90625 -1.828125 C 2.007812 -1.535156 2.109375 -1.226562 2.203125 -0.90625 C 2.265625 -1.144531 2.359375 -1.4375 2.484375 -1.78125 L 3.5 -4.5625 L 4.296875 -4.5625 L 2.5625 0 Z M 1.84375 0 \"/>\n",
       "</symbol>\n",
       "<symbol overflow=\"visible\" id=\"glyphtF7SQCb30-22\">\n",
       "<path style=\"stroke:none;\" d=\"M 3.703125 -1.46875 L 4.5 -1.375 C 4.375 -0.90625 4.140625 -0.539062 3.796875 -0.28125 C 3.460938 -0.0195312 3.03125 0.109375 2.5 0.109375 C 1.832031 0.109375 1.300781 -0.09375 0.90625 -0.5 C 0.519531 -0.914062 0.328125 -1.492188 0.328125 -2.234375 C 0.328125 -3.003906 0.519531 -3.601562 0.90625 -4.03125 C 1.300781 -4.457031 1.816406 -4.671875 2.453125 -4.671875 C 3.066406 -4.671875 3.566406 -4.460938 3.953125 -4.046875 C 4.335938 -3.628906 4.53125 -3.046875 4.53125 -2.296875 C 4.53125 -2.242188 4.523438 -2.171875 4.515625 -2.078125 L 1.125 -2.078125 C 1.144531 -1.578125 1.28125 -1.191406 1.53125 -0.921875 C 1.789062 -0.660156 2.113281 -0.53125 2.5 -0.53125 C 2.78125 -0.53125 3.019531 -0.601562 3.21875 -0.75 C 3.425781 -0.90625 3.585938 -1.144531 3.703125 -1.46875 Z M 1.15625 -2.71875 L 3.71875 -2.71875 C 3.675781 -3.101562 3.578125 -3.390625 3.421875 -3.578125 C 3.171875 -3.878906 2.851562 -4.03125 2.46875 -4.03125 C 2.101562 -4.03125 1.800781 -3.910156 1.5625 -3.671875 C 1.320312 -3.429688 1.1875 -3.113281 1.15625 -2.71875 Z M 1.15625 -2.71875 \"/>\n",
       "</symbol>\n",
       "<symbol overflow=\"visible\" id=\"glyphtF7SQCb30-23\">\n",
       "<path style=\"stroke:none;\" d=\"M 0.578125 0 L 0.578125 -4.5625 L 1.265625 -4.5625 L 1.265625 -3.875 C 1.441406 -4.195312 1.601562 -4.410156 1.75 -4.515625 C 1.90625 -4.617188 2.070312 -4.671875 2.25 -4.671875 C 2.507812 -4.671875 2.773438 -4.585938 3.046875 -4.421875 L 2.78125 -3.703125 C 2.59375 -3.804688 2.40625 -3.859375 2.21875 -3.859375 C 2.050781 -3.859375 1.898438 -3.804688 1.765625 -3.703125 C 1.628906 -3.609375 1.53125 -3.472656 1.46875 -3.296875 C 1.382812 -3.015625 1.34375 -2.710938 1.34375 -2.390625 L 1.34375 0 Z M 0.578125 0 \"/>\n",
       "</symbol>\n",
       "<symbol overflow=\"visible\" id=\"glyphtF7SQCb30-24\">\n",
       "<path style=\"stroke:none;\" d=\"M 0.4375 0.375 L 1.1875 0.484375 C 1.21875 0.722656 1.304688 0.894531 1.453125 1 C 1.640625 1.144531 1.898438 1.21875 2.234375 1.21875 C 2.597656 1.21875 2.875 1.144531 3.0625 1 C 3.257812 0.851562 3.394531 0.648438 3.46875 0.390625 C 3.5 0.234375 3.515625 -0.09375 3.515625 -0.59375 C 3.179688 -0.195312 2.757812 0 2.25 0 C 1.625 0 1.140625 -0.222656 0.796875 -0.671875 C 0.453125 -1.128906 0.28125 -1.675781 0.28125 -2.3125 C 0.28125 -2.738281 0.359375 -3.132812 0.515625 -3.5 C 0.671875 -3.875 0.898438 -4.160156 1.203125 -4.359375 C 1.503906 -4.566406 1.859375 -4.671875 2.265625 -4.671875 C 2.796875 -4.671875 3.238281 -4.453125 3.59375 -4.015625 L 3.59375 -4.5625 L 4.296875 -4.5625 L 4.296875 -0.625 C 4.296875 0.0898438 4.222656 0.597656 4.078125 0.890625 C 3.941406 1.179688 3.710938 1.410156 3.390625 1.578125 C 3.078125 1.753906 2.691406 1.84375 2.234375 1.84375 C 1.691406 1.84375 1.253906 1.71875 0.921875 1.46875 C 0.585938 1.226562 0.425781 0.863281 0.4375 0.375 Z M 1.078125 -2.359375 C 1.078125 -1.765625 1.195312 -1.328125 1.4375 -1.046875 C 1.675781 -0.773438 1.972656 -0.640625 2.328125 -0.640625 C 2.679688 -0.640625 2.976562 -0.773438 3.21875 -1.046875 C 3.457031 -1.316406 3.578125 -1.75 3.578125 -2.34375 C 3.578125 -2.894531 3.453125 -3.3125 3.203125 -3.59375 C 2.960938 -3.882812 2.664062 -4.03125 2.3125 -4.03125 C 1.96875 -4.03125 1.675781 -3.890625 1.4375 -3.609375 C 1.195312 -3.328125 1.078125 -2.910156 1.078125 -2.359375 Z M 1.078125 -2.359375 \"/>\n",
       "</symbol>\n",
       "<symbol overflow=\"visible\" id=\"glyphtF7SQCb30-25\">\n",
       "<path style=\"stroke:none;\" d=\"M 3.546875 0 L 3.546875 -0.578125 C 3.253906 -0.117188 2.828125 0.109375 2.265625 0.109375 C 1.898438 0.109375 1.5625 0.0078125 1.25 -0.1875 C 0.945312 -0.394531 0.710938 -0.675781 0.546875 -1.03125 C 0.378906 -1.394531 0.296875 -1.8125 0.296875 -2.28125 C 0.296875 -2.726562 0.367188 -3.140625 0.515625 -3.515625 C 0.671875 -3.890625 0.898438 -4.175781 1.203125 -4.375 C 1.515625 -4.570312 1.859375 -4.671875 2.234375 -4.671875 C 2.503906 -4.671875 2.742188 -4.609375 2.953125 -4.484375 C 3.171875 -4.367188 3.347656 -4.21875 3.484375 -4.03125 L 3.484375 -6.296875 L 4.25 -6.296875 L 4.25 0 Z M 1.09375 -2.28125 C 1.09375 -1.695312 1.210938 -1.257812 1.453125 -0.96875 C 1.703125 -0.675781 2 -0.53125 2.34375 -0.53125 C 2.675781 -0.53125 2.957031 -0.664062 3.1875 -0.9375 C 3.425781 -1.21875 3.546875 -1.644531 3.546875 -2.21875 C 3.546875 -2.84375 3.425781 -3.300781 3.1875 -3.59375 C 2.945312 -3.882812 2.648438 -4.03125 2.296875 -4.03125 C 1.953125 -4.03125 1.664062 -3.890625 1.4375 -3.609375 C 1.207031 -3.328125 1.09375 -2.882812 1.09375 -2.28125 Z M 1.09375 -2.28125 \"/>\n",
       "</symbol>\n",
       "<symbol overflow=\"visible\" id=\"glyphtF7SQCb30-26\">\n",
       "<path style=\"stroke:none;\" d=\"M 1.421875 0 L 0.03125 -4.5625 L 0.828125 -4.5625 L 1.546875 -1.921875 L 1.828125 -0.953125 C 1.835938 -0.992188 1.914062 -1.304688 2.0625 -1.890625 L 2.78125 -4.5625 L 3.578125 -4.5625 L 4.265625 -1.921875 L 4.484375 -1.046875 L 4.75 -1.921875 L 5.53125 -4.5625 L 6.28125 -4.5625 L 4.859375 0 L 4.0625 0 L 3.328125 -2.734375 L 3.15625 -3.515625 L 2.234375 0 Z M 1.421875 0 \"/>\n",
       "</symbol>\n",
       "<symbol overflow=\"visible\" id=\"glyphtF7SQCb31-0\">\n",
       "<path style=\"stroke:none;\" d=\"M 1.375 0 L 1.375 -6.875 L 6.875 -6.875 L 6.875 0 Z M 1.546875 -0.171875 L 6.703125 -0.171875 L 6.703125 -6.703125 L 1.546875 -6.703125 Z M 1.546875 -0.171875 \"/>\n",
       "</symbol>\n",
       "<symbol overflow=\"visible\" id=\"glyphtF7SQCb31-1\">\n",
       "<path style=\"stroke:none;\" d=\"M 0.84375 0 L 0.84375 -7.875 L 3.8125 -7.875 C 4.34375 -7.875 4.742188 -7.847656 5.015625 -7.796875 C 5.398438 -7.734375 5.722656 -7.609375 5.984375 -7.421875 C 6.242188 -7.242188 6.453125 -6.992188 6.609375 -6.671875 C 6.773438 -6.347656 6.859375 -5.988281 6.859375 -5.59375 C 6.859375 -4.925781 6.644531 -4.359375 6.21875 -3.890625 C 5.789062 -3.429688 5.019531 -3.203125 3.90625 -3.203125 L 1.890625 -3.203125 L 1.890625 0 Z M 1.890625 -4.125 L 3.921875 -4.125 C 4.597656 -4.125 5.078125 -4.25 5.359375 -4.5 C 5.640625 -4.75 5.78125 -5.101562 5.78125 -5.5625 C 5.78125 -5.894531 5.695312 -6.175781 5.53125 -6.40625 C 5.363281 -6.644531 5.144531 -6.800781 4.875 -6.875 C 4.695312 -6.914062 4.375 -6.9375 3.90625 -6.9375 L 1.890625 -6.9375 Z M 1.890625 -4.125 \"/>\n",
       "</symbol>\n",
       "<symbol overflow=\"visible\" id=\"glyphtF7SQCb31-2\">\n",
       "<path style=\"stroke:none;\" d=\"M 0.71875 0 L 0.71875 -5.703125 L 1.578125 -5.703125 L 1.578125 -4.84375 C 1.804688 -5.25 2.015625 -5.515625 2.203125 -5.640625 C 2.390625 -5.765625 2.59375 -5.828125 2.8125 -5.828125 C 3.144531 -5.828125 3.476562 -5.722656 3.8125 -5.515625 L 3.484375 -4.625 C 3.242188 -4.757812 3.003906 -4.828125 2.765625 -4.828125 C 2.554688 -4.828125 2.367188 -4.765625 2.203125 -4.640625 C 2.035156 -4.515625 1.914062 -4.335938 1.84375 -4.109375 C 1.738281 -3.765625 1.6875 -3.390625 1.6875 -2.984375 L 1.6875 0 Z M 0.71875 0 \"/>\n",
       "</symbol>\n",
       "<symbol overflow=\"visible\" id=\"glyphtF7SQCb31-3\">\n",
       "<path style=\"stroke:none;\" d=\"M 0.359375 -2.859375 C 0.359375 -3.910156 0.65625 -4.691406 1.25 -5.203125 C 1.738281 -5.617188 2.335938 -5.828125 3.046875 -5.828125 C 3.828125 -5.828125 4.460938 -5.570312 4.953125 -5.0625 C 5.453125 -4.550781 5.703125 -3.84375 5.703125 -2.9375 C 5.703125 -2.195312 5.59375 -1.613281 5.375 -1.1875 C 5.15625 -0.769531 4.832031 -0.445312 4.40625 -0.21875 C 3.988281 0.0078125 3.535156 0.125 3.046875 0.125 C 2.242188 0.125 1.59375 -0.128906 1.09375 -0.640625 C 0.601562 -1.148438 0.359375 -1.890625 0.359375 -2.859375 Z M 1.359375 -2.859375 C 1.359375 -2.117188 1.515625 -1.566406 1.828125 -1.203125 C 2.148438 -0.847656 2.554688 -0.671875 3.046875 -0.671875 C 3.523438 -0.671875 3.921875 -0.851562 4.234375 -1.21875 C 4.554688 -1.582031 4.71875 -2.140625 4.71875 -2.890625 C 4.71875 -3.585938 4.554688 -4.117188 4.234375 -4.484375 C 3.910156 -4.847656 3.515625 -5.03125 3.046875 -5.03125 C 2.554688 -5.03125 2.148438 -4.847656 1.828125 -4.484375 C 1.515625 -4.128906 1.359375 -3.585938 1.359375 -2.859375 Z M 1.359375 -2.859375 \"/>\n",
       "</symbol>\n",
       "<symbol overflow=\"visible\" id=\"glyphtF7SQCb31-4\">\n",
       "<path style=\"stroke:none;\" d=\"M 2.84375 -0.859375 L 2.96875 -0.015625 C 2.695312 0.046875 2.457031 0.078125 2.25 0.078125 C 1.894531 0.078125 1.617188 0.0195312 1.421875 -0.09375 C 1.234375 -0.207031 1.097656 -0.351562 1.015625 -0.53125 C 0.941406 -0.707031 0.90625 -1.085938 0.90625 -1.671875 L 0.90625 -4.953125 L 0.1875 -4.953125 L 0.1875 -5.703125 L 0.90625 -5.703125 L 0.90625 -7.109375 L 1.859375 -7.703125 L 1.859375 -5.703125 L 2.84375 -5.703125 L 2.84375 -4.953125 L 1.859375 -4.953125 L 1.859375 -1.609375 C 1.859375 -1.335938 1.875 -1.160156 1.90625 -1.078125 C 1.945312 -1.003906 2.003906 -0.941406 2.078125 -0.890625 C 2.160156 -0.847656 2.269531 -0.828125 2.40625 -0.828125 C 2.519531 -0.828125 2.664062 -0.835938 2.84375 -0.859375 Z M 2.84375 -0.859375 \"/>\n",
       "</symbol>\n",
       "<symbol overflow=\"visible\" id=\"glyphtF7SQCb31-5\">\n",
       "<path style=\"stroke:none;\" d=\"M 4.453125 -2.09375 L 5.390625 -1.96875 C 5.296875 -1.3125 5.03125 -0.796875 4.59375 -0.421875 C 4.164062 -0.0546875 3.644531 0.125 3.03125 0.125 C 2.25 0.125 1.617188 -0.128906 1.140625 -0.640625 C 0.671875 -1.148438 0.4375 -1.878906 0.4375 -2.828125 C 0.4375 -3.441406 0.535156 -3.976562 0.734375 -4.4375 C 0.941406 -4.90625 1.253906 -5.253906 1.671875 -5.484375 C 2.085938 -5.710938 2.539062 -5.828125 3.03125 -5.828125 C 3.644531 -5.828125 4.148438 -5.671875 4.546875 -5.359375 C 4.941406 -5.046875 5.195312 -4.601562 5.3125 -4.03125 L 4.359375 -3.890625 C 4.273438 -4.265625 4.117188 -4.546875 3.890625 -4.734375 C 3.660156 -4.929688 3.382812 -5.03125 3.0625 -5.03125 C 2.582031 -5.03125 2.1875 -4.851562 1.875 -4.5 C 1.570312 -4.15625 1.421875 -3.609375 1.421875 -2.859375 C 1.421875 -2.085938 1.566406 -1.53125 1.859375 -1.1875 C 2.148438 -0.84375 2.535156 -0.671875 3.015625 -0.671875 C 3.390625 -0.671875 3.703125 -0.785156 3.953125 -1.015625 C 4.210938 -1.242188 4.378906 -1.601562 4.453125 -2.09375 Z M 4.453125 -2.09375 \"/>\n",
       "</symbol>\n",
       "<symbol overflow=\"visible\" id=\"glyphtF7SQCb31-6\">\n",
       "<path style=\"stroke:none;\" d=\"M 0.703125 0 L 0.703125 -7.875 L 1.671875 -7.875 L 1.671875 0 Z M 0.703125 0 \"/>\n",
       "</symbol>\n",
       "<symbol overflow=\"visible\" id=\"glyphtF7SQCb31-7\">\n",
       "<path style=\"stroke:none;\" d=\"M 2.859375 0 L 2.859375 -6.9375 L 0.265625 -6.9375 L 0.265625 -7.875 L 6.5 -7.875 L 6.5 -6.9375 L 3.890625 -6.9375 L 3.890625 0 Z M 2.859375 0 \"/>\n",
       "</symbol>\n",
       "<symbol overflow=\"visible\" id=\"glyphtF7SQCb31-8\">\n",
       "<path style=\"stroke:none;\" d=\"M 0.6875 2.203125 L 0.578125 1.296875 C 0.785156 1.347656 0.96875 1.375 1.125 1.375 C 1.34375 1.375 1.515625 1.335938 1.640625 1.265625 C 1.773438 1.191406 1.878906 1.09375 1.953125 0.96875 C 2.015625 0.875 2.113281 0.632812 2.25 0.25 C 2.269531 0.195312 2.300781 0.117188 2.34375 0.015625 L 0.171875 -5.703125 L 1.21875 -5.703125 L 2.40625 -2.40625 C 2.5625 -1.976562 2.695312 -1.535156 2.8125 -1.078125 C 2.925781 -1.523438 3.0625 -1.957031 3.21875 -2.375 L 4.4375 -5.703125 L 5.40625 -5.703125 L 3.234375 0.09375 C 3.003906 0.71875 2.820312 1.148438 2.6875 1.390625 C 2.519531 1.710938 2.320312 1.945312 2.09375 2.09375 C 1.875 2.238281 1.613281 2.3125 1.3125 2.3125 C 1.125 2.3125 0.914062 2.273438 0.6875 2.203125 Z M 0.6875 2.203125 \"/>\n",
       "</symbol>\n",
       "<symbol overflow=\"visible\" id=\"glyphtF7SQCb31-9\">\n",
       "<path style=\"stroke:none;\" d=\"M 0.71875 2.1875 L 0.71875 -5.703125 L 1.609375 -5.703125 L 1.609375 -4.96875 C 1.816406 -5.25 2.050781 -5.460938 2.3125 -5.609375 C 2.570312 -5.753906 2.890625 -5.828125 3.265625 -5.828125 C 3.742188 -5.828125 4.171875 -5.703125 4.546875 -5.453125 C 4.921875 -5.203125 5.203125 -4.847656 5.390625 -4.390625 C 5.578125 -3.941406 5.671875 -3.441406 5.671875 -2.890625 C 5.671875 -2.304688 5.566406 -1.78125 5.359375 -1.3125 C 5.148438 -0.851562 4.84375 -0.5 4.4375 -0.25 C 4.039062 0 3.625 0.125 3.1875 0.125 C 2.863281 0.125 2.570312 0.0546875 2.3125 -0.078125 C 2.0625 -0.210938 1.851562 -0.382812 1.6875 -0.59375 L 1.6875 2.1875 Z M 1.59375 -2.8125 C 1.59375 -2.082031 1.742188 -1.539062 2.046875 -1.1875 C 2.347656 -0.84375 2.707031 -0.671875 3.125 -0.671875 C 3.550781 -0.671875 3.914062 -0.847656 4.21875 -1.203125 C 4.53125 -1.566406 4.6875 -2.132812 4.6875 -2.90625 C 4.6875 -3.625 4.535156 -4.164062 4.234375 -4.53125 C 3.941406 -4.894531 3.585938 -5.078125 3.171875 -5.078125 C 2.753906 -5.078125 2.382812 -4.882812 2.0625 -4.5 C 1.75 -4.113281 1.59375 -3.550781 1.59375 -2.8125 Z M 1.59375 -2.8125 \"/>\n",
       "</symbol>\n",
       "<symbol overflow=\"visible\" id=\"glyphtF7SQCb31-10\">\n",
       "<path style=\"stroke:none;\" d=\"M 4.625 -1.84375 L 5.625 -1.71875 C 5.46875 -1.132812 5.175781 -0.679688 4.75 -0.359375 C 4.320312 -0.0351562 3.78125 0.125 3.125 0.125 C 2.289062 0.125 1.628906 -0.128906 1.140625 -0.640625 C 0.648438 -1.148438 0.40625 -1.867188 0.40625 -2.796875 C 0.40625 -3.765625 0.648438 -4.507812 1.140625 -5.03125 C 1.640625 -5.5625 2.28125 -5.828125 3.0625 -5.828125 C 3.832031 -5.828125 4.457031 -5.566406 4.9375 -5.046875 C 5.414062 -4.535156 5.65625 -3.804688 5.65625 -2.859375 C 5.65625 -2.804688 5.65625 -2.722656 5.65625 -2.609375 L 1.40625 -2.609375 C 1.4375 -1.984375 1.609375 -1.503906 1.921875 -1.171875 C 2.242188 -0.835938 2.644531 -0.671875 3.125 -0.671875 C 3.476562 -0.671875 3.78125 -0.757812 4.03125 -0.9375 C 4.28125 -1.125 4.476562 -1.425781 4.625 -1.84375 Z M 1.453125 -3.40625 L 4.640625 -3.40625 C 4.597656 -3.882812 4.476562 -4.242188 4.28125 -4.484375 C 3.96875 -4.847656 3.566406 -5.03125 3.078125 -5.03125 C 2.628906 -5.03125 2.253906 -4.878906 1.953125 -4.578125 C 1.648438 -4.285156 1.484375 -3.894531 1.453125 -3.40625 Z M 1.453125 -3.40625 \"/>\n",
       "</symbol>\n",
       "<symbol overflow=\"visible\" id=\"glyphtF7SQCb32-0\">\n",
       "<path style=\"stroke:none;\" d=\"M 0 -1.375 L -6.875 -1.375 L -6.875 -6.875 L 0 -6.875 Z M -0.171875 -1.546875 L -0.171875 -6.703125 L -6.703125 -6.703125 L -6.703125 -1.546875 Z M -0.171875 -1.546875 \"/>\n",
       "</symbol>\n",
       "<symbol overflow=\"visible\" id=\"glyphtF7SQCb32-1\">\n",
       "<path style=\"stroke:none;\" d=\"M 0 -0.8125 L -7.875 -0.8125 L -7.875 -2.390625 L -2.296875 -4.25 C -1.773438 -4.414062 -1.390625 -4.539062 -1.140625 -4.625 C -1.421875 -4.71875 -1.835938 -4.859375 -2.390625 -5.046875 L -7.875 -6.921875 L -7.875 -8.328125 L 0 -8.328125 L 0 -7.328125 L -6.59375 -7.328125 L 0 -5.03125 L 0 -4.09375 L -6.703125 -1.828125 L 0 -1.828125 Z M 0 -0.8125 \"/>\n",
       "</symbol>\n",
       "<symbol overflow=\"visible\" id=\"glyphtF7SQCb32-2\">\n",
       "<path style=\"stroke:none;\" d=\"M 0 -4.46875 L -0.84375 -4.46875 C -0.195312 -4.019531 0.125 -3.414062 0.125 -2.65625 C 0.125 -2.320312 0.0585938 -2.003906 -0.0625 -1.703125 C -0.195312 -1.410156 -0.359375 -1.191406 -0.546875 -1.046875 C -0.742188 -0.910156 -0.984375 -0.816406 -1.265625 -0.765625 C -1.453125 -0.722656 -1.753906 -0.703125 -2.171875 -0.703125 L -5.703125 -0.703125 L -5.703125 -1.671875 L -2.546875 -1.671875 C -2.035156 -1.671875 -1.691406 -1.691406 -1.515625 -1.734375 C -1.265625 -1.796875 -1.066406 -1.921875 -0.921875 -2.109375 C -0.773438 -2.304688 -0.703125 -2.550781 -0.703125 -2.84375 C -0.703125 -3.132812 -0.773438 -3.40625 -0.921875 -3.65625 C -1.078125 -3.914062 -1.28125 -4.097656 -1.53125 -4.203125 C -1.789062 -4.304688 -2.160156 -4.359375 -2.640625 -4.359375 L -5.703125 -4.359375 L -5.703125 -5.328125 L 0 -5.328125 Z M 0 -4.46875 \"/>\n",
       "</symbol>\n",
       "<symbol overflow=\"visible\" id=\"glyphtF7SQCb32-3\">\n",
       "<path style=\"stroke:none;\" d=\"M -0.859375 -2.84375 L -0.015625 -2.96875 C 0.046875 -2.695312 0.078125 -2.457031 0.078125 -2.25 C 0.078125 -1.894531 0.0195312 -1.617188 -0.09375 -1.421875 C -0.207031 -1.234375 -0.351562 -1.097656 -0.53125 -1.015625 C -0.707031 -0.941406 -1.085938 -0.90625 -1.671875 -0.90625 L -4.953125 -0.90625 L -4.953125 -0.1875 L -5.703125 -0.1875 L -5.703125 -0.90625 L -7.109375 -0.90625 L -7.703125 -1.859375 L -5.703125 -1.859375 L -5.703125 -2.84375 L -4.953125 -2.84375 L -4.953125 -1.859375 L -1.609375 -1.859375 C -1.335938 -1.859375 -1.160156 -1.875 -1.078125 -1.90625 C -1.003906 -1.945312 -0.941406 -2.003906 -0.890625 -2.078125 C -0.847656 -2.160156 -0.828125 -2.269531 -0.828125 -2.40625 C -0.828125 -2.519531 -0.835938 -2.664062 -0.859375 -2.84375 Z M -0.859375 -2.84375 \"/>\n",
       "</symbol>\n",
       "<symbol overflow=\"visible\" id=\"glyphtF7SQCb32-4\">\n",
       "<path style=\"stroke:none;\" d=\"M -0.703125 -4.453125 C -0.398438 -4.085938 -0.1875 -3.738281 -0.0625 -3.40625 C 0.0585938 -3.082031 0.125 -2.726562 0.125 -2.34375 C 0.125 -1.71875 -0.0234375 -1.234375 -0.328125 -0.890625 C -0.640625 -0.554688 -1.03125 -0.390625 -1.5 -0.390625 C -1.78125 -0.390625 -2.035156 -0.453125 -2.265625 -0.578125 C -2.492188 -0.710938 -2.675781 -0.878906 -2.8125 -1.078125 C -2.957031 -1.285156 -3.066406 -1.519531 -3.140625 -1.78125 C -3.191406 -1.96875 -3.238281 -2.253906 -3.28125 -2.640625 C -3.375 -3.421875 -3.488281 -3.992188 -3.625 -4.359375 C -3.75 -4.367188 -3.832031 -4.375 -3.875 -4.375 C -4.269531 -4.375 -4.546875 -4.28125 -4.703125 -4.09375 C -4.921875 -3.851562 -5.03125 -3.488281 -5.03125 -3 C -5.03125 -2.539062 -4.953125 -2.203125 -4.796875 -1.984375 C -4.640625 -1.773438 -4.359375 -1.617188 -3.953125 -1.515625 L -4.078125 -0.5625 C -4.484375 -0.644531 -4.8125 -0.785156 -5.0625 -0.984375 C -5.3125 -1.179688 -5.5 -1.46875 -5.625 -1.84375 C -5.757812 -2.21875 -5.828125 -2.648438 -5.828125 -3.140625 C -5.828125 -3.628906 -5.769531 -4.023438 -5.65625 -4.328125 C -5.539062 -4.628906 -5.394531 -4.847656 -5.21875 -4.984375 C -5.050781 -5.128906 -4.835938 -5.234375 -4.578125 -5.296875 C -4.410156 -5.328125 -4.109375 -5.34375 -3.671875 -5.34375 L -2.390625 -5.34375 C -1.492188 -5.34375 -0.925781 -5.363281 -0.6875 -5.40625 C -0.445312 -5.445312 -0.21875 -5.53125 0 -5.65625 L 0 -4.640625 C -0.195312 -4.535156 -0.429688 -4.472656 -0.703125 -4.453125 Z M -2.859375 -4.359375 C -2.710938 -4.015625 -2.59375 -3.488281 -2.5 -2.78125 C -2.4375 -2.382812 -2.367188 -2.101562 -2.296875 -1.9375 C -2.234375 -1.78125 -2.128906 -1.65625 -1.984375 -1.5625 C -1.847656 -1.46875 -1.695312 -1.421875 -1.53125 -1.421875 C -1.269531 -1.421875 -1.050781 -1.519531 -0.875 -1.71875 C -0.707031 -1.914062 -0.625 -2.203125 -0.625 -2.578125 C -0.625 -2.953125 -0.707031 -3.28125 -0.875 -3.5625 C -1.039062 -3.851562 -1.265625 -4.070312 -1.546875 -4.21875 C -1.765625 -4.3125 -2.085938 -4.359375 -2.515625 -4.359375 Z M -2.859375 -4.359375 \"/>\n",
       "</symbol>\n",
       "<symbol overflow=\"visible\" id=\"glyphtF7SQCb32-5\">\n",
       "<path style=\"stroke:none;\" d=\"M 0 -0.703125 L -7.875 -0.703125 L -7.875 -1.671875 L 0 -1.671875 Z M 0 -0.703125 \"/>\n",
       "</symbol>\n",
       "<symbol overflow=\"visible\" id=\"glyphtF7SQCb32-6\">\n",
       "<path style=\"stroke:none;\" d=\"\"/>\n",
       "</symbol>\n",
       "<symbol overflow=\"visible\" id=\"glyphtF7SQCb32-7\">\n",
       "<path style=\"stroke:none;\" d=\"M 0 -1.03125 L -7.875 -1.03125 L -7.875 -2.0625 L 0 -2.0625 Z M 0 -1.03125 \"/>\n",
       "</symbol>\n",
       "<symbol overflow=\"visible\" id=\"glyphtF7SQCb32-8\">\n",
       "<path style=\"stroke:none;\" d=\"M 0 -0.71875 L -5.703125 -0.71875 L -5.703125 -1.59375 L -4.890625 -1.59375 C -5.515625 -2.007812 -5.828125 -2.613281 -5.828125 -3.40625 C -5.828125 -3.75 -5.765625 -4.066406 -5.640625 -4.359375 C -5.523438 -4.648438 -5.363281 -4.863281 -5.15625 -5 C -4.957031 -5.144531 -4.722656 -5.25 -4.453125 -5.3125 C -4.265625 -5.34375 -3.945312 -5.359375 -3.5 -5.359375 L 0 -5.359375 L 0 -4.390625 L -3.46875 -4.390625 C -3.863281 -4.390625 -4.15625 -4.351562 -4.34375 -4.28125 C -4.539062 -4.207031 -4.695312 -4.070312 -4.8125 -3.875 C -4.9375 -3.6875 -5 -3.460938 -5 -3.203125 C -5 -2.796875 -4.867188 -2.441406 -4.609375 -2.140625 C -4.347656 -1.835938 -3.847656 -1.6875 -3.109375 -1.6875 L 0 -1.6875 Z M 0 -0.71875 \"/>\n",
       "</symbol>\n",
       "<symbol overflow=\"visible\" id=\"glyphtF7SQCb32-9\">\n",
       "<path style=\"stroke:none;\" d=\"M 0 -0.953125 L -4.953125 -0.953125 L -4.953125 -0.109375 L -5.703125 -0.109375 L -5.703125 -0.953125 L -6.3125 -0.953125 C -6.695312 -0.953125 -6.984375 -0.988281 -7.171875 -1.0625 C -7.421875 -1.15625 -7.625 -1.316406 -7.78125 -1.546875 C -7.9375 -1.785156 -8.015625 -2.113281 -8.015625 -2.53125 C -8.015625 -2.800781 -7.976562 -3.101562 -7.90625 -3.4375 L -7.0625 -3.296875 C -7.101562 -3.085938 -7.125 -2.894531 -7.125 -2.71875 C -7.125 -2.425781 -7.0625 -2.21875 -6.9375 -2.09375 C -6.8125 -1.976562 -6.578125 -1.921875 -6.234375 -1.921875 L -5.703125 -1.921875 L -5.703125 -3.03125 L -4.953125 -3.03125 L -4.953125 -1.921875 L 0 -1.921875 Z M 0 -0.953125 \"/>\n",
       "</symbol>\n",
       "<symbol overflow=\"visible\" id=\"glyphtF7SQCb32-10\">\n",
       "<path style=\"stroke:none;\" d=\"M -2.859375 -0.359375 C -3.910156 -0.359375 -4.691406 -0.65625 -5.203125 -1.25 C -5.617188 -1.738281 -5.828125 -2.335938 -5.828125 -3.046875 C -5.828125 -3.828125 -5.570312 -4.460938 -5.0625 -4.953125 C -4.550781 -5.453125 -3.84375 -5.703125 -2.9375 -5.703125 C -2.195312 -5.703125 -1.613281 -5.59375 -1.1875 -5.375 C -0.769531 -5.15625 -0.445312 -4.832031 -0.21875 -4.40625 C 0.0078125 -3.988281 0.125 -3.535156 0.125 -3.046875 C 0.125 -2.242188 -0.128906 -1.59375 -0.640625 -1.09375 C -1.148438 -0.601562 -1.890625 -0.359375 -2.859375 -0.359375 Z M -2.859375 -1.359375 C -2.117188 -1.359375 -1.566406 -1.515625 -1.203125 -1.828125 C -0.847656 -2.148438 -0.671875 -2.554688 -0.671875 -3.046875 C -0.671875 -3.523438 -0.851562 -3.921875 -1.21875 -4.234375 C -1.582031 -4.554688 -2.140625 -4.71875 -2.890625 -4.71875 C -3.585938 -4.71875 -4.117188 -4.554688 -4.484375 -4.234375 C -4.847656 -3.910156 -5.03125 -3.515625 -5.03125 -3.046875 C -5.03125 -2.554688 -4.847656 -2.148438 -4.484375 -1.828125 C -4.128906 -1.515625 -3.585938 -1.359375 -2.859375 -1.359375 Z M -2.859375 -1.359375 \"/>\n",
       "</symbol>\n",
       "<symbol overflow=\"visible\" id=\"glyphtF7SQCb32-11\">\n",
       "<path style=\"stroke:none;\" d=\"M 0 -0.71875 L -5.703125 -0.71875 L -5.703125 -1.578125 L -4.84375 -1.578125 C -5.25 -1.804688 -5.515625 -2.015625 -5.640625 -2.203125 C -5.765625 -2.390625 -5.828125 -2.59375 -5.828125 -2.8125 C -5.828125 -3.144531 -5.722656 -3.476562 -5.515625 -3.8125 L -4.625 -3.484375 C -4.757812 -3.242188 -4.828125 -3.003906 -4.828125 -2.765625 C -4.828125 -2.554688 -4.765625 -2.367188 -4.640625 -2.203125 C -4.515625 -2.035156 -4.335938 -1.914062 -4.109375 -1.84375 C -3.765625 -1.738281 -3.390625 -1.6875 -2.984375 -1.6875 L 0 -1.6875 Z M 0 -0.71875 \"/>\n",
       "</symbol>\n",
       "<symbol overflow=\"visible\" id=\"glyphtF7SQCb32-12\">\n",
       "<path style=\"stroke:none;\" d=\"M 0 -0.71875 L -5.703125 -0.71875 L -5.703125 -1.59375 L -4.90625 -1.59375 C -5.1875 -1.769531 -5.410156 -2.003906 -5.578125 -2.296875 C -5.742188 -2.597656 -5.828125 -2.9375 -5.828125 -3.3125 C -5.828125 -3.738281 -5.738281 -4.085938 -5.5625 -4.359375 C -5.394531 -4.628906 -5.148438 -4.820312 -4.828125 -4.9375 C -5.492188 -5.382812 -5.828125 -5.96875 -5.828125 -6.6875 C -5.828125 -7.257812 -5.671875 -7.695312 -5.359375 -8 C -5.046875 -8.300781 -4.566406 -8.453125 -3.921875 -8.453125 L 0 -8.453125 L 0 -7.5 L -3.59375 -7.5 C -3.976562 -7.5 -4.253906 -7.46875 -4.421875 -7.40625 C -4.597656 -7.34375 -4.738281 -7.226562 -4.84375 -7.0625 C -4.945312 -6.894531 -5 -6.703125 -5 -6.484375 C -5 -6.078125 -4.863281 -5.738281 -4.59375 -5.46875 C -4.320312 -5.207031 -3.894531 -5.078125 -3.3125 -5.078125 L 0 -5.078125 L 0 -4.109375 L -3.703125 -4.109375 C -4.128906 -4.109375 -4.453125 -4.03125 -4.671875 -3.875 C -4.890625 -3.71875 -5 -3.460938 -5 -3.109375 C -5 -2.835938 -4.925781 -2.582031 -4.78125 -2.34375 C -4.632812 -2.113281 -4.421875 -1.945312 -4.140625 -1.84375 C -3.867188 -1.738281 -3.472656 -1.6875 -2.953125 -1.6875 L 0 -1.6875 Z M 0 -0.71875 \"/>\n",
       "</symbol>\n",
       "<symbol overflow=\"visible\" id=\"glyphtF7SQCb32-13\">\n",
       "<path style=\"stroke:none;\" d=\"M -6.765625 -0.734375 L -7.875 -0.734375 L -7.875 -1.703125 L -6.765625 -1.703125 Z M 0 -0.734375 L -5.703125 -0.734375 L -5.703125 -1.703125 L 0 -1.703125 Z M 0 -0.734375 \"/>\n",
       "</symbol>\n",
       "<symbol overflow=\"visible\" id=\"glyphtF7SQCb32-14\">\n",
       "<path style=\"stroke:none;\" d=\"M 0 0.015625 L -7.875 -3.015625 L -7.875 -4.125 L 0 -7.359375 L 0 -6.171875 L -2.390625 -5.25 L -2.390625 -1.953125 L 0 -1.09375 Z M -3.234375 -2.25 L -3.234375 -4.921875 L -5.421875 -4.109375 C -6.078125 -3.859375 -6.617188 -3.671875 -7.046875 -3.546875 C -6.546875 -3.441406 -6.046875 -3.300781 -5.546875 -3.125 Z M -3.234375 -2.25 \"/>\n",
       "</symbol>\n",
       "<symbol overflow=\"visible\" id=\"glyphtF7SQCb32-15\">\n",
       "<path style=\"stroke:none;\" d=\"M 0 -4.421875 L -0.71875 -4.421875 C -0.15625 -4.066406 0.125 -3.535156 0.125 -2.828125 C 0.125 -2.378906 0 -1.960938 -0.25 -1.578125 C -0.5 -1.191406 -0.847656 -0.894531 -1.296875 -0.6875 C -1.742188 -0.476562 -2.257812 -0.375 -2.84375 -0.375 C -3.414062 -0.375 -3.929688 -0.46875 -4.390625 -0.65625 C -4.859375 -0.851562 -5.210938 -1.140625 -5.453125 -1.515625 C -5.703125 -1.890625 -5.828125 -2.3125 -5.828125 -2.78125 C -5.828125 -3.125 -5.753906 -3.429688 -5.609375 -3.703125 C -5.460938 -3.972656 -5.273438 -4.191406 -5.046875 -4.359375 L -7.875 -4.359375 L -7.875 -5.328125 L 0 -5.328125 Z M -2.84375 -1.375 C -2.113281 -1.375 -1.566406 -1.523438 -1.203125 -1.828125 C -0.847656 -2.140625 -0.671875 -2.503906 -0.671875 -2.921875 C -0.671875 -3.347656 -0.84375 -3.707031 -1.1875 -4 C -1.53125 -4.289062 -2.054688 -4.4375 -2.765625 -4.4375 C -3.546875 -4.4375 -4.117188 -4.285156 -4.484375 -3.984375 C -4.847656 -3.691406 -5.03125 -3.320312 -5.03125 -2.875 C -5.03125 -2.445312 -4.851562 -2.085938 -4.5 -1.796875 C -4.15625 -1.515625 -3.601562 -1.375 -2.84375 -1.375 Z M -2.84375 -1.375 \"/>\n",
       "</symbol>\n",
       "<symbol overflow=\"visible\" id=\"glyphtF7SQCb32-16\">\n",
       "<path style=\"stroke:none;\" d=\"M -6.75 -0.71875 L -7.875 -0.71875 L -7.875 -1.6875 L -6.75 -1.6875 Z M 2.21875 0.5 L 1.390625 0.328125 C 1.441406 0.128906 1.46875 -0.0234375 1.46875 -0.140625 C 1.46875 -0.335938 1.398438 -0.484375 1.265625 -0.578125 C 1.140625 -0.671875 0.816406 -0.71875 0.296875 -0.71875 L -5.703125 -0.71875 L -5.703125 -1.6875 L 0.3125 -1.6875 C 1.007812 -1.6875 1.5 -1.59375 1.78125 -1.40625 C 2.132812 -1.175781 2.3125 -0.789062 2.3125 -0.25 C 2.3125 0.0078125 2.28125 0.257812 2.21875 0.5 Z M 2.21875 0.5 \"/>\n",
       "</symbol>\n",
       "<symbol overflow=\"visible\" id=\"glyphtF7SQCb32-17\">\n",
       "<path style=\"stroke:none;\" d=\"M -1.703125 -0.34375 L -1.859375 -1.296875 C -1.472656 -1.347656 -1.175781 -1.492188 -0.96875 -1.734375 C -0.769531 -1.984375 -0.671875 -2.328125 -0.671875 -2.765625 C -0.671875 -3.210938 -0.757812 -3.539062 -0.9375 -3.75 C -1.113281 -3.96875 -1.328125 -4.078125 -1.578125 -4.078125 C -1.796875 -4.078125 -1.96875 -3.984375 -2.09375 -3.796875 C -2.175781 -3.660156 -2.285156 -3.332031 -2.421875 -2.8125 C -2.597656 -2.101562 -2.75 -1.609375 -2.875 -1.328125 C -3.007812 -1.054688 -3.191406 -0.847656 -3.421875 -0.703125 C -3.648438 -0.566406 -3.90625 -0.5 -4.1875 -0.5 C -4.445312 -0.5 -4.679688 -0.554688 -4.890625 -0.671875 C -5.109375 -0.785156 -5.289062 -0.945312 -5.4375 -1.15625 C -5.550781 -1.300781 -5.644531 -1.503906 -5.71875 -1.765625 C -5.789062 -2.023438 -5.828125 -2.300781 -5.828125 -2.59375 C -5.828125 -3.039062 -5.765625 -3.429688 -5.640625 -3.765625 C -5.515625 -4.109375 -5.335938 -4.359375 -5.109375 -4.515625 C -4.890625 -4.679688 -4.597656 -4.796875 -4.234375 -4.859375 L -4.109375 -3.921875 C -4.398438 -3.867188 -4.625 -3.738281 -4.78125 -3.53125 C -4.945312 -3.332031 -5.03125 -3.046875 -5.03125 -2.671875 C -5.03125 -2.222656 -4.957031 -1.90625 -4.8125 -1.71875 C -4.664062 -1.53125 -4.492188 -1.4375 -4.296875 -1.4375 C -4.171875 -1.4375 -4.0625 -1.472656 -3.96875 -1.546875 C -3.863281 -1.628906 -3.773438 -1.753906 -3.703125 -1.921875 C -3.671875 -2.015625 -3.585938 -2.300781 -3.453125 -2.78125 C -3.273438 -3.457031 -3.128906 -3.929688 -3.015625 -4.203125 C -2.898438 -4.472656 -2.726562 -4.6875 -2.5 -4.84375 C -2.28125 -5 -2.003906 -5.078125 -1.671875 -5.078125 C -1.347656 -5.078125 -1.046875 -4.984375 -0.765625 -4.796875 C -0.484375 -4.609375 -0.265625 -4.335938 -0.109375 -3.984375 C 0.0429688 -3.628906 0.125 -3.226562 0.125 -2.78125 C 0.125 -2.039062 -0.0234375 -1.472656 -0.328125 -1.078125 C -0.640625 -0.691406 -1.097656 -0.445312 -1.703125 -0.34375 Z M -1.703125 -0.34375 \"/>\n",
       "</symbol>\n",
       "<symbol overflow=\"visible\" id=\"glyphtF7SQCb32-18\">\n",
       "<path style=\"stroke:none;\" d=\"M -1.84375 -4.625 L -1.71875 -5.625 C -1.132812 -5.46875 -0.679688 -5.175781 -0.359375 -4.75 C -0.0351562 -4.320312 0.125 -3.78125 0.125 -3.125 C 0.125 -2.289062 -0.128906 -1.628906 -0.640625 -1.140625 C -1.148438 -0.648438 -1.867188 -0.40625 -2.796875 -0.40625 C -3.765625 -0.40625 -4.507812 -0.648438 -5.03125 -1.140625 C -5.5625 -1.640625 -5.828125 -2.28125 -5.828125 -3.0625 C -5.828125 -3.832031 -5.566406 -4.457031 -5.046875 -4.9375 C -4.535156 -5.414062 -3.804688 -5.65625 -2.859375 -5.65625 C -2.804688 -5.65625 -2.722656 -5.65625 -2.609375 -5.65625 L -2.609375 -1.40625 C -1.984375 -1.4375 -1.503906 -1.609375 -1.171875 -1.921875 C -0.835938 -2.242188 -0.671875 -2.644531 -0.671875 -3.125 C -0.671875 -3.476562 -0.757812 -3.78125 -0.9375 -4.03125 C -1.125 -4.28125 -1.425781 -4.476562 -1.84375 -4.625 Z M -3.40625 -1.453125 L -3.40625 -4.640625 C -3.882812 -4.597656 -4.242188 -4.476562 -4.484375 -4.28125 C -4.847656 -3.96875 -5.03125 -3.566406 -5.03125 -3.078125 C -5.03125 -2.628906 -4.878906 -2.253906 -4.578125 -1.953125 C -4.285156 -1.648438 -3.894531 -1.484375 -3.40625 -1.453125 Z M -3.40625 -1.453125 \"/>\n",
       "</symbol>\n",
       "<symbol overflow=\"visible\" id=\"glyphtF7SQCb32-19\">\n",
       "<path style=\"stroke:none;\" d=\"M 0 -0.859375 L -7.875 -0.859375 L -7.875 -4.359375 C -7.875 -5.054688 -7.800781 -5.585938 -7.65625 -5.953125 C -7.519531 -6.316406 -7.269531 -6.609375 -6.90625 -6.828125 C -6.550781 -7.046875 -6.15625 -7.15625 -5.71875 -7.15625 C -5.164062 -7.15625 -4.695312 -6.972656 -4.3125 -6.609375 C -3.925781 -6.253906 -3.679688 -5.695312 -3.578125 -4.9375 C -3.453125 -5.21875 -3.320312 -5.425781 -3.1875 -5.5625 C -2.90625 -5.875 -2.554688 -6.164062 -2.140625 -6.4375 L 0 -7.796875 L 0 -6.5 L -1.640625 -5.453125 C -2.109375 -5.148438 -2.46875 -4.898438 -2.71875 -4.703125 C -2.96875 -4.503906 -3.144531 -4.328125 -3.25 -4.171875 C -3.351562 -4.015625 -3.421875 -3.859375 -3.453125 -3.703125 C -3.484375 -3.578125 -3.5 -3.378906 -3.5 -3.109375 L -3.5 -1.90625 L 0 -1.90625 Z M -4.40625 -1.90625 L -4.40625 -4.140625 C -4.40625 -4.617188 -4.453125 -4.992188 -4.546875 -5.265625 C -4.640625 -5.535156 -4.796875 -5.738281 -5.015625 -5.875 C -5.234375 -6.007812 -5.46875 -6.078125 -5.71875 -6.078125 C -6.09375 -6.078125 -6.398438 -5.941406 -6.640625 -5.671875 C -6.878906 -5.410156 -7 -4.988281 -7 -4.40625 L -7 -1.90625 Z M -4.40625 -1.90625 \"/>\n",
       "</symbol>\n",
       "<symbol overflow=\"visible\" id=\"glyphtF7SQCb32-20\">\n",
       "<path style=\"stroke:none;\" d=\"M 0 -0.078125 L -2.96875 -2.171875 L -5.703125 -0.234375 L -5.703125 -1.4375 L -4.359375 -2.328125 C -4.109375 -2.484375 -3.898438 -2.613281 -3.734375 -2.71875 C -3.960938 -2.875 -4.171875 -3.019531 -4.359375 -3.15625 L -5.703125 -4.109375 L -5.703125 -5.265625 L -3.015625 -3.296875 L 0 -5.421875 L 0 -4.234375 L -1.765625 -3.0625 L -2.25 -2.75 L 0 -1.25 Z M 0 -0.078125 \"/>\n",
       "</symbol>\n",
       "</g>\n",
       "<clipPath id=\"clip1\">\n",
       "  <path d=\"M 0 0 L 288 0 L 288 216 L 0 216 Z M 0 0 \"/>\n",
       "</clipPath>\n",
       "<clipPath id=\"clip2\">\n",
       "  <path d=\"M 41.570312 5.480469 L 282.519531 5.480469 L 282.519531 183.449219 L 41.570312 183.449219 Z M 41.570312 5.480469 \"/>\n",
       "</clipPath>\n",
       "<clipPath id=\"clip3\">\n",
       "  <path d=\"M 41.570312 153 L 282.519531 153 L 282.519531 155 L 41.570312 155 Z M 41.570312 153 \"/>\n",
       "</clipPath>\n",
       "<clipPath id=\"clip4\">\n",
       "  <path d=\"M 41.570312 94 L 282.519531 94 L 282.519531 95 L 41.570312 95 Z M 41.570312 94 \"/>\n",
       "</clipPath>\n",
       "<clipPath id=\"clip5\">\n",
       "  <path d=\"M 41.570312 34 L 282.519531 34 L 282.519531 36 L 41.570312 36 Z M 41.570312 34 \"/>\n",
       "</clipPath>\n",
       "<clipPath id=\"clip6\">\n",
       "  <path d=\"M 41.570312 182 L 282.519531 182 L 282.519531 183.449219 L 41.570312 183.449219 Z M 41.570312 182 \"/>\n",
       "</clipPath>\n",
       "<clipPath id=\"clip7\">\n",
       "  <path d=\"M 41.570312 123 L 282.519531 123 L 282.519531 125 L 41.570312 125 Z M 41.570312 123 \"/>\n",
       "</clipPath>\n",
       "<clipPath id=\"clip8\">\n",
       "  <path d=\"M 41.570312 64 L 282.519531 64 L 282.519531 66 L 41.570312 66 Z M 41.570312 64 \"/>\n",
       "</clipPath>\n",
       "<clipPath id=\"clip9\">\n",
       "  <path d=\"M 41.570312 5.480469 L 282.519531 5.480469 L 282.519531 7 L 41.570312 7 Z M 41.570312 5.480469 \"/>\n",
       "</clipPath>\n",
       "<clipPath id=\"clip10\">\n",
       "  <path d=\"M 75 5.480469 L 77 5.480469 L 77 183.449219 L 75 183.449219 Z M 75 5.480469 \"/>\n",
       "</clipPath>\n",
       "<clipPath id=\"clip11\">\n",
       "  <path d=\"M 132 5.480469 L 134 5.480469 L 134 183.449219 L 132 183.449219 Z M 132 5.480469 \"/>\n",
       "</clipPath>\n",
       "<clipPath id=\"clip12\">\n",
       "  <path d=\"M 190 5.480469 L 192 5.480469 L 192 183.449219 L 190 183.449219 Z M 190 5.480469 \"/>\n",
       "</clipPath>\n",
       "<clipPath id=\"clip13\">\n",
       "  <path d=\"M 247 5.480469 L 249 5.480469 L 249 183.449219 L 247 183.449219 Z M 247 5.480469 \"/>\n",
       "</clipPath>\n",
       "<clipPath id=\"clip14\">\n",
       "  <path d=\"M 41.570312 5.480469 L 282.519531 5.480469 L 282.519531 183.449219 L 41.570312 183.449219 Z M 41.570312 5.480469 \"/>\n",
       "</clipPath>\n",
       "<clipPath id=\"clip15\">\n",
       "  <path d=\"M 288 0 L 576 0 L 576 216 L 288 216 Z M 288 0 \"/>\n",
       "</clipPath>\n",
       "<clipPath id=\"clip16\">\n",
       "  <path d=\"M 329.570312 5.480469 L 570.519531 5.480469 L 570.519531 183.449219 L 329.570312 183.449219 Z M 329.570312 5.480469 \"/>\n",
       "</clipPath>\n",
       "<clipPath id=\"clip17\">\n",
       "  <path d=\"M 329.570312 153 L 570.519531 153 L 570.519531 155 L 329.570312 155 Z M 329.570312 153 \"/>\n",
       "</clipPath>\n",
       "<clipPath id=\"clip18\">\n",
       "  <path d=\"M 329.570312 94 L 570.519531 94 L 570.519531 95 L 329.570312 95 Z M 329.570312 94 \"/>\n",
       "</clipPath>\n",
       "<clipPath id=\"clip19\">\n",
       "  <path d=\"M 329.570312 34 L 570.519531 34 L 570.519531 36 L 329.570312 36 Z M 329.570312 34 \"/>\n",
       "</clipPath>\n",
       "<clipPath id=\"clip20\">\n",
       "  <path d=\"M 329.570312 182 L 570.519531 182 L 570.519531 183.449219 L 329.570312 183.449219 Z M 329.570312 182 \"/>\n",
       "</clipPath>\n",
       "<clipPath id=\"clip21\">\n",
       "  <path d=\"M 329.570312 123 L 570.519531 123 L 570.519531 125 L 329.570312 125 Z M 329.570312 123 \"/>\n",
       "</clipPath>\n",
       "<clipPath id=\"clip22\">\n",
       "  <path d=\"M 329.570312 64 L 570.519531 64 L 570.519531 66 L 329.570312 66 Z M 329.570312 64 \"/>\n",
       "</clipPath>\n",
       "<clipPath id=\"clip23\">\n",
       "  <path d=\"M 329.570312 5.480469 L 570.519531 5.480469 L 570.519531 7 L 329.570312 7 Z M 329.570312 5.480469 \"/>\n",
       "</clipPath>\n",
       "<clipPath id=\"clip24\">\n",
       "  <path d=\"M 363 5.480469 L 365 5.480469 L 365 183.449219 L 363 183.449219 Z M 363 5.480469 \"/>\n",
       "</clipPath>\n",
       "<clipPath id=\"clip25\">\n",
       "  <path d=\"M 420 5.480469 L 422 5.480469 L 422 183.449219 L 420 183.449219 Z M 420 5.480469 \"/>\n",
       "</clipPath>\n",
       "<clipPath id=\"clip26\">\n",
       "  <path d=\"M 478 5.480469 L 480 5.480469 L 480 183.449219 L 478 183.449219 Z M 478 5.480469 \"/>\n",
       "</clipPath>\n",
       "<clipPath id=\"clip27\">\n",
       "  <path d=\"M 535 5.480469 L 537 5.480469 L 537 183.449219 L 535 183.449219 Z M 535 5.480469 \"/>\n",
       "</clipPath>\n",
       "<clipPath id=\"clip28\">\n",
       "  <path d=\"M 329.570312 5.480469 L 570.519531 5.480469 L 570.519531 183.449219 L 329.570312 183.449219 Z M 329.570312 5.480469 \"/>\n",
       "</clipPath>\n",
       "</defs>\n",
       "<g id=\"surface6\">\n",
       "<rect x=\"0\" y=\"0\" width=\"576\" height=\"216\" style=\"fill:rgb(100%,100%,100%);fill-opacity:1;stroke:none;\"/>\n",
       "<path style=\" stroke:none;fill-rule:nonzero;fill:rgb(100%,100%,100%);fill-opacity:1;\" d=\"M 0 216 L 288 216 L 288 0 L 0 0 Z M 0 216 \"/>\n",
       "<g clip-path=\"url(#clip1)\" clip-rule=\"nonzero\">\n",
       "<path style=\"fill:none;stroke-width:1.066978;stroke-linecap:round;stroke-linejoin:round;stroke:rgb(100%,100%,100%);stroke-opacity:1;stroke-miterlimit:10;\" d=\"M 0 216 L 288 216 L 288 0 L 0 0 Z M 0 216 \"/>\n",
       "</g>\n",
       "<g clip-path=\"url(#clip2)\" clip-rule=\"nonzero\">\n",
       "<path style=\" stroke:none;fill-rule:nonzero;fill:rgb(100%,100%,100%);fill-opacity:1;\" d=\"M 41.570312 183.449219 L 282.519531 183.449219 L 282.519531 5.480469 L 41.570312 5.480469 Z M 41.570312 183.449219 \"/>\n",
       "</g>\n",
       "<g clip-path=\"url(#clip3)\" clip-rule=\"nonzero\">\n",
       "<path style=\"fill:none;stroke-width:0.533489;stroke-linecap:butt;stroke-linejoin:round;stroke:rgb(92.156863%,92.156863%,92.156863%);stroke-opacity:1;stroke-miterlimit:10;\" d=\"M 41.570312 153.789062 L 282.519531 153.789062 \"/>\n",
       "</g>\n",
       "<g clip-path=\"url(#clip4)\" clip-rule=\"nonzero\">\n",
       "<path style=\"fill:none;stroke-width:0.533489;stroke-linecap:butt;stroke-linejoin:round;stroke:rgb(92.156863%,92.156863%,92.156863%);stroke-opacity:1;stroke-miterlimit:10;\" d=\"M 41.570312 94.464844 L 282.519531 94.464844 \"/>\n",
       "</g>\n",
       "<g clip-path=\"url(#clip5)\" clip-rule=\"nonzero\">\n",
       "<path style=\"fill:none;stroke-width:0.533489;stroke-linecap:butt;stroke-linejoin:round;stroke:rgb(92.156863%,92.156863%,92.156863%);stroke-opacity:1;stroke-miterlimit:10;\" d=\"M 41.570312 35.140625 L 282.519531 35.140625 \"/>\n",
       "</g>\n",
       "<g clip-path=\"url(#clip6)\" clip-rule=\"nonzero\">\n",
       "<path style=\"fill:none;stroke-width:1.066978;stroke-linecap:butt;stroke-linejoin:round;stroke:rgb(92.156863%,92.156863%,92.156863%);stroke-opacity:1;stroke-miterlimit:10;\" d=\"M 41.570312 183.449219 L 282.519531 183.449219 \"/>\n",
       "</g>\n",
       "<g clip-path=\"url(#clip7)\" clip-rule=\"nonzero\">\n",
       "<path style=\"fill:none;stroke-width:1.066978;stroke-linecap:butt;stroke-linejoin:round;stroke:rgb(92.156863%,92.156863%,92.156863%);stroke-opacity:1;stroke-miterlimit:10;\" d=\"M 41.570312 124.125 L 282.519531 124.125 \"/>\n",
       "</g>\n",
       "<g clip-path=\"url(#clip8)\" clip-rule=\"nonzero\">\n",
       "<path style=\"fill:none;stroke-width:1.066978;stroke-linecap:butt;stroke-linejoin:round;stroke:rgb(92.156863%,92.156863%,92.156863%);stroke-opacity:1;stroke-miterlimit:10;\" d=\"M 41.570312 64.804688 L 282.519531 64.804688 \"/>\n",
       "</g>\n",
       "<g clip-path=\"url(#clip9)\" clip-rule=\"nonzero\">\n",
       "<path style=\"fill:none;stroke-width:1.066978;stroke-linecap:butt;stroke-linejoin:round;stroke:rgb(92.156863%,92.156863%,92.156863%);stroke-opacity:1;stroke-miterlimit:10;\" d=\"M 41.570312 5.480469 L 282.519531 5.480469 \"/>\n",
       "</g>\n",
       "<g clip-path=\"url(#clip10)\" clip-rule=\"nonzero\">\n",
       "<path style=\"fill:none;stroke-width:1.066978;stroke-linecap:butt;stroke-linejoin:round;stroke:rgb(92.156863%,92.156863%,92.156863%);stroke-opacity:1;stroke-miterlimit:10;\" d=\"M 75.992188 183.449219 L 75.992188 5.480469 \"/>\n",
       "</g>\n",
       "<g clip-path=\"url(#clip11)\" clip-rule=\"nonzero\">\n",
       "<path style=\"fill:none;stroke-width:1.066978;stroke-linecap:butt;stroke-linejoin:round;stroke:rgb(92.156863%,92.156863%,92.156863%);stroke-opacity:1;stroke-miterlimit:10;\" d=\"M 133.359375 183.449219 L 133.359375 5.480469 \"/>\n",
       "</g>\n",
       "<g clip-path=\"url(#clip12)\" clip-rule=\"nonzero\">\n",
       "<path style=\"fill:none;stroke-width:1.066978;stroke-linecap:butt;stroke-linejoin:round;stroke:rgb(92.156863%,92.156863%,92.156863%);stroke-opacity:1;stroke-miterlimit:10;\" d=\"M 190.730469 183.449219 L 190.730469 5.480469 \"/>\n",
       "</g>\n",
       "<g clip-path=\"url(#clip13)\" clip-rule=\"nonzero\">\n",
       "<path style=\"fill:none;stroke-width:1.066978;stroke-linecap:butt;stroke-linejoin:round;stroke:rgb(92.156863%,92.156863%,92.156863%);stroke-opacity:1;stroke-miterlimit:10;\" d=\"M 248.097656 183.449219 L 248.097656 5.480469 \"/>\n",
       "</g>\n",
       "<path style=\"fill-rule:nonzero;fill:rgb(97.254902%,46.27451%,42.745098%);fill-opacity:1;stroke-width:0.708661;stroke-linecap:round;stroke-linejoin:round;stroke:rgb(97.254902%,46.27451%,42.745098%);stroke-opacity:1;stroke-miterlimit:10;\" d=\"M 67.191406 82.167969 C 67.191406 84.773438 63.28125 84.773438 63.28125 82.167969 C 63.28125 79.5625 67.191406 79.5625 67.191406 82.167969 \"/>\n",
       "<path style=\"fill-rule:nonzero;fill:rgb(97.254902%,46.27451%,42.745098%);fill-opacity:1;stroke-width:0.708661;stroke-linecap:round;stroke-linejoin:round;stroke:rgb(97.254902%,46.27451%,42.745098%);stroke-opacity:1;stroke-miterlimit:10;\" d=\"M 67.191406 54.445312 C 67.191406 57.050781 63.28125 57.050781 63.28125 54.445312 C 63.28125 51.835938 67.191406 51.835938 67.191406 54.445312 \"/>\n",
       "<path style=\"fill:none;stroke-width:1.066978;stroke-linecap:butt;stroke-linejoin:round;stroke:rgb(97.254902%,46.27451%,42.745098%);stroke-opacity:1;stroke-miterlimit:10;\" d=\"M 65.234375 65.109375 L 65.234375 55.277344 \"/>\n",
       "<path style=\"fill:none;stroke-width:1.066978;stroke-linecap:butt;stroke-linejoin:round;stroke:rgb(97.254902%,46.27451%,42.745098%);stroke-opacity:1;stroke-miterlimit:10;\" d=\"M 65.234375 71.828125 L 65.234375 80.25 \"/>\n",
       "<path style=\"fill-rule:nonzero;fill:rgb(100%,100%,100%);fill-opacity:1;stroke-width:1.066978;stroke-linecap:round;stroke-linejoin:round;stroke:rgb(97.254902%,46.27451%,42.745098%);stroke-opacity:1;stroke-miterlimit:10;\" d=\"M 55.554688 65.109375 L 55.554688 71.828125 L 74.917969 71.828125 L 74.917969 65.109375 Z M 55.554688 65.109375 \"/>\n",
       "<path style=\"fill:none;stroke-width:2.133957;stroke-linecap:butt;stroke-linejoin:round;stroke:rgb(97.254902%,46.27451%,42.745098%);stroke-opacity:1;stroke-miterlimit:10;\" d=\"M 55.554688 68.667969 L 74.917969 68.667969 \"/>\n",
       "<path style=\"fill-rule:nonzero;fill:rgb(0%,74.901961%,76.862745%);fill-opacity:1;stroke-width:0.708661;stroke-linecap:round;stroke-linejoin:round;stroke:rgb(0%,74.901961%,76.862745%);stroke-opacity:1;stroke-miterlimit:10;\" d=\"M 88.703125 129.96875 C 88.703125 132.574219 84.792969 132.574219 84.792969 129.96875 C 84.792969 127.363281 88.703125 127.363281 88.703125 129.96875 \"/>\n",
       "<path style=\"fill-rule:nonzero;fill:rgb(0%,74.901961%,76.862745%);fill-opacity:1;stroke-width:0.708661;stroke-linecap:round;stroke-linejoin:round;stroke:rgb(0%,74.901961%,76.862745%);stroke-opacity:1;stroke-miterlimit:10;\" d=\"M 88.703125 110.066406 C 88.703125 112.671875 84.792969 112.671875 84.792969 110.066406 C 84.792969 107.460938 88.703125 107.460938 88.703125 110.066406 \"/>\n",
       "<path style=\"fill-rule:nonzero;fill:rgb(0%,74.901961%,76.862745%);fill-opacity:1;stroke-width:0.708661;stroke-linecap:round;stroke-linejoin:round;stroke:rgb(0%,74.901961%,76.862745%);stroke-opacity:1;stroke-miterlimit:10;\" d=\"M 88.703125 129.746094 C 88.703125 132.351562 84.792969 132.351562 84.792969 129.746094 C 84.792969 127.136719 88.703125 127.136719 88.703125 129.746094 \"/>\n",
       "<path style=\"fill:none;stroke-width:1.066978;stroke-linecap:butt;stroke-linejoin:round;stroke:rgb(0%,74.901961%,76.862745%);stroke-opacity:1;stroke-miterlimit:10;\" d=\"M 86.75 117.757812 L 86.75 111.3125 \"/>\n",
       "<path style=\"fill:none;stroke-width:1.066978;stroke-linecap:butt;stroke-linejoin:round;stroke:rgb(0%,74.901961%,76.862745%);stroke-opacity:1;stroke-miterlimit:10;\" d=\"M 86.75 122.4375 L 86.75 128.734375 \"/>\n",
       "<path style=\"fill-rule:nonzero;fill:rgb(100%,100%,100%);fill-opacity:1;stroke-width:1.066978;stroke-linecap:round;stroke-linejoin:round;stroke:rgb(0%,74.901961%,76.862745%);stroke-opacity:1;stroke-miterlimit:10;\" d=\"M 77.066406 117.757812 L 77.066406 122.4375 L 96.429688 122.4375 L 96.429688 117.757812 Z M 77.066406 117.757812 \"/>\n",
       "<path style=\"fill:none;stroke-width:2.133957;stroke-linecap:butt;stroke-linejoin:round;stroke:rgb(0%,74.901961%,76.862745%);stroke-opacity:1;stroke-miterlimit:10;\" d=\"M 77.066406 120.242188 L 96.429688 120.242188 \"/>\n",
       "<path style=\"fill:none;stroke-width:1.066978;stroke-linecap:butt;stroke-linejoin:round;stroke:rgb(97.254902%,46.27451%,42.745098%);stroke-opacity:1;stroke-miterlimit:10;\" d=\"M 122.605469 33.652344 L 122.605469 33.214844 \"/>\n",
       "<path style=\"fill:none;stroke-width:1.066978;stroke-linecap:butt;stroke-linejoin:round;stroke:rgb(97.254902%,46.27451%,42.745098%);stroke-opacity:1;stroke-miterlimit:10;\" d=\"M 122.605469 33.957031 L 122.605469 34.320312 \"/>\n",
       "<path style=\"fill-rule:nonzero;fill:rgb(100%,100%,100%);fill-opacity:1;stroke-width:1.066978;stroke-linecap:round;stroke-linejoin:round;stroke:rgb(97.254902%,46.27451%,42.745098%);stroke-opacity:1;stroke-miterlimit:10;\" d=\"M 112.921875 33.652344 L 112.921875 33.957031 L 132.285156 33.957031 L 132.285156 33.652344 Z M 112.921875 33.652344 \"/>\n",
       "<path style=\"fill:none;stroke-width:2.133957;stroke-linecap:butt;stroke-linejoin:round;stroke:rgb(97.254902%,46.27451%,42.745098%);stroke-opacity:1;stroke-miterlimit:10;\" d=\"M 112.921875 33.835938 L 132.285156 33.835938 \"/>\n",
       "<path style=\"fill:none;stroke-width:1.066978;stroke-linecap:butt;stroke-linejoin:round;stroke:rgb(0%,74.901961%,76.862745%);stroke-opacity:1;stroke-miterlimit:10;\" d=\"M 144.117188 106.613281 L 144.117188 106.351562 \"/>\n",
       "<path style=\"fill:none;stroke-width:1.066978;stroke-linecap:butt;stroke-linejoin:round;stroke:rgb(0%,74.901961%,76.862745%);stroke-opacity:1;stroke-miterlimit:10;\" d=\"M 144.117188 107.148438 L 144.117188 107.609375 \"/>\n",
       "<path style=\"fill-rule:nonzero;fill:rgb(100%,100%,100%);fill-opacity:1;stroke-width:1.066978;stroke-linecap:round;stroke-linejoin:round;stroke:rgb(0%,74.901961%,76.862745%);stroke-opacity:1;stroke-miterlimit:10;\" d=\"M 134.4375 106.613281 L 134.4375 107.148438 L 153.796875 107.148438 L 153.796875 106.613281 Z M 134.4375 106.613281 \"/>\n",
       "<path style=\"fill:none;stroke-width:2.133957;stroke-linecap:butt;stroke-linejoin:round;stroke:rgb(0%,74.901961%,76.862745%);stroke-opacity:1;stroke-miterlimit:10;\" d=\"M 134.4375 106.796875 L 153.796875 106.796875 \"/>\n",
       "<path style=\"fill:none;stroke-width:1.066978;stroke-linecap:butt;stroke-linejoin:round;stroke:rgb(97.254902%,46.27451%,42.745098%);stroke-opacity:1;stroke-miterlimit:10;\" d=\"M 179.972656 21.953125 L 179.972656 21.515625 \"/>\n",
       "<path style=\"fill:none;stroke-width:1.066978;stroke-linecap:butt;stroke-linejoin:round;stroke:rgb(97.254902%,46.27451%,42.745098%);stroke-opacity:1;stroke-miterlimit:10;\" d=\"M 179.972656 22.386719 L 179.972656 22.792969 \"/>\n",
       "<path style=\"fill-rule:nonzero;fill:rgb(100%,100%,100%);fill-opacity:1;stroke-width:1.066978;stroke-linecap:round;stroke-linejoin:round;stroke:rgb(97.254902%,46.27451%,42.745098%);stroke-opacity:1;stroke-miterlimit:10;\" d=\"M 170.292969 21.953125 L 170.292969 22.386719 L 189.65625 22.386719 L 189.65625 21.953125 Z M 170.292969 21.953125 \"/>\n",
       "<path style=\"fill:none;stroke-width:2.133957;stroke-linecap:butt;stroke-linejoin:round;stroke:rgb(97.254902%,46.27451%,42.745098%);stroke-opacity:1;stroke-miterlimit:10;\" d=\"M 170.292969 22.171875 L 189.65625 22.171875 \"/>\n",
       "<path style=\"fill:none;stroke-width:1.066978;stroke-linecap:butt;stroke-linejoin:round;stroke:rgb(0%,74.901961%,76.862745%);stroke-opacity:1;stroke-miterlimit:10;\" d=\"M 201.488281 55.820312 L 201.488281 55.324219 \"/>\n",
       "<path style=\"fill:none;stroke-width:1.066978;stroke-linecap:butt;stroke-linejoin:round;stroke:rgb(0%,74.901961%,76.862745%);stroke-opacity:1;stroke-miterlimit:10;\" d=\"M 201.488281 56.167969 L 201.488281 56.683594 \"/>\n",
       "<path style=\"fill-rule:nonzero;fill:rgb(100%,100%,100%);fill-opacity:1;stroke-width:1.066978;stroke-linecap:round;stroke-linejoin:round;stroke:rgb(0%,74.901961%,76.862745%);stroke-opacity:1;stroke-miterlimit:10;\" d=\"M 191.804688 55.820312 L 191.804688 56.167969 L 211.167969 56.167969 L 211.167969 55.820312 Z M 191.804688 55.820312 \"/>\n",
       "<path style=\"fill:none;stroke-width:2.133957;stroke-linecap:butt;stroke-linejoin:round;stroke:rgb(0%,74.901961%,76.862745%);stroke-opacity:1;stroke-miterlimit:10;\" d=\"M 191.804688 55.988281 L 211.167969 55.988281 \"/>\n",
       "<path style=\"fill:none;stroke-width:1.066978;stroke-linecap:butt;stroke-linejoin:round;stroke:rgb(97.254902%,46.27451%,42.745098%);stroke-opacity:1;stroke-miterlimit:10;\" d=\"M 237.34375 45.554688 L 237.34375 44.554688 \"/>\n",
       "<path style=\"fill:none;stroke-width:1.066978;stroke-linecap:butt;stroke-linejoin:round;stroke:rgb(97.254902%,46.27451%,42.745098%);stroke-opacity:1;stroke-miterlimit:10;\" d=\"M 237.34375 46.699219 L 237.34375 47.972656 \"/>\n",
       "<path style=\"fill-rule:nonzero;fill:rgb(100%,100%,100%);fill-opacity:1;stroke-width:1.066978;stroke-linecap:round;stroke-linejoin:round;stroke:rgb(97.254902%,46.27451%,42.745098%);stroke-opacity:1;stroke-miterlimit:10;\" d=\"M 227.660156 45.554688 L 227.660156 46.699219 L 247.023438 46.699219 L 247.023438 45.554688 Z M 227.660156 45.554688 \"/>\n",
       "<path style=\"fill:none;stroke-width:2.133957;stroke-linecap:butt;stroke-linejoin:round;stroke:rgb(97.254902%,46.27451%,42.745098%);stroke-opacity:1;stroke-miterlimit:10;\" d=\"M 227.660156 46.035156 L 247.023438 46.035156 \"/>\n",
       "<path style=\"fill-rule:nonzero;fill:rgb(0%,74.901961%,76.862745%);fill-opacity:1;stroke-width:0.708661;stroke-linecap:round;stroke-linejoin:round;stroke:rgb(0%,74.901961%,76.862745%);stroke-opacity:1;stroke-miterlimit:10;\" d=\"M 260.8125 159.527344 C 260.8125 162.132812 256.902344 162.132812 256.902344 159.527344 C 256.902344 156.921875 260.8125 156.921875 260.8125 159.527344 \"/>\n",
       "<path style=\"fill:none;stroke-width:1.066978;stroke-linecap:butt;stroke-linejoin:round;stroke:rgb(0%,74.901961%,76.862745%);stroke-opacity:1;stroke-miterlimit:10;\" d=\"M 258.855469 157.210938 L 258.855469 156.347656 \"/>\n",
       "<path style=\"fill:none;stroke-width:1.066978;stroke-linecap:butt;stroke-linejoin:round;stroke:rgb(0%,74.901961%,76.862745%);stroke-opacity:1;stroke-miterlimit:10;\" d=\"M 258.855469 158.058594 L 258.855469 159.292969 \"/>\n",
       "<path style=\"fill-rule:nonzero;fill:rgb(100%,100%,100%);fill-opacity:1;stroke-width:1.066978;stroke-linecap:round;stroke-linejoin:round;stroke:rgb(0%,74.901961%,76.862745%);stroke-opacity:1;stroke-miterlimit:10;\" d=\"M 249.175781 157.210938 L 249.175781 158.058594 L 268.535156 158.058594 L 268.535156 157.210938 Z M 249.175781 157.210938 \"/>\n",
       "<path style=\"fill:none;stroke-width:2.133957;stroke-linecap:butt;stroke-linejoin:round;stroke:rgb(0%,74.901961%,76.862745%);stroke-opacity:1;stroke-miterlimit:10;\" d=\"M 249.175781 157.492188 L 268.535156 157.492188 \"/>\n",
       "<g clip-path=\"url(#clip14)\" clip-rule=\"nonzero\">\n",
       "<path style=\"fill:none;stroke-width:1.066978;stroke-linecap:round;stroke-linejoin:round;stroke:rgb(20%,20%,20%);stroke-opacity:1;stroke-miterlimit:10;\" d=\"M 41.570312 183.449219 L 282.519531 183.449219 L 282.519531 5.480469 L 41.570312 5.480469 Z M 41.570312 183.449219 \"/>\n",
       "</g>\n",
       "<g style=\"fill:rgb(30.196078%,30.196078%,30.196078%);fill-opacity:1;\">\n",
       "  <use xlink:href=\"#glyphtF7SQCb30-1\" x=\"18.640625\" y=\"186.915039\"/>\n",
       "  <use xlink:href=\"#glyphtF7SQCb30-2\" x=\"23.53418\" y=\"186.915039\"/>\n",
       "  <use xlink:href=\"#glyphtF7SQCb30-3\" x=\"25.979492\" y=\"186.915039\"/>\n",
       "  <use xlink:href=\"#glyphtF7SQCb30-4\" x=\"30.873047\" y=\"186.915039\"/>\n",
       "</g>\n",
       "<g style=\"fill:rgb(30.196078%,30.196078%,30.196078%);fill-opacity:1;\">\n",
       "  <use xlink:href=\"#glyphtF7SQCb30-1\" x=\"18.640625\" y=\"127.59082\"/>\n",
       "  <use xlink:href=\"#glyphtF7SQCb30-2\" x=\"23.53418\" y=\"127.59082\"/>\n",
       "  <use xlink:href=\"#glyphtF7SQCb30-5\" x=\"25.979492\" y=\"127.59082\"/>\n",
       "  <use xlink:href=\"#glyphtF7SQCb30-1\" x=\"30.873047\" y=\"127.59082\"/>\n",
       "</g>\n",
       "<g style=\"fill:rgb(30.196078%,30.196078%,30.196078%);fill-opacity:1;\">\n",
       "  <use xlink:href=\"#glyphtF7SQCb30-1\" x=\"18.640625\" y=\"68.270508\"/>\n",
       "  <use xlink:href=\"#glyphtF7SQCb30-2\" x=\"23.53418\" y=\"68.270508\"/>\n",
       "  <use xlink:href=\"#glyphtF7SQCb30-5\" x=\"25.979492\" y=\"68.270508\"/>\n",
       "  <use xlink:href=\"#glyphtF7SQCb30-4\" x=\"30.873047\" y=\"68.270508\"/>\n",
       "</g>\n",
       "<g style=\"fill:rgb(30.196078%,30.196078%,30.196078%);fill-opacity:1;\">\n",
       "  <use xlink:href=\"#glyphtF7SQCb30-6\" x=\"18.640625\" y=\"8.946289\"/>\n",
       "  <use xlink:href=\"#glyphtF7SQCb30-2\" x=\"23.53418\" y=\"8.946289\"/>\n",
       "  <use xlink:href=\"#glyphtF7SQCb30-1\" x=\"25.979492\" y=\"8.946289\"/>\n",
       "  <use xlink:href=\"#glyphtF7SQCb30-1\" x=\"30.873047\" y=\"8.946289\"/>\n",
       "</g>\n",
       "<path style=\"fill:none;stroke-width:1.066978;stroke-linecap:butt;stroke-linejoin:round;stroke:rgb(20%,20%,20%);stroke-opacity:1;stroke-miterlimit:10;\" d=\"M 38.832031 183.449219 L 41.570312 183.449219 \"/>\n",
       "<path style=\"fill:none;stroke-width:1.066978;stroke-linecap:butt;stroke-linejoin:round;stroke:rgb(20%,20%,20%);stroke-opacity:1;stroke-miterlimit:10;\" d=\"M 38.832031 124.125 L 41.570312 124.125 \"/>\n",
       "<path style=\"fill:none;stroke-width:1.066978;stroke-linecap:butt;stroke-linejoin:round;stroke:rgb(20%,20%,20%);stroke-opacity:1;stroke-miterlimit:10;\" d=\"M 38.832031 64.804688 L 41.570312 64.804688 \"/>\n",
       "<path style=\"fill:none;stroke-width:1.066978;stroke-linecap:butt;stroke-linejoin:round;stroke:rgb(20%,20%,20%);stroke-opacity:1;stroke-miterlimit:10;\" d=\"M 38.832031 5.480469 L 41.570312 5.480469 \"/>\n",
       "<path style=\"fill:none;stroke-width:1.066978;stroke-linecap:butt;stroke-linejoin:round;stroke:rgb(20%,20%,20%);stroke-opacity:1;stroke-miterlimit:10;\" d=\"M 75.992188 186.1875 L 75.992188 183.449219 \"/>\n",
       "<path style=\"fill:none;stroke-width:1.066978;stroke-linecap:butt;stroke-linejoin:round;stroke:rgb(20%,20%,20%);stroke-opacity:1;stroke-miterlimit:10;\" d=\"M 133.359375 186.1875 L 133.359375 183.449219 \"/>\n",
       "<path style=\"fill:none;stroke-width:1.066978;stroke-linecap:butt;stroke-linejoin:round;stroke:rgb(20%,20%,20%);stroke-opacity:1;stroke-miterlimit:10;\" d=\"M 190.730469 186.1875 L 190.730469 183.449219 \"/>\n",
       "<path style=\"fill:none;stroke-width:1.066978;stroke-linecap:butt;stroke-linejoin:round;stroke:rgb(20%,20%,20%);stroke-opacity:1;stroke-miterlimit:10;\" d=\"M 248.097656 186.1875 L 248.097656 183.449219 \"/>\n",
       "<g style=\"fill:rgb(30.196078%,30.196078%,30.196078%);fill-opacity:1;\">\n",
       "  <use xlink:href=\"#glyphtF7SQCb30-7\" x=\"68.492188\" y=\"195.344727\"/>\n",
       "  <use xlink:href=\"#glyphtF7SQCb30-8\" x=\"70.9375\" y=\"195.344727\"/>\n",
       "  <use xlink:href=\"#glyphtF7SQCb30-8\" x=\"76.806641\" y=\"195.344727\"/>\n",
       "</g>\n",
       "<g style=\"fill:rgb(30.196078%,30.196078%,30.196078%);fill-opacity:1;\">\n",
       "  <use xlink:href=\"#glyphtF7SQCb30-9\" x=\"113.359375\" y=\"195.344727\"/>\n",
       "  <use xlink:href=\"#glyphtF7SQCb30-10\" x=\"120.689453\" y=\"195.344727\"/>\n",
       "  <use xlink:href=\"#glyphtF7SQCb30-11\" x=\"126.558594\" y=\"195.344727\"/>\n",
       "  <use xlink:href=\"#glyphtF7SQCb30-12\" x=\"132.913086\" y=\"195.344727\"/>\n",
       "  <use xlink:href=\"#glyphtF7SQCb30-7\" x=\"138.288086\" y=\"195.344727\"/>\n",
       "  <use xlink:href=\"#glyphtF7SQCb30-8\" x=\"140.733398\" y=\"195.344727\"/>\n",
       "  <use xlink:href=\"#glyphtF7SQCb30-13\" x=\"146.602539\" y=\"195.344727\"/>\n",
       "</g>\n",
       "<g style=\"fill:rgb(30.196078%,30.196078%,30.196078%);fill-opacity:1;\">\n",
       "  <use xlink:href=\"#glyphtF7SQCb30-14\" x=\"172.230469\" y=\"195.344727\"/>\n",
       "  <use xlink:href=\"#glyphtF7SQCb30-15\" x=\"177.124023\" y=\"195.344727\"/>\n",
       "  <use xlink:href=\"#glyphtF7SQCb30-16\" x=\"181.524414\" y=\"195.344727\"/>\n",
       "  <use xlink:href=\"#glyphtF7SQCb30-12\" x=\"188.854492\" y=\"195.344727\"/>\n",
       "  <use xlink:href=\"#glyphtF7SQCb30-7\" x=\"194.229492\" y=\"195.344727\"/>\n",
       "  <use xlink:href=\"#glyphtF7SQCb30-8\" x=\"196.674805\" y=\"195.344727\"/>\n",
       "  <use xlink:href=\"#glyphtF7SQCb30-13\" x=\"202.543945\" y=\"195.344727\"/>\n",
       "</g>\n",
       "<g style=\"fill:rgb(30.196078%,30.196078%,30.196078%);fill-opacity:1;\">\n",
       "  <use xlink:href=\"#glyphtF7SQCb30-8\" x=\"228.097656\" y=\"195.344727\"/>\n",
       "  <use xlink:href=\"#glyphtF7SQCb30-17\" x=\"233.966797\" y=\"195.344727\"/>\n",
       "  <use xlink:href=\"#glyphtF7SQCb30-18\" x=\"238.688477\" y=\"195.344727\"/>\n",
       "  <use xlink:href=\"#glyphtF7SQCb30-11\" x=\"244.557617\" y=\"195.344727\"/>\n",
       "  <use xlink:href=\"#glyphtF7SQCb30-16\" x=\"250.912109\" y=\"195.344727\"/>\n",
       "  <use xlink:href=\"#glyphtF7SQCb30-19\" x=\"258.242188\" y=\"195.344727\"/>\n",
       "  <use xlink:href=\"#glyphtF7SQCb30-20\" x=\"263.135742\" y=\"195.344727\"/>\n",
       "</g>\n",
       "<g style=\"fill:rgb(0%,0%,0%);fill-opacity:1;\">\n",
       "  <use xlink:href=\"#glyphtF7SQCb31-1\" x=\"141.546875\" y=\"208.05957\"/>\n",
       "  <use xlink:href=\"#glyphtF7SQCb31-2\" x=\"148.883789\" y=\"208.05957\"/>\n",
       "  <use xlink:href=\"#glyphtF7SQCb31-3\" x=\"152.546875\" y=\"208.05957\"/>\n",
       "  <use xlink:href=\"#glyphtF7SQCb31-4\" x=\"158.665039\" y=\"208.05957\"/>\n",
       "  <use xlink:href=\"#glyphtF7SQCb31-3\" x=\"161.72168\" y=\"208.05957\"/>\n",
       "  <use xlink:href=\"#glyphtF7SQCb31-5\" x=\"167.839844\" y=\"208.05957\"/>\n",
       "  <use xlink:href=\"#glyphtF7SQCb31-3\" x=\"173.339844\" y=\"208.05957\"/>\n",
       "  <use xlink:href=\"#glyphtF7SQCb31-6\" x=\"179.458008\" y=\"208.05957\"/>\n",
       "</g>\n",
       "<g style=\"fill:rgb(0%,0%,0%);fill-opacity:1;\">\n",
       "  <use xlink:href=\"#glyphtF7SQCb32-1\" x=\"13.438477\" y=\"140.464844\"/>\n",
       "  <use xlink:href=\"#glyphtF7SQCb32-2\" x=\"13.438477\" y=\"131.301758\"/>\n",
       "  <use xlink:href=\"#glyphtF7SQCb32-3\" x=\"13.438477\" y=\"125.183594\"/>\n",
       "  <use xlink:href=\"#glyphtF7SQCb32-2\" x=\"13.438477\" y=\"122.126953\"/>\n",
       "  <use xlink:href=\"#glyphtF7SQCb32-4\" x=\"13.438477\" y=\"116.008789\"/>\n",
       "  <use xlink:href=\"#glyphtF7SQCb32-5\" x=\"13.438477\" y=\"109.890625\"/>\n",
       "  <use xlink:href=\"#glyphtF7SQCb32-6\" x=\"13.438477\" y=\"107.446289\"/>\n",
       "  <use xlink:href=\"#glyphtF7SQCb32-7\" x=\"13.438477\" y=\"104.389648\"/>\n",
       "  <use xlink:href=\"#glyphtF7SQCb32-8\" x=\"13.438477\" y=\"101.333008\"/>\n",
       "  <use xlink:href=\"#glyphtF7SQCb32-9\" x=\"13.438477\" y=\"95.214844\"/>\n",
       "  <use xlink:href=\"#glyphtF7SQCb32-10\" x=\"13.438477\" y=\"92.158203\"/>\n",
       "  <use xlink:href=\"#glyphtF7SQCb32-11\" x=\"13.438477\" y=\"86.040039\"/>\n",
       "  <use xlink:href=\"#glyphtF7SQCb32-12\" x=\"13.438477\" y=\"82.376953\"/>\n",
       "  <use xlink:href=\"#glyphtF7SQCb32-4\" x=\"13.438477\" y=\"73.213867\"/>\n",
       "  <use xlink:href=\"#glyphtF7SQCb32-3\" x=\"13.438477\" y=\"67.095703\"/>\n",
       "  <use xlink:href=\"#glyphtF7SQCb32-13\" x=\"13.438477\" y=\"64.039062\"/>\n",
       "  <use xlink:href=\"#glyphtF7SQCb32-10\" x=\"13.438477\" y=\"61.594727\"/>\n",
       "  <use xlink:href=\"#glyphtF7SQCb32-8\" x=\"13.438477\" y=\"55.476562\"/>\n",
       "</g>\n",
       "<g style=\"fill:rgb(0%,0%,0%);fill-opacity:1;\">\n",
       "  <use xlink:href=\"#glyphtF7SQCb31-7\" x=\"49.460938\" y=\"134.950195\"/>\n",
       "  <use xlink:href=\"#glyphtF7SQCb31-8\" x=\"55.573242\" y=\"134.950195\"/>\n",
       "  <use xlink:href=\"#glyphtF7SQCb31-9\" x=\"61.073242\" y=\"134.950195\"/>\n",
       "  <use xlink:href=\"#glyphtF7SQCb31-10\" x=\"67.191406\" y=\"134.950195\"/>\n",
       "</g>\n",
       "<path style=\" stroke:none;fill-rule:nonzero;fill:rgb(100%,100%,100%);fill-opacity:1;\" d=\"M 49.460938 158.910156 L 66.742188 158.910156 L 66.742188 141.628906 L 49.460938 141.628906 Z M 49.460938 158.910156 \"/>\n",
       "<path style=\"fill:none;stroke-width:1.066978;stroke-linecap:round;stroke-linejoin:round;stroke:rgb(97.254902%,46.27451%,42.745098%);stroke-opacity:1;stroke-miterlimit:10;\" d=\"M 58.101562 157.183594 L 58.101562 154.589844 \"/>\n",
       "<path style=\"fill:none;stroke-width:1.066978;stroke-linecap:round;stroke-linejoin:round;stroke:rgb(97.254902%,46.27451%,42.745098%);stroke-opacity:1;stroke-miterlimit:10;\" d=\"M 58.101562 145.949219 L 58.101562 143.359375 \"/>\n",
       "<path style=\"fill-rule:nonzero;fill:rgb(100%,100%,100%);fill-opacity:1;stroke-width:1.066978;stroke-linecap:round;stroke-linejoin:round;stroke:rgb(97.254902%,46.27451%,42.745098%);stroke-opacity:1;stroke-miterlimit:10;\" d=\"M 51.621094 154.589844 L 64.582031 154.589844 L 64.582031 145.949219 L 51.621094 145.949219 Z M 51.621094 154.589844 \"/>\n",
       "<path style=\"fill:none;stroke-width:1.066978;stroke-linecap:round;stroke-linejoin:round;stroke:rgb(97.254902%,46.27451%,42.745098%);stroke-opacity:1;stroke-miterlimit:10;\" d=\"M 51.621094 150.269531 L 64.578125 150.269531 \"/>\n",
       "<path style=\" stroke:none;fill-rule:nonzero;fill:rgb(100%,100%,100%);fill-opacity:1;\" d=\"M 49.460938 176.191406 L 66.742188 176.191406 L 66.742188 158.910156 L 49.460938 158.910156 Z M 49.460938 176.191406 \"/>\n",
       "<path style=\"fill:none;stroke-width:1.066978;stroke-linecap:round;stroke-linejoin:round;stroke:rgb(0%,74.901961%,76.862745%);stroke-opacity:1;stroke-miterlimit:10;\" d=\"M 58.101562 174.460938 L 58.101562 171.871094 \"/>\n",
       "<path style=\"fill:none;stroke-width:1.066978;stroke-linecap:round;stroke-linejoin:round;stroke:rgb(0%,74.901961%,76.862745%);stroke-opacity:1;stroke-miterlimit:10;\" d=\"M 58.101562 163.230469 L 58.101562 160.636719 \"/>\n",
       "<path style=\"fill-rule:nonzero;fill:rgb(100%,100%,100%);fill-opacity:1;stroke-width:1.066978;stroke-linecap:round;stroke-linejoin:round;stroke:rgb(0%,74.901961%,76.862745%);stroke-opacity:1;stroke-miterlimit:10;\" d=\"M 51.621094 171.871094 L 64.582031 171.871094 L 64.582031 163.230469 L 51.621094 163.230469 Z M 51.621094 171.871094 \"/>\n",
       "<path style=\"fill:none;stroke-width:1.066978;stroke-linecap:round;stroke-linejoin:round;stroke:rgb(0%,74.901961%,76.862745%);stroke-opacity:1;stroke-miterlimit:10;\" d=\"M 51.621094 167.550781 L 64.578125 167.550781 \"/>\n",
       "<g style=\"fill:rgb(0%,0%,0%);fill-opacity:1;\">\n",
       "  <use xlink:href=\"#glyphtF7SQCb30-18\" x=\"72.21875\" y=\"153.735352\"/>\n",
       "  <use xlink:href=\"#glyphtF7SQCb30-21\" x=\"77.928711\" y=\"153.735352\"/>\n",
       "  <use xlink:href=\"#glyphtF7SQCb30-22\" x=\"82.329102\" y=\"153.735352\"/>\n",
       "  <use xlink:href=\"#glyphtF7SQCb30-23\" x=\"87.222656\" y=\"153.735352\"/>\n",
       "  <use xlink:href=\"#glyphtF7SQCb30-19\" x=\"90.15332\" y=\"153.735352\"/>\n",
       "  <use xlink:href=\"#glyphtF7SQCb30-24\" x=\"95.046875\" y=\"153.735352\"/>\n",
       "  <use xlink:href=\"#glyphtF7SQCb30-22\" x=\"99.94043\" y=\"153.735352\"/>\n",
       "  <use xlink:href=\"#glyphtF7SQCb30-25\" x=\"104.833984\" y=\"153.735352\"/>\n",
       "</g>\n",
       "<g style=\"fill:rgb(0%,0%,0%);fill-opacity:1;\">\n",
       "  <use xlink:href=\"#glyphtF7SQCb30-11\" x=\"72.21875\" y=\"171.016602\"/>\n",
       "  <use xlink:href=\"#glyphtF7SQCb30-19\" x=\"78.573242\" y=\"171.016602\"/>\n",
       "  <use xlink:href=\"#glyphtF7SQCb30-26\" x=\"83.466797\" y=\"171.016602\"/>\n",
       "</g>\n",
       "<path style=\" stroke:none;fill-rule:nonzero;fill:rgb(100%,100%,100%);fill-opacity:1;\" d=\"M 288 216 L 576 216 L 576 0 L 288 0 Z M 288 216 \"/>\n",
       "<g clip-path=\"url(#clip15)\" clip-rule=\"nonzero\">\n",
       "<path style=\"fill:none;stroke-width:1.066978;stroke-linecap:round;stroke-linejoin:round;stroke:rgb(100%,100%,100%);stroke-opacity:1;stroke-miterlimit:10;\" d=\"M 288 216 L 576 216 L 576 0 L 288 0 Z M 288 216 \"/>\n",
       "</g>\n",
       "<g clip-path=\"url(#clip16)\" clip-rule=\"nonzero\">\n",
       "<path style=\" stroke:none;fill-rule:nonzero;fill:rgb(100%,100%,100%);fill-opacity:1;\" d=\"M 329.570312 183.449219 L 570.519531 183.449219 L 570.519531 5.480469 L 329.570312 5.480469 Z M 329.570312 183.449219 \"/>\n",
       "</g>\n",
       "<g clip-path=\"url(#clip17)\" clip-rule=\"nonzero\">\n",
       "<path style=\"fill:none;stroke-width:0.533489;stroke-linecap:butt;stroke-linejoin:round;stroke:rgb(92.156863%,92.156863%,92.156863%);stroke-opacity:1;stroke-miterlimit:10;\" d=\"M 329.570312 153.789062 L 570.519531 153.789062 \"/>\n",
       "</g>\n",
       "<g clip-path=\"url(#clip18)\" clip-rule=\"nonzero\">\n",
       "<path style=\"fill:none;stroke-width:0.533489;stroke-linecap:butt;stroke-linejoin:round;stroke:rgb(92.156863%,92.156863%,92.156863%);stroke-opacity:1;stroke-miterlimit:10;\" d=\"M 329.570312 94.464844 L 570.519531 94.464844 \"/>\n",
       "</g>\n",
       "<g clip-path=\"url(#clip19)\" clip-rule=\"nonzero\">\n",
       "<path style=\"fill:none;stroke-width:0.533489;stroke-linecap:butt;stroke-linejoin:round;stroke:rgb(92.156863%,92.156863%,92.156863%);stroke-opacity:1;stroke-miterlimit:10;\" d=\"M 329.570312 35.140625 L 570.519531 35.140625 \"/>\n",
       "</g>\n",
       "<g clip-path=\"url(#clip20)\" clip-rule=\"nonzero\">\n",
       "<path style=\"fill:none;stroke-width:1.066978;stroke-linecap:butt;stroke-linejoin:round;stroke:rgb(92.156863%,92.156863%,92.156863%);stroke-opacity:1;stroke-miterlimit:10;\" d=\"M 329.570312 183.449219 L 570.519531 183.449219 \"/>\n",
       "</g>\n",
       "<g clip-path=\"url(#clip21)\" clip-rule=\"nonzero\">\n",
       "<path style=\"fill:none;stroke-width:1.066978;stroke-linecap:butt;stroke-linejoin:round;stroke:rgb(92.156863%,92.156863%,92.156863%);stroke-opacity:1;stroke-miterlimit:10;\" d=\"M 329.570312 124.125 L 570.519531 124.125 \"/>\n",
       "</g>\n",
       "<g clip-path=\"url(#clip22)\" clip-rule=\"nonzero\">\n",
       "<path style=\"fill:none;stroke-width:1.066978;stroke-linecap:butt;stroke-linejoin:round;stroke:rgb(92.156863%,92.156863%,92.156863%);stroke-opacity:1;stroke-miterlimit:10;\" d=\"M 329.570312 64.804688 L 570.519531 64.804688 \"/>\n",
       "</g>\n",
       "<g clip-path=\"url(#clip23)\" clip-rule=\"nonzero\">\n",
       "<path style=\"fill:none;stroke-width:1.066978;stroke-linecap:butt;stroke-linejoin:round;stroke:rgb(92.156863%,92.156863%,92.156863%);stroke-opacity:1;stroke-miterlimit:10;\" d=\"M 329.570312 5.480469 L 570.519531 5.480469 \"/>\n",
       "</g>\n",
       "<g clip-path=\"url(#clip24)\" clip-rule=\"nonzero\">\n",
       "<path style=\"fill:none;stroke-width:1.066978;stroke-linecap:butt;stroke-linejoin:round;stroke:rgb(92.156863%,92.156863%,92.156863%);stroke-opacity:1;stroke-miterlimit:10;\" d=\"M 363.992188 183.449219 L 363.992188 5.480469 \"/>\n",
       "</g>\n",
       "<g clip-path=\"url(#clip25)\" clip-rule=\"nonzero\">\n",
       "<path style=\"fill:none;stroke-width:1.066978;stroke-linecap:butt;stroke-linejoin:round;stroke:rgb(92.156863%,92.156863%,92.156863%);stroke-opacity:1;stroke-miterlimit:10;\" d=\"M 421.359375 183.449219 L 421.359375 5.480469 \"/>\n",
       "</g>\n",
       "<g clip-path=\"url(#clip26)\" clip-rule=\"nonzero\">\n",
       "<path style=\"fill:none;stroke-width:1.066978;stroke-linecap:butt;stroke-linejoin:round;stroke:rgb(92.156863%,92.156863%,92.156863%);stroke-opacity:1;stroke-miterlimit:10;\" d=\"M 478.730469 183.449219 L 478.730469 5.480469 \"/>\n",
       "</g>\n",
       "<g clip-path=\"url(#clip27)\" clip-rule=\"nonzero\">\n",
       "<path style=\"fill:none;stroke-width:1.066978;stroke-linecap:butt;stroke-linejoin:round;stroke:rgb(92.156863%,92.156863%,92.156863%);stroke-opacity:1;stroke-miterlimit:10;\" d=\"M 536.097656 183.449219 L 536.097656 5.480469 \"/>\n",
       "</g>\n",
       "<path style=\"fill-rule:nonzero;fill:rgb(97.254902%,46.27451%,42.745098%);fill-opacity:1;stroke-width:0.708661;stroke-linecap:round;stroke-linejoin:round;stroke:rgb(97.254902%,46.27451%,42.745098%);stroke-opacity:1;stroke-miterlimit:10;\" d=\"M 355.191406 21.945312 C 355.191406 24.550781 351.28125 24.550781 351.28125 21.945312 C 351.28125 19.335938 355.191406 19.335938 355.191406 21.945312 \"/>\n",
       "<path style=\"fill-rule:nonzero;fill:rgb(97.254902%,46.27451%,42.745098%);fill-opacity:1;stroke-width:0.708661;stroke-linecap:round;stroke-linejoin:round;stroke:rgb(97.254902%,46.27451%,42.745098%);stroke-opacity:1;stroke-miterlimit:10;\" d=\"M 355.191406 22.128906 C 355.191406 24.734375 351.28125 24.734375 351.28125 22.128906 C 351.28125 19.523438 355.191406 19.523438 355.191406 22.128906 \"/>\n",
       "<path style=\"fill:none;stroke-width:1.066978;stroke-linecap:butt;stroke-linejoin:round;stroke:rgb(97.254902%,46.27451%,42.745098%);stroke-opacity:1;stroke-miterlimit:10;\" d=\"M 353.234375 26.066406 L 353.234375 22.542969 \"/>\n",
       "<path style=\"fill:none;stroke-width:1.066978;stroke-linecap:butt;stroke-linejoin:round;stroke:rgb(97.254902%,46.27451%,42.745098%);stroke-opacity:1;stroke-miterlimit:10;\" d=\"M 353.234375 28.46875 L 353.234375 31.691406 \"/>\n",
       "<path style=\"fill-rule:nonzero;fill:rgb(100%,100%,100%);fill-opacity:1;stroke-width:1.066978;stroke-linecap:round;stroke-linejoin:round;stroke:rgb(97.254902%,46.27451%,42.745098%);stroke-opacity:1;stroke-miterlimit:10;\" d=\"M 343.554688 26.066406 L 343.554688 28.46875 L 362.917969 28.46875 L 362.917969 26.066406 Z M 343.554688 26.066406 \"/>\n",
       "<path style=\"fill:none;stroke-width:2.133957;stroke-linecap:butt;stroke-linejoin:round;stroke:rgb(97.254902%,46.27451%,42.745098%);stroke-opacity:1;stroke-miterlimit:10;\" d=\"M 343.554688 27.253906 L 362.917969 27.253906 \"/>\n",
       "<path style=\"fill-rule:nonzero;fill:rgb(0%,74.901961%,76.862745%);fill-opacity:1;stroke-width:0.708661;stroke-linecap:round;stroke-linejoin:round;stroke:rgb(0%,74.901961%,76.862745%);stroke-opacity:1;stroke-miterlimit:10;\" d=\"M 376.703125 92.113281 C 376.703125 94.71875 372.792969 94.71875 372.792969 92.113281 C 372.792969 89.507812 376.703125 89.507812 376.703125 92.113281 \"/>\n",
       "<path style=\"fill:none;stroke-width:1.066978;stroke-linecap:butt;stroke-linejoin:round;stroke:rgb(0%,74.901961%,76.862745%);stroke-opacity:1;stroke-miterlimit:10;\" d=\"M 374.75 97.972656 L 374.75 93.765625 \"/>\n",
       "<path style=\"fill:none;stroke-width:1.066978;stroke-linecap:butt;stroke-linejoin:round;stroke:rgb(0%,74.901961%,76.862745%);stroke-opacity:1;stroke-miterlimit:10;\" d=\"M 374.75 101.511719 L 374.75 106.65625 \"/>\n",
       "<path style=\"fill-rule:nonzero;fill:rgb(100%,100%,100%);fill-opacity:1;stroke-width:1.066978;stroke-linecap:round;stroke-linejoin:round;stroke:rgb(0%,74.901961%,76.862745%);stroke-opacity:1;stroke-miterlimit:10;\" d=\"M 365.066406 97.972656 L 365.066406 101.511719 L 384.429688 101.511719 L 384.429688 97.972656 Z M 365.066406 97.972656 \"/>\n",
       "<path style=\"fill:none;stroke-width:2.133957;stroke-linecap:butt;stroke-linejoin:round;stroke:rgb(0%,74.901961%,76.862745%);stroke-opacity:1;stroke-miterlimit:10;\" d=\"M 365.066406 99.574219 L 384.429688 99.574219 \"/>\n",
       "<path style=\"fill:none;stroke-width:1.066978;stroke-linecap:butt;stroke-linejoin:round;stroke:rgb(97.254902%,46.27451%,42.745098%);stroke-opacity:1;stroke-miterlimit:10;\" d=\"M 410.605469 14.601562 L 410.605469 14.496094 \"/>\n",
       "<path style=\"fill:none;stroke-width:1.066978;stroke-linecap:butt;stroke-linejoin:round;stroke:rgb(97.254902%,46.27451%,42.745098%);stroke-opacity:1;stroke-miterlimit:10;\" d=\"M 410.605469 14.699219 L 410.605469 14.789062 \"/>\n",
       "<path style=\"fill-rule:nonzero;fill:rgb(100%,100%,100%);fill-opacity:1;stroke-width:1.066978;stroke-linecap:round;stroke-linejoin:round;stroke:rgb(97.254902%,46.27451%,42.745098%);stroke-opacity:1;stroke-miterlimit:10;\" d=\"M 400.921875 14.601562 L 400.921875 14.699219 L 420.285156 14.699219 L 420.285156 14.601562 Z M 400.921875 14.601562 \"/>\n",
       "<path style=\"fill:none;stroke-width:2.133957;stroke-linecap:butt;stroke-linejoin:round;stroke:rgb(97.254902%,46.27451%,42.745098%);stroke-opacity:1;stroke-miterlimit:10;\" d=\"M 400.921875 14.660156 L 420.285156 14.660156 \"/>\n",
       "<path style=\"fill-rule:nonzero;fill:rgb(0%,74.901961%,76.862745%);fill-opacity:1;stroke-width:0.708661;stroke-linecap:round;stroke-linejoin:round;stroke:rgb(0%,74.901961%,76.862745%);stroke-opacity:1;stroke-miterlimit:10;\" d=\"M 434.074219 54.074219 C 434.074219 56.679688 430.164062 56.679688 430.164062 54.074219 C 430.164062 51.46875 434.074219 51.46875 434.074219 54.074219 \"/>\n",
       "<path style=\"fill:none;stroke-width:1.066978;stroke-linecap:butt;stroke-linejoin:round;stroke:rgb(0%,74.901961%,76.862745%);stroke-opacity:1;stroke-miterlimit:10;\" d=\"M 432.117188 53.523438 L 432.117188 53.332031 \"/>\n",
       "<path style=\"fill:none;stroke-width:1.066978;stroke-linecap:butt;stroke-linejoin:round;stroke:rgb(0%,74.901961%,76.862745%);stroke-opacity:1;stroke-miterlimit:10;\" d=\"M 432.117188 53.742188 L 432.117188 53.933594 \"/>\n",
       "<path style=\"fill-rule:nonzero;fill:rgb(100%,100%,100%);fill-opacity:1;stroke-width:1.066978;stroke-linecap:round;stroke-linejoin:round;stroke:rgb(0%,74.901961%,76.862745%);stroke-opacity:1;stroke-miterlimit:10;\" d=\"M 422.4375 53.523438 L 422.4375 53.742188 L 441.796875 53.742188 L 441.796875 53.523438 Z M 422.4375 53.523438 \"/>\n",
       "<path style=\"fill:none;stroke-width:2.133957;stroke-linecap:butt;stroke-linejoin:round;stroke:rgb(0%,74.901961%,76.862745%);stroke-opacity:1;stroke-miterlimit:10;\" d=\"M 422.4375 53.621094 L 441.796875 53.621094 \"/>\n",
       "<path style=\"fill-rule:nonzero;fill:rgb(97.254902%,46.27451%,42.745098%);fill-opacity:1;stroke-width:0.708661;stroke-linecap:round;stroke-linejoin:round;stroke:rgb(97.254902%,46.27451%,42.745098%);stroke-opacity:1;stroke-miterlimit:10;\" d=\"M 469.929688 30.878906 C 469.929688 33.484375 466.019531 33.484375 466.019531 30.878906 C 466.019531 28.273438 469.929688 28.273438 469.929688 30.878906 \"/>\n",
       "<path style=\"fill:none;stroke-width:1.066978;stroke-linecap:butt;stroke-linejoin:round;stroke:rgb(97.254902%,46.27451%,42.745098%);stroke-opacity:1;stroke-miterlimit:10;\" d=\"M 467.972656 32.050781 L 467.972656 31.144531 \"/>\n",
       "<path style=\"fill:none;stroke-width:1.066978;stroke-linecap:butt;stroke-linejoin:round;stroke:rgb(97.254902%,46.27451%,42.745098%);stroke-opacity:1;stroke-miterlimit:10;\" d=\"M 467.972656 32.824219 L 467.972656 33.332031 \"/>\n",
       "<path style=\"fill-rule:nonzero;fill:rgb(100%,100%,100%);fill-opacity:1;stroke-width:1.066978;stroke-linecap:round;stroke-linejoin:round;stroke:rgb(97.254902%,46.27451%,42.745098%);stroke-opacity:1;stroke-miterlimit:10;\" d=\"M 458.292969 32.050781 L 458.292969 32.824219 L 477.65625 32.824219 L 477.65625 32.050781 Z M 458.292969 32.050781 \"/>\n",
       "<path style=\"fill:none;stroke-width:2.133957;stroke-linecap:butt;stroke-linejoin:round;stroke:rgb(97.254902%,46.27451%,42.745098%);stroke-opacity:1;stroke-miterlimit:10;\" d=\"M 458.292969 32.4375 L 477.65625 32.4375 \"/>\n",
       "<path style=\"fill:none;stroke-width:1.066978;stroke-linecap:butt;stroke-linejoin:round;stroke:rgb(0%,74.901961%,76.862745%);stroke-opacity:1;stroke-miterlimit:10;\" d=\"M 489.488281 169.1875 L 489.488281 167.359375 \"/>\n",
       "<path style=\"fill:none;stroke-width:1.066978;stroke-linecap:butt;stroke-linejoin:round;stroke:rgb(0%,74.901961%,76.862745%);stroke-opacity:1;stroke-miterlimit:10;\" d=\"M 489.488281 170.488281 L 489.488281 172.152344 \"/>\n",
       "<path style=\"fill-rule:nonzero;fill:rgb(100%,100%,100%);fill-opacity:1;stroke-width:1.066978;stroke-linecap:round;stroke-linejoin:round;stroke:rgb(0%,74.901961%,76.862745%);stroke-opacity:1;stroke-miterlimit:10;\" d=\"M 479.804688 169.1875 L 479.804688 170.488281 L 499.167969 170.488281 L 499.167969 169.1875 Z M 479.804688 169.1875 \"/>\n",
       "<path style=\"fill:none;stroke-width:2.133957;stroke-linecap:butt;stroke-linejoin:round;stroke:rgb(0%,74.901961%,76.862745%);stroke-opacity:1;stroke-miterlimit:10;\" d=\"M 479.804688 169.972656 L 499.167969 169.972656 \"/>\n",
       "<path style=\"fill:none;stroke-width:1.066978;stroke-linecap:butt;stroke-linejoin:round;stroke:rgb(97.254902%,46.27451%,42.745098%);stroke-opacity:1;stroke-miterlimit:10;\" d=\"M 525.34375 23.503906 L 525.34375 23.113281 \"/>\n",
       "<path style=\"fill:none;stroke-width:1.066978;stroke-linecap:butt;stroke-linejoin:round;stroke:rgb(97.254902%,46.27451%,42.745098%);stroke-opacity:1;stroke-miterlimit:10;\" d=\"M 525.34375 23.953125 L 525.34375 24.441406 \"/>\n",
       "<path style=\"fill-rule:nonzero;fill:rgb(100%,100%,100%);fill-opacity:1;stroke-width:1.066978;stroke-linecap:round;stroke-linejoin:round;stroke:rgb(97.254902%,46.27451%,42.745098%);stroke-opacity:1;stroke-miterlimit:10;\" d=\"M 515.660156 23.503906 L 515.660156 23.953125 L 535.023438 23.953125 L 535.023438 23.503906 Z M 515.660156 23.503906 \"/>\n",
       "<path style=\"fill:none;stroke-width:2.133957;stroke-linecap:butt;stroke-linejoin:round;stroke:rgb(97.254902%,46.27451%,42.745098%);stroke-opacity:1;stroke-miterlimit:10;\" d=\"M 515.660156 23.785156 L 535.023438 23.785156 \"/>\n",
       "<path style=\"fill:none;stroke-width:1.066978;stroke-linecap:butt;stroke-linejoin:round;stroke:rgb(0%,74.901961%,76.862745%);stroke-opacity:1;stroke-miterlimit:10;\" d=\"M 546.855469 98.300781 L 546.855469 97.761719 \"/>\n",
       "<path style=\"fill:none;stroke-width:1.066978;stroke-linecap:butt;stroke-linejoin:round;stroke:rgb(0%,74.901961%,76.862745%);stroke-opacity:1;stroke-miterlimit:10;\" d=\"M 546.855469 98.886719 L 546.855469 99.359375 \"/>\n",
       "<path style=\"fill-rule:nonzero;fill:rgb(100%,100%,100%);fill-opacity:1;stroke-width:1.066978;stroke-linecap:round;stroke-linejoin:round;stroke:rgb(0%,74.901961%,76.862745%);stroke-opacity:1;stroke-miterlimit:10;\" d=\"M 537.175781 98.300781 L 537.175781 98.886719 L 556.535156 98.886719 L 556.535156 98.300781 Z M 537.175781 98.300781 \"/>\n",
       "<path style=\"fill:none;stroke-width:2.133957;stroke-linecap:butt;stroke-linejoin:round;stroke:rgb(0%,74.901961%,76.862745%);stroke-opacity:1;stroke-miterlimit:10;\" d=\"M 537.175781 98.667969 L 556.535156 98.667969 \"/>\n",
       "<g clip-path=\"url(#clip28)\" clip-rule=\"nonzero\">\n",
       "<path style=\"fill:none;stroke-width:1.066978;stroke-linecap:round;stroke-linejoin:round;stroke:rgb(20%,20%,20%);stroke-opacity:1;stroke-miterlimit:10;\" d=\"M 329.570312 183.449219 L 570.519531 183.449219 L 570.519531 5.480469 L 329.570312 5.480469 Z M 329.570312 183.449219 \"/>\n",
       "</g>\n",
       "<g style=\"fill:rgb(30.196078%,30.196078%,30.196078%);fill-opacity:1;\">\n",
       "  <use xlink:href=\"#glyphtF7SQCb30-1\" x=\"306.640625\" y=\"186.915039\"/>\n",
       "  <use xlink:href=\"#glyphtF7SQCb30-2\" x=\"311.53418\" y=\"186.915039\"/>\n",
       "  <use xlink:href=\"#glyphtF7SQCb30-3\" x=\"313.979492\" y=\"186.915039\"/>\n",
       "  <use xlink:href=\"#glyphtF7SQCb30-4\" x=\"318.873047\" y=\"186.915039\"/>\n",
       "</g>\n",
       "<g style=\"fill:rgb(30.196078%,30.196078%,30.196078%);fill-opacity:1;\">\n",
       "  <use xlink:href=\"#glyphtF7SQCb30-1\" x=\"306.640625\" y=\"127.59082\"/>\n",
       "  <use xlink:href=\"#glyphtF7SQCb30-2\" x=\"311.53418\" y=\"127.59082\"/>\n",
       "  <use xlink:href=\"#glyphtF7SQCb30-5\" x=\"313.979492\" y=\"127.59082\"/>\n",
       "  <use xlink:href=\"#glyphtF7SQCb30-1\" x=\"318.873047\" y=\"127.59082\"/>\n",
       "</g>\n",
       "<g style=\"fill:rgb(30.196078%,30.196078%,30.196078%);fill-opacity:1;\">\n",
       "  <use xlink:href=\"#glyphtF7SQCb30-1\" x=\"306.640625\" y=\"68.270508\"/>\n",
       "  <use xlink:href=\"#glyphtF7SQCb30-2\" x=\"311.53418\" y=\"68.270508\"/>\n",
       "  <use xlink:href=\"#glyphtF7SQCb30-5\" x=\"313.979492\" y=\"68.270508\"/>\n",
       "  <use xlink:href=\"#glyphtF7SQCb30-4\" x=\"318.873047\" y=\"68.270508\"/>\n",
       "</g>\n",
       "<g style=\"fill:rgb(30.196078%,30.196078%,30.196078%);fill-opacity:1;\">\n",
       "  <use xlink:href=\"#glyphtF7SQCb30-6\" x=\"306.640625\" y=\"8.946289\"/>\n",
       "  <use xlink:href=\"#glyphtF7SQCb30-2\" x=\"311.53418\" y=\"8.946289\"/>\n",
       "  <use xlink:href=\"#glyphtF7SQCb30-1\" x=\"313.979492\" y=\"8.946289\"/>\n",
       "  <use xlink:href=\"#glyphtF7SQCb30-1\" x=\"318.873047\" y=\"8.946289\"/>\n",
       "</g>\n",
       "<path style=\"fill:none;stroke-width:1.066978;stroke-linecap:butt;stroke-linejoin:round;stroke:rgb(20%,20%,20%);stroke-opacity:1;stroke-miterlimit:10;\" d=\"M 326.832031 183.449219 L 329.570312 183.449219 \"/>\n",
       "<path style=\"fill:none;stroke-width:1.066978;stroke-linecap:butt;stroke-linejoin:round;stroke:rgb(20%,20%,20%);stroke-opacity:1;stroke-miterlimit:10;\" d=\"M 326.832031 124.125 L 329.570312 124.125 \"/>\n",
       "<path style=\"fill:none;stroke-width:1.066978;stroke-linecap:butt;stroke-linejoin:round;stroke:rgb(20%,20%,20%);stroke-opacity:1;stroke-miterlimit:10;\" d=\"M 326.832031 64.804688 L 329.570312 64.804688 \"/>\n",
       "<path style=\"fill:none;stroke-width:1.066978;stroke-linecap:butt;stroke-linejoin:round;stroke:rgb(20%,20%,20%);stroke-opacity:1;stroke-miterlimit:10;\" d=\"M 326.832031 5.480469 L 329.570312 5.480469 \"/>\n",
       "<path style=\"fill:none;stroke-width:1.066978;stroke-linecap:butt;stroke-linejoin:round;stroke:rgb(20%,20%,20%);stroke-opacity:1;stroke-miterlimit:10;\" d=\"M 363.992188 186.1875 L 363.992188 183.449219 \"/>\n",
       "<path style=\"fill:none;stroke-width:1.066978;stroke-linecap:butt;stroke-linejoin:round;stroke:rgb(20%,20%,20%);stroke-opacity:1;stroke-miterlimit:10;\" d=\"M 421.359375 186.1875 L 421.359375 183.449219 \"/>\n",
       "<path style=\"fill:none;stroke-width:1.066978;stroke-linecap:butt;stroke-linejoin:round;stroke:rgb(20%,20%,20%);stroke-opacity:1;stroke-miterlimit:10;\" d=\"M 478.730469 186.1875 L 478.730469 183.449219 \"/>\n",
       "<path style=\"fill:none;stroke-width:1.066978;stroke-linecap:butt;stroke-linejoin:round;stroke:rgb(20%,20%,20%);stroke-opacity:1;stroke-miterlimit:10;\" d=\"M 536.097656 186.1875 L 536.097656 183.449219 \"/>\n",
       "<g style=\"fill:rgb(30.196078%,30.196078%,30.196078%);fill-opacity:1;\">\n",
       "  <use xlink:href=\"#glyphtF7SQCb30-7\" x=\"356.492188\" y=\"195.344727\"/>\n",
       "  <use xlink:href=\"#glyphtF7SQCb30-8\" x=\"358.9375\" y=\"195.344727\"/>\n",
       "  <use xlink:href=\"#glyphtF7SQCb30-8\" x=\"364.806641\" y=\"195.344727\"/>\n",
       "</g>\n",
       "<g style=\"fill:rgb(30.196078%,30.196078%,30.196078%);fill-opacity:1;\">\n",
       "  <use xlink:href=\"#glyphtF7SQCb30-9\" x=\"401.359375\" y=\"195.344727\"/>\n",
       "  <use xlink:href=\"#glyphtF7SQCb30-10\" x=\"408.689453\" y=\"195.344727\"/>\n",
       "  <use xlink:href=\"#glyphtF7SQCb30-11\" x=\"414.558594\" y=\"195.344727\"/>\n",
       "  <use xlink:href=\"#glyphtF7SQCb30-12\" x=\"420.913086\" y=\"195.344727\"/>\n",
       "  <use xlink:href=\"#glyphtF7SQCb30-7\" x=\"426.288086\" y=\"195.344727\"/>\n",
       "  <use xlink:href=\"#glyphtF7SQCb30-8\" x=\"428.733398\" y=\"195.344727\"/>\n",
       "  <use xlink:href=\"#glyphtF7SQCb30-13\" x=\"434.602539\" y=\"195.344727\"/>\n",
       "</g>\n",
       "<g style=\"fill:rgb(30.196078%,30.196078%,30.196078%);fill-opacity:1;\">\n",
       "  <use xlink:href=\"#glyphtF7SQCb30-14\" x=\"460.230469\" y=\"195.344727\"/>\n",
       "  <use xlink:href=\"#glyphtF7SQCb30-15\" x=\"465.124023\" y=\"195.344727\"/>\n",
       "  <use xlink:href=\"#glyphtF7SQCb30-16\" x=\"469.524414\" y=\"195.344727\"/>\n",
       "  <use xlink:href=\"#glyphtF7SQCb30-12\" x=\"476.854492\" y=\"195.344727\"/>\n",
       "  <use xlink:href=\"#glyphtF7SQCb30-7\" x=\"482.229492\" y=\"195.344727\"/>\n",
       "  <use xlink:href=\"#glyphtF7SQCb30-8\" x=\"484.674805\" y=\"195.344727\"/>\n",
       "  <use xlink:href=\"#glyphtF7SQCb30-13\" x=\"490.543945\" y=\"195.344727\"/>\n",
       "</g>\n",
       "<g style=\"fill:rgb(30.196078%,30.196078%,30.196078%);fill-opacity:1;\">\n",
       "  <use xlink:href=\"#glyphtF7SQCb30-8\" x=\"516.097656\" y=\"195.344727\"/>\n",
       "  <use xlink:href=\"#glyphtF7SQCb30-17\" x=\"521.966797\" y=\"195.344727\"/>\n",
       "  <use xlink:href=\"#glyphtF7SQCb30-18\" x=\"526.688477\" y=\"195.344727\"/>\n",
       "  <use xlink:href=\"#glyphtF7SQCb30-11\" x=\"532.557617\" y=\"195.344727\"/>\n",
       "  <use xlink:href=\"#glyphtF7SQCb30-16\" x=\"538.912109\" y=\"195.344727\"/>\n",
       "  <use xlink:href=\"#glyphtF7SQCb30-19\" x=\"546.242188\" y=\"195.344727\"/>\n",
       "  <use xlink:href=\"#glyphtF7SQCb30-20\" x=\"551.135742\" y=\"195.344727\"/>\n",
       "</g>\n",
       "<g style=\"fill:rgb(0%,0%,0%);fill-opacity:1;\">\n",
       "  <use xlink:href=\"#glyphtF7SQCb31-1\" x=\"429.546875\" y=\"208.05957\"/>\n",
       "  <use xlink:href=\"#glyphtF7SQCb31-2\" x=\"436.883789\" y=\"208.05957\"/>\n",
       "  <use xlink:href=\"#glyphtF7SQCb31-3\" x=\"440.546875\" y=\"208.05957\"/>\n",
       "  <use xlink:href=\"#glyphtF7SQCb31-4\" x=\"446.665039\" y=\"208.05957\"/>\n",
       "  <use xlink:href=\"#glyphtF7SQCb31-3\" x=\"449.72168\" y=\"208.05957\"/>\n",
       "  <use xlink:href=\"#glyphtF7SQCb31-5\" x=\"455.839844\" y=\"208.05957\"/>\n",
       "  <use xlink:href=\"#glyphtF7SQCb31-3\" x=\"461.339844\" y=\"208.05957\"/>\n",
       "  <use xlink:href=\"#glyphtF7SQCb31-6\" x=\"467.458008\" y=\"208.05957\"/>\n",
       "</g>\n",
       "<g style=\"fill:rgb(0%,0%,0%);fill-opacity:1;\">\n",
       "  <use xlink:href=\"#glyphtF7SQCb32-14\" x=\"301.438477\" y=\"145.964844\"/>\n",
       "  <use xlink:href=\"#glyphtF7SQCb32-15\" x=\"301.438477\" y=\"138.62793\"/>\n",
       "  <use xlink:href=\"#glyphtF7SQCb32-16\" x=\"301.438477\" y=\"132.509766\"/>\n",
       "  <use xlink:href=\"#glyphtF7SQCb32-2\" x=\"301.438477\" y=\"130.06543\"/>\n",
       "  <use xlink:href=\"#glyphtF7SQCb32-17\" x=\"301.438477\" y=\"123.947266\"/>\n",
       "  <use xlink:href=\"#glyphtF7SQCb32-3\" x=\"301.438477\" y=\"118.447266\"/>\n",
       "  <use xlink:href=\"#glyphtF7SQCb32-18\" x=\"301.438477\" y=\"115.390625\"/>\n",
       "  <use xlink:href=\"#glyphtF7SQCb32-15\" x=\"301.438477\" y=\"109.272461\"/>\n",
       "  <use xlink:href=\"#glyphtF7SQCb32-6\" x=\"301.438477\" y=\"103.154297\"/>\n",
       "  <use xlink:href=\"#glyphtF7SQCb32-19\" x=\"301.438477\" y=\"100.097656\"/>\n",
       "  <use xlink:href=\"#glyphtF7SQCb32-4\" x=\"301.438477\" y=\"92.15332\"/>\n",
       "  <use xlink:href=\"#glyphtF7SQCb32-8\" x=\"301.438477\" y=\"86.035156\"/>\n",
       "  <use xlink:href=\"#glyphtF7SQCb32-15\" x=\"301.438477\" y=\"79.916992\"/>\n",
       "  <use xlink:href=\"#glyphtF7SQCb32-6\" x=\"301.438477\" y=\"73.798828\"/>\n",
       "  <use xlink:href=\"#glyphtF7SQCb32-7\" x=\"301.438477\" y=\"70.742187\"/>\n",
       "  <use xlink:href=\"#glyphtF7SQCb32-8\" x=\"301.438477\" y=\"67.685547\"/>\n",
       "  <use xlink:href=\"#glyphtF7SQCb32-15\" x=\"301.438477\" y=\"61.567383\"/>\n",
       "  <use xlink:href=\"#glyphtF7SQCb32-18\" x=\"301.438477\" y=\"55.449219\"/>\n",
       "  <use xlink:href=\"#glyphtF7SQCb32-20\" x=\"301.438477\" y=\"49.331055\"/>\n",
       "</g>\n",
       "<g style=\"fill:rgb(0%,0%,0%);fill-opacity:1;\">\n",
       "  <use xlink:href=\"#glyphtF7SQCb31-7\" x=\"337.460938\" y=\"134.950195\"/>\n",
       "  <use xlink:href=\"#glyphtF7SQCb31-8\" x=\"343.573242\" y=\"134.950195\"/>\n",
       "  <use xlink:href=\"#glyphtF7SQCb31-9\" x=\"349.073242\" y=\"134.950195\"/>\n",
       "  <use xlink:href=\"#glyphtF7SQCb31-10\" x=\"355.191406\" y=\"134.950195\"/>\n",
       "</g>\n",
       "<path style=\" stroke:none;fill-rule:nonzero;fill:rgb(100%,100%,100%);fill-opacity:1;\" d=\"M 337.460938 158.910156 L 354.742188 158.910156 L 354.742188 141.628906 L 337.460938 141.628906 Z M 337.460938 158.910156 \"/>\n",
       "<path style=\"fill:none;stroke-width:1.066978;stroke-linecap:round;stroke-linejoin:round;stroke:rgb(97.254902%,46.27451%,42.745098%);stroke-opacity:1;stroke-miterlimit:10;\" d=\"M 346.101562 157.183594 L 346.101562 154.589844 \"/>\n",
       "<path style=\"fill:none;stroke-width:1.066978;stroke-linecap:round;stroke-linejoin:round;stroke:rgb(97.254902%,46.27451%,42.745098%);stroke-opacity:1;stroke-miterlimit:10;\" d=\"M 346.101562 145.949219 L 346.101562 143.359375 \"/>\n",
       "<path style=\"fill-rule:nonzero;fill:rgb(100%,100%,100%);fill-opacity:1;stroke-width:1.066978;stroke-linecap:round;stroke-linejoin:round;stroke:rgb(97.254902%,46.27451%,42.745098%);stroke-opacity:1;stroke-miterlimit:10;\" d=\"M 339.621094 154.589844 L 352.582031 154.589844 L 352.582031 145.949219 L 339.621094 145.949219 Z M 339.621094 154.589844 \"/>\n",
       "<path style=\"fill:none;stroke-width:1.066978;stroke-linecap:round;stroke-linejoin:round;stroke:rgb(97.254902%,46.27451%,42.745098%);stroke-opacity:1;stroke-miterlimit:10;\" d=\"M 339.621094 150.269531 L 352.578125 150.269531 \"/>\n",
       "<path style=\" stroke:none;fill-rule:nonzero;fill:rgb(100%,100%,100%);fill-opacity:1;\" d=\"M 337.460938 176.191406 L 354.742188 176.191406 L 354.742188 158.910156 L 337.460938 158.910156 Z M 337.460938 176.191406 \"/>\n",
       "<path style=\"fill:none;stroke-width:1.066978;stroke-linecap:round;stroke-linejoin:round;stroke:rgb(0%,74.901961%,76.862745%);stroke-opacity:1;stroke-miterlimit:10;\" d=\"M 346.101562 174.460938 L 346.101562 171.871094 \"/>\n",
       "<path style=\"fill:none;stroke-width:1.066978;stroke-linecap:round;stroke-linejoin:round;stroke:rgb(0%,74.901961%,76.862745%);stroke-opacity:1;stroke-miterlimit:10;\" d=\"M 346.101562 163.230469 L 346.101562 160.636719 \"/>\n",
       "<path style=\"fill-rule:nonzero;fill:rgb(100%,100%,100%);fill-opacity:1;stroke-width:1.066978;stroke-linecap:round;stroke-linejoin:round;stroke:rgb(0%,74.901961%,76.862745%);stroke-opacity:1;stroke-miterlimit:10;\" d=\"M 339.621094 171.871094 L 352.582031 171.871094 L 352.582031 163.230469 L 339.621094 163.230469 Z M 339.621094 171.871094 \"/>\n",
       "<path style=\"fill:none;stroke-width:1.066978;stroke-linecap:round;stroke-linejoin:round;stroke:rgb(0%,74.901961%,76.862745%);stroke-opacity:1;stroke-miterlimit:10;\" d=\"M 339.621094 167.550781 L 352.578125 167.550781 \"/>\n",
       "<g style=\"fill:rgb(0%,0%,0%);fill-opacity:1;\">\n",
       "  <use xlink:href=\"#glyphtF7SQCb30-18\" x=\"360.21875\" y=\"153.735352\"/>\n",
       "  <use xlink:href=\"#glyphtF7SQCb30-21\" x=\"365.928711\" y=\"153.735352\"/>\n",
       "  <use xlink:href=\"#glyphtF7SQCb30-22\" x=\"370.329102\" y=\"153.735352\"/>\n",
       "  <use xlink:href=\"#glyphtF7SQCb30-23\" x=\"375.222656\" y=\"153.735352\"/>\n",
       "  <use xlink:href=\"#glyphtF7SQCb30-19\" x=\"378.15332\" y=\"153.735352\"/>\n",
       "  <use xlink:href=\"#glyphtF7SQCb30-24\" x=\"383.046875\" y=\"153.735352\"/>\n",
       "  <use xlink:href=\"#glyphtF7SQCb30-22\" x=\"387.94043\" y=\"153.735352\"/>\n",
       "  <use xlink:href=\"#glyphtF7SQCb30-25\" x=\"392.833984\" y=\"153.735352\"/>\n",
       "</g>\n",
       "<g style=\"fill:rgb(0%,0%,0%);fill-opacity:1;\">\n",
       "  <use xlink:href=\"#glyphtF7SQCb30-11\" x=\"360.21875\" y=\"171.016602\"/>\n",
       "  <use xlink:href=\"#glyphtF7SQCb30-19\" x=\"366.573242\" y=\"171.016602\"/>\n",
       "  <use xlink:href=\"#glyphtF7SQCb30-26\" x=\"371.466797\" y=\"171.016602\"/>\n",
       "</g>\n",
       "</g>\n",
       "</svg>\n"
      ]
     },
     "metadata": {},
     "output_type": "display_data"
    },
    {
     "data": {
      "text/plain": [
       "RObject{VecSxp}\n"
      ]
     },
     "execution_count": 6,
     "metadata": {},
     "output_type": "execute_result"
    }
   ],
   "source": [
    "p_df = @where(met_df, :Metric .== \"Mutual Information\");\n",
    "\n",
    "gg1 = R\"\"\"\n",
    "ggplot($p_df, aes(x=Protocol, y=Value, color=Type)) + geom_boxplot() + \n",
    "    scale_y_continuous(name='Mutual Information', limits=c(0.85, 1.0), expand=c(0, 0)) +\n",
    "    theme(legend.position=c(0.01, 0.01), legend.justification=c(0, 0), legend.background=element_blank())\n",
    "\"\"\";\n",
    "\n",
    "p_df = @where(met_df, :Metric .!= \"Mutual Information\");\n",
    "gg2 = R\"\"\"\n",
    "ggplot($p_df, aes(x=Protocol, y=Value, color=Type)) + geom_boxplot() + \n",
    "    scale_y_continuous(name='Adjusted Rand Index', limits=c(0.85, 1.0), expand=c(0, 0)) +\n",
    "    theme(legend.position=c(0.01, 0.01), legend.justification=c(0, 0), legend.background=element_blank())\n",
    "\"\"\";\n",
    "\n",
    "RCall.ijulia_setdevice(MIME(\"image/svg+xml\"), width=8, height=3)\n",
    "gg = R\"cowplot::plot_grid\"(gg1, gg2);\n",
    "R\"ggsave\"(\"./plots/stability.pdf\", gg, width=8, height=3);\n",
    "gg"
   ]
  }
 ],
 "metadata": {
  "kernelspec": {
   "display_name": "Julia 1.3.1",
   "language": "julia",
   "name": "julia-1.3"
  },
  "language_info": {
   "file_extension": ".jl",
   "mimetype": "application/julia",
   "name": "julia",
   "version": "1.3.1"
  }
 },
 "nbformat": 4,
 "nbformat_minor": 4
}
