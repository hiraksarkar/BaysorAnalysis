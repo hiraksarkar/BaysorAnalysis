{
 "cells": [
  {
   "cell_type": "code",
   "execution_count": 2,
   "id": "chief-validation",
   "metadata": {
    "tags": []
   },
   "outputs": [],
   "source": [
    "using DrWatson\n",
    "quickactivate(@__DIR__)\n",
    "\n",
    "import Baysor as B\n",
    "import BaysorAnalysis as BA\n",
    "import Colors\n",
    "import CSV\n",
    "import MultivariateStats\n",
    "import Plots\n",
    "\n",
    "using BenchmarkTools\n",
    "using ProgressMeter\n",
    "using OrderedCollections\n",
    "using DataFrames\n",
    "using DataFramesMeta\n",
    "using NearestNeighbors\n",
    "using Statistics\n",
    "using StatsBase"
   ]
  },
  {
   "cell_type": "code",
   "execution_count": 3,
   "id": "angry-official",
   "metadata": {
    "tags": []
   },
   "outputs": [],
   "source": [
    "BenchmarkTools.DEFAULT_PARAMETERS.gcsample = true;\n",
    "BenchmarkTools.DEFAULT_PARAMETERS.overhead = BenchmarkTools.estimate_overhead();\n",
    "BenchmarkTools.DEFAULT_PARAMETERS.samples = 5;\n",
    "BenchmarkTools.DEFAULT_PARAMETERS.seconds = 30 * 60;"
   ]
  },
  {
   "cell_type": "markdown",
   "id": "entitled-theorem",
   "metadata": {
    "heading_collapsed": "true",
    "tags": []
   },
   "source": [
    "## Load data"
   ]
  },
  {
   "cell_type": "code",
   "execution_count": null,
   "id": "indonesian-decimal",
   "metadata": {
    "execution": {
     "iopub.execute_input": "2020-09-25T19:13:42.517000+02:00",
     "iopub.status.busy": "2020-09-25T19:13:42.517000+02:00",
     "iopub.status.idle": "2020-09-25T19:13:51.412000+02:00"
    }
   },
   "outputs": [],
   "source": [
    "# @time df_spatial, gene_names = Baysor.load_df(\"../run_results/spacejam2/allen_sm_fish/no_dapi/segmentation.csv\");\n",
    "# df_spatial[!, :x] = round.(Int, 10 .* (df_spatial.x .- minimum(df_spatial.x)));\n",
    "# df_spatial[!, :y] = round.(Int, 10 .* (df_spatial.y .- minimum(df_spatial.y)));\n",
    "# length(gene_names)"
   ]
  },
  {
   "cell_type": "code",
   "execution_count": null,
   "id": "endless-pepper",
   "metadata": {
    "execution": {
     "iopub.execute_input": "2020-09-30T16:01:11.758000+02:00",
     "iopub.status.busy": "2020-09-30T16:01:11.758000+02:00",
     "iopub.status.idle": "2020-09-30T16:01:22.250000+02:00"
    }
   },
   "outputs": [],
   "source": [
    "@time df_spatial, gene_names = Baysor.load_df(\"../run_results/merfish_moffit/segmentation.csv\");\n",
    "length(gene_names)"
   ]
  },
  {
   "cell_type": "markdown",
   "id": "random-harbor",
   "metadata": {
    "heading_collapsed": "true",
    "tags": []
   },
   "source": [
    "## Molecule clustering"
   ]
  },
  {
   "cell_type": "markdown",
   "id": "substantial-cotton",
   "metadata": {},
   "source": [
    "### Baysor"
   ]
  },
  {
   "cell_type": "code",
   "execution_count": null,
   "id": "foreign-benjamin",
   "metadata": {
    "execution": {
     "iopub.execute_input": "2020-09-30T16:03:23.529000+02:00",
     "iopub.status.busy": "2020-09-30T16:03:23.529000+02:00",
     "iopub.status.idle": "2020-09-30T16:03:23.667000+02:00"
    }
   },
   "outputs": [],
   "source": [
    "bench_df = @where(df_spatial, :x .< -3300, :y .< -3300) |> deepcopy;\n",
    "gn_bench = gene_names;\n",
    "\n",
    "# confidence_nn_id = Baysor.default_param_value(:confidence_nn_id, 10);\n",
    "confidence_nn_id = Baysor.default_param_value(:confidence_nn_id, 50);\n",
    "@show confidence_nn_id\n",
    "size(bench_df, 1)"
   ]
  },
  {
   "cell_type": "code",
   "execution_count": null,
   "id": "julian-stanley",
   "metadata": {
    "execution": {
     "iopub.execute_input": "2020-09-30T16:03:26.244000+02:00",
     "iopub.status.busy": "2020-09-30T16:03:26.244000+02:00",
     "iopub.status.idle": "2020-09-30T16:03:26.270000+02:00"
    }
   },
   "outputs": [],
   "source": [
    "bench_clust = BenchmarkGroup();"
   ]
  },
  {
   "cell_type": "code",
   "execution_count": null,
   "id": "adverse-intro",
   "metadata": {
    "execution": {
     "iopub.execute_input": "2020-09-30T16:03:28.730000+02:00",
     "iopub.status.busy": "2020-09-30T16:03:28.730000+02:00",
     "iopub.status.idle": "2020-09-30T16:03:42.956000+02:00"
    }
   },
   "outputs": [],
   "source": [
    "B.append_confidence!(bench_df, nn_id=confidence_nn_id);\n",
    "bench_clust[\"confidence\"] = @benchmarkable B.append_confidence!($bench_df, nn_id=$confidence_nn_id);"
   ]
  },
  {
   "cell_type": "code",
   "execution_count": null,
   "id": "primary-andrew",
   "metadata": {
    "execution": {
     "iopub.execute_input": "2020-09-30T16:03:44.226000+02:00",
     "iopub.status.busy": "2020-09-30T16:03:44.225000+02:00",
     "iopub.status.idle": "2020-09-30T16:03:47.559000+02:00"
    }
   },
   "outputs": [],
   "source": [
    "adjacent_points, adjacent_weights = B.build_molecule_graph(bench_df, filter=false);\n",
    "bench_clust[\"mol_graph\"] = @benchmarkable B.build_molecule_graph($bench_df, filter=false);"
   ]
  },
  {
   "cell_type": "code",
   "execution_count": null,
   "id": "wooden-coverage",
   "metadata": {
    "execution": {
     "iopub.execute_input": "2020-09-30T16:03:48.816000+02:00",
     "iopub.status.busy": "2020-09-30T16:03:48.816000+02:00",
     "iopub.status.idle": "2020-09-30T16:03:49.105000+02:00"
    }
   },
   "outputs": [],
   "source": [
    "for cl in [2, 4, 6, 8, 10]\n",
    "    bench_clust[\"clust_$cl\"] = @benchmarkable B.cluster_molecules_on_mrf($bench_df.gene, $adjacent_points, $adjacent_weights, $bench_df.confidence; \n",
    "        n_clusters=$cl, max_iters=5000, n_iters_without_update=100, verbose=false);\n",
    "end"
   ]
  },
  {
   "cell_type": "code",
   "execution_count": null,
   "id": "generous-mention",
   "metadata": {
    "execution": {
     "iopub.execute_input": "2020-09-30T16:03:55.130000+02:00",
     "iopub.status.busy": "2020-09-30T16:03:55.129000+02:00",
     "iopub.status.idle": "2020-09-30T16:45:10.393000+02:00"
    }
   },
   "outputs": [],
   "source": [
    "bench_clust_res = run(bench_clust)"
   ]
  },
  {
   "cell_type": "code",
   "execution_count": null,
   "id": "deadly-header",
   "metadata": {
    "execution": {
     "iopub.execute_input": "2020-09-30T16:45:10.393000+02:00",
     "iopub.status.busy": "2020-09-30T16:45:10.393000+02:00",
     "iopub.status.idle": "2020-09-30T16:45:13.603000+02:00"
    }
   },
   "outputs": [],
   "source": [
    "bench_res_df = vcat([DataFrame(\"Key\" => k, \"Mean time, sec\" => mean(v.times) ./ 1e9, \"Std time, sec\" => std(v.times) ./ 1e9, \n",
    "            \"Num. samples\" => length(v.times)) for (k,v) in bench_clust_res]...)"
   ]
  },
  {
   "cell_type": "markdown",
   "id": "prospective-bonus",
   "metadata": {},
   "source": [
    "### Leiden"
   ]
  },
  {
   "cell_type": "code",
   "execution_count": null,
   "id": "martial-sampling",
   "metadata": {
    "execution": {
     "iopub.execute_input": "2020-09-30T16:48:24.599000+02:00",
     "iopub.status.busy": "2020-09-30T16:48:24.599000+02:00",
     "iopub.status.idle": "2020-09-30T16:48:28.032000+02:00"
    }
   },
   "outputs": [],
   "source": [
    "using RCall"
   ]
  },
  {
   "cell_type": "code",
   "execution_count": null,
   "id": "powered-explosion",
   "metadata": {
    "execution": {
     "iopub.execute_input": "2020-09-30T16:48:36.046000+02:00",
     "iopub.status.busy": "2020-09-30T16:48:35.550000+02:00",
     "iopub.status.idle": "2020-09-30T16:48:38.775000+02:00"
    }
   },
   "outputs": [],
   "source": [
    "nm_bench = B.neighborhood_count_matrix(bench_df, 50, normalize=false);\n",
    "size(nm_bench)"
   ]
  },
  {
   "cell_type": "code",
   "execution_count": null,
   "id": "accessory-schedule",
   "metadata": {
    "execution": {
     "iopub.execute_input": "2020-09-30T16:48:44.712000+02:00",
     "iopub.status.busy": "2020-09-30T16:48:44.711000+02:00",
     "iopub.status.idle": "2020-09-30T17:12:26.341000+02:00"
    }
   },
   "outputs": [],
   "source": [
    "R\"\"\"\n",
    "library(pagoda2)\n",
    "library(conos)\n",
    "library(microbenchmark)\n",
    "\n",
    "cm <- as($nm_bench, \"dgCMatrix\")\n",
    "rownames(cm) <- $gn_bench\n",
    "colnames(cm) <- paste0(\"c\", 1:ncol(cm))\n",
    "\n",
    "getClusters <- function(cm, verbose=FALSE) {\n",
    "    p2 <- Pagoda2$new(cm, trim=5, n.cores=1, verbose=FALSE, log.scale=verbose)\n",
    "    p2$calculatePcaReduction(nPcs=50, odgenes=rownames(cm), maxit=1000, verbose=verbose, var.scale=FALSE)\n",
    "    p2$makeKnnGraph(k=30, type=\"PCA\", center=T, distance=\"cosine\", weight.type=\"none\", verbose=verbose)\n",
    "    p2$getKnnClusters(method=conos::leiden.community, type=\"PCA\", name=\"leiden\", resolution=1.0)\n",
    "    \n",
    "    return(p2$clusters$PCA$leiden)\n",
    "}\n",
    "\n",
    "b <- microbenchmark(\n",
    "    \"clustering\" = {getClusters(cm)},\n",
    "    times=5,\n",
    "    control=list(warmup=1)\n",
    ")\n",
    "\"\"\""
   ]
  },
  {
   "cell_type": "markdown",
   "id": "local-musician",
   "metadata": {},
   "source": [
    "### Aggregate"
   ]
  },
  {
   "cell_type": "code",
   "execution_count": null,
   "id": "continent-provincial",
   "metadata": {
    "execution": {
     "iopub.execute_input": "2020-09-30T17:12:26.341000+02:00",
     "iopub.status.busy": "2020-09-30T17:12:26.341000+02:00",
     "iopub.status.idle": "2020-09-30T17:12:26.870000+02:00"
    }
   },
   "outputs": [],
   "source": [
    "leiden_times = rcopy(R\"b\").time;"
   ]
  },
  {
   "cell_type": "code",
   "execution_count": null,
   "id": "derived-intranet",
   "metadata": {
    "execution": {
     "iopub.execute_input": "2020-09-30T17:12:26.870000+02:00",
     "iopub.status.busy": "2020-09-30T17:12:26.870000+02:00",
     "iopub.status.idle": "2020-09-30T17:12:27.046000+02:00"
    }
   },
   "outputs": [],
   "source": [
    "bench_res_df"
   ]
  },
  {
   "cell_type": "code",
   "execution_count": null,
   "id": "running-hierarchy",
   "metadata": {
    "execution": {
     "iopub.execute_input": "2020-09-30T17:12:27.046000+02:00",
     "iopub.status.busy": "2020-09-30T17:12:27.046000+02:00",
     "iopub.status.idle": "2020-09-30T17:12:28.091000+02:00"
    }
   },
   "outputs": [],
   "source": [
    "df1 = hcat(DataFrame(\"Method\" => \"MRF\", \"Num. clusters\" => 2:2:10), bench_res_df[[3, 1, 5, 4, 2],2:end]);\n",
    "df2 = vcat(df1, DataFrame(\"Method\" => \"Leiden\", \"Num. clusters\" => \"Any\", \"Mean time, sec\" => mean(leiden_times) / 1e9, \n",
    "        \"Std time, sec\" => std(leiden_times) / 1e9, \"Num. samples\" => 5));\n",
    "\n",
    "df2[:, 3:4] .= round.(df2[:, 3:4], digits=2);\n",
    "df2"
   ]
  },
  {
   "cell_type": "code",
   "execution_count": null,
   "id": "convenient-squad",
   "metadata": {
    "execution": {
     "iopub.execute_input": "2020-09-30T18:33:38.579000+02:00",
     "iopub.status.busy": "2020-09-30T18:33:38.578000+02:00",
     "iopub.status.idle": "2020-09-30T18:33:39.563000+02:00"
    }
   },
   "outputs": [],
   "source": [
    "CSV.write(\"plots/clustering_profiling.csv\", df2)"
   ]
  },
  {
   "cell_type": "markdown",
   "id": "simple-seeking",
   "metadata": {
    "heading_collapsed": "true",
    "tags": []
   },
   "source": [
    "## Color embedding"
   ]
  },
  {
   "cell_type": "code",
   "execution_count": null,
   "id": "express-tactics",
   "metadata": {
    "execution": {
     "iopub.execute_input": "2020-09-25T19:15:31.459000+02:00",
     "iopub.status.busy": "2020-09-25T19:15:31.459000+02:00",
     "iopub.status.idle": "2020-09-25T19:17:12.818000+02:00"
    }
   },
   "outputs": [],
   "source": [
    "@time neighb_cm = B.neighborhood_count_matrix(df_spatial, 40);\n",
    "@time color_transformation = B.gene_composition_transformation(neighb_cm, df_spatial.confidence; sample_size=20000, spread=2.0, min_dist=0.1);\n",
    "@time color_emb = B.transform(color_transformation, neighb_cm);"
   ]
  },
  {
   "cell_type": "code",
   "execution_count": null,
   "id": "awful-chemical",
   "metadata": {
    "execution": {
     "iopub.execute_input": "2020-09-25T19:17:12.818000+02:00",
     "iopub.status.busy": "2020-09-25T19:17:12.818000+02:00",
     "iopub.status.idle": "2020-09-25T19:17:12.845000+02:00"
    }
   },
   "outputs": [],
   "source": [
    "bench_emb = BenchmarkGroup();"
   ]
  },
  {
   "cell_type": "code",
   "execution_count": null,
   "id": "closing-today",
   "metadata": {
    "execution": {
     "iopub.execute_input": "2020-09-25T19:17:12.845000+02:00",
     "iopub.status.busy": "2020-09-25T19:17:12.845000+02:00",
     "iopub.status.idle": "2020-09-25T19:17:13.396000+02:00"
    }
   },
   "outputs": [],
   "source": [
    "bench_emb[\"neighborhood_count_matrix_40\"] = @benchmarkable B.neighborhood_count_matrix($df_spatial, 40)"
   ]
  },
  {
   "cell_type": "code",
   "execution_count": null,
   "id": "editorial-little",
   "metadata": {
    "execution": {
     "iopub.execute_input": "2020-09-25T19:17:13.396000+02:00",
     "iopub.status.busy": "2020-09-25T19:17:13.396000+02:00",
     "iopub.status.idle": "2020-09-25T19:17:13.734000+02:00"
    }
   },
   "outputs": [],
   "source": [
    "bench_emb[\"gene_composition_transformation_20k\"] = @benchmarkable B.gene_composition_transformation(neighb_cm, df_spatial.confidence; \n",
    "    sample_size=20000, spread=2.0, min_dist=0.1)"
   ]
  },
  {
   "cell_type": "code",
   "execution_count": null,
   "id": "quick-verse",
   "metadata": {
    "execution": {
     "iopub.execute_input": "2020-09-25T19:17:13.735000+02:00",
     "iopub.status.busy": "2020-09-25T19:17:13.735000+02:00",
     "iopub.status.idle": "2020-09-25T19:17:13.967000+02:00"
    }
   },
   "outputs": [],
   "source": [
    "bench_emb[\"transform\"] = @benchmarkable B.transform(color_transformation, neighb_cm)"
   ]
  },
  {
   "cell_type": "code",
   "execution_count": null,
   "id": "public-brass",
   "metadata": {
    "execution": {
     "iopub.execute_input": "2020-09-25T19:17:13.967000+02:00",
     "iopub.status.busy": "2020-09-25T19:17:13.967000+02:00",
     "iopub.status.idle": "2020-09-25T19:25:23.992000+02:00"
    }
   },
   "outputs": [],
   "source": [
    "bench_emb_res = run(bench_emb)"
   ]
  },
  {
   "cell_type": "code",
   "execution_count": null,
   "id": "industrial-japan",
   "metadata": {
    "execution": {
     "iopub.execute_input": "2020-09-25T19:41:41.973000+02:00",
     "iopub.status.busy": "2020-09-25T19:41:41.973000+02:00",
     "iopub.status.idle": "2020-09-25T19:41:42.607000+02:00"
    }
   },
   "outputs": [],
   "source": [
    "bench_df = vcat([DataFrame(\"Key\" => k, \"Mean time, sec\" => mean(v.times) ./ 1e9, \"Std time, sec\" => std(v.times) ./ 1e9, \n",
    "            \"Num. samples\" => length(v.times)) for (k,v) in bench_emb_res]...)"
   ]
  },
  {
   "cell_type": "markdown",
   "id": "descending-repair",
   "metadata": {
    "heading_collapsed": "true",
    "tags": []
   },
   "source": [
    "## Segmentation"
   ]
  },
  {
   "cell_type": "code",
   "execution_count": null,
   "id": "thorough-mountain",
   "metadata": {
    "execution": {
     "iopub.execute_input": "2020-09-10T13:57:52.073000+02:00",
     "iopub.status.busy": "2020-09-10T13:57:52.073000+02:00",
     "iopub.status.idle": "2020-09-10T13:57:52.106000+02:00"
    }
   },
   "outputs": [],
   "source": [
    "bench_segmentation = BenchmarkGroup();"
   ]
  },
  {
   "cell_type": "code",
   "execution_count": null,
   "id": "satisfactory-karen",
   "metadata": {},
   "outputs": [],
   "source": [
    "@time df_spatial, gene_names = B.load_df(\"../run_results/iss_hippo/ca1_no_prior/segmentation.csv\");\n",
    "df_spatial[!, :cell_dapi] = df_spatial.parent_id;\n",
    "dapi_arr = Float16.(Images.load(\"/home/vpetukhov/data/spatal/iss/hippocampus/CA1/Viktor/CA1DapiBoundaries_4-3_right.tif\"));\n",
    "iss = Dict(:df => df_spatial, :gene_names => gene_names, :name => \"ISS\", :dapi_arr => dapi_arr);"
   ]
  },
  {
   "cell_type": "code",
   "execution_count": null,
   "id": "challenging-arrival",
   "metadata": {},
   "outputs": [],
   "source": [
    "B.append_confidence!(df_spatial, (args[\"prior_segmentation\"]===nothing ? nothing : df_spatial.prior_segmentation), nn_id=confidence_nn_id, prior_confidence=args[\"prior-segmentation-confidence\"])\n",
    "adjacent_points, adjacent_weights = build_molecule_graph(df_spatial, filter=false)[1:2];\n",
    "\n",
    "mol_clusts = cluster_molecules_on_mrf(df_spatial.gene, adjacent_points, adjacent_weights, df_spatial.confidence;\n",
    "            n_clusters=args[\"n-clusters\"], weights_pre_adjusted=true)\n",
    "\n",
    "df_spatial[!, :cluster] = mol_clusts.assignment;\n",
    "\n",
    "bm_data_arr = initial_distribution_arr(df_spatial; n_frames=args[\"n-frames\"], scale=args[\"scale\"], scale_std=args[\"scale-std\"],\n",
    "        n_cells_init=args[\"num-cells-init\"], prior_seg_confidence=args[\"prior-segmentation-confidence\"],\n",
    "        min_molecules_per_cell=args[\"min-molecules-per-cell\"], confidence_nn_id=0);\n",
    "\n",
    "bm_data = run_bmm_parallel!(bm_data_arr, args[\"iters\"], new_component_frac=args[\"new-component-fraction\"], new_component_weight=args[\"new-component-weight\"],\n",
    "                            min_molecules_per_cell=args[\"min-molecules-per-cell\"], assignment_history_depth=history_depth);"
   ]
  },
  {
   "cell_type": "code",
   "execution_count": null,
   "id": "generic-vision",
   "metadata": {},
   "outputs": [],
   "source": [
    "cur_df = deepcopy(iss[:df]);\n",
    "bm_data = B.initial_distribution_arr(cur_df; n_frames=1, scale=14, scale_std=\"25%\", min_molecules_per_cell=3)[1];\n",
    "@time B.bmm!(bm_data, n_iters=350, new_component_frac=0.3, min_molecules_per_cell=3, assignment_history_depth=30, log_step=100);\n",
    "cur_df[!, :cell] = B.estimate_assignment_by_history(bm_data)[1];\n",
    "\n",
    "B.plot_comparison_for_cell(cur_df, B.val_range(cur_df.x), B.val_range(cur_df.y), nothing, iss[:dapi_arr];\n",
    "    ms=2.0, bandwidth=5.0, size_mult=0.25, plot_raw_dapi=false)"
   ]
  },
  {
   "cell_type": "markdown",
   "id": "basic-discussion",
   "metadata": {
    "heading_collapsed": "true",
    "tags": []
   },
   "source": [
    "## Full run"
   ]
  },
  {
   "cell_type": "markdown",
   "id": "average-yahoo",
   "metadata": {
    "heading_collapsed": "true",
    "tags": []
   },
   "source": [
    "### Run"
   ]
  },
  {
   "cell_type": "code",
   "execution_count": null,
   "id": "terminal-honolulu",
   "metadata": {
    "execution": {
     "iopub.execute_input": "2020-09-28T10:27:13.345000+02:00",
     "iopub.status.busy": "2020-09-28T10:27:13.345000+02:00",
     "iopub.status.idle": "2020-09-28T10:27:13.369000+02:00"
    }
   },
   "outputs": [],
   "source": [
    "using ProgressMeter"
   ]
  },
  {
   "cell_type": "code",
   "execution_count": null,
   "id": "racial-circle",
   "metadata": {
    "execution": {
     "iopub.execute_input": "2020-09-28T10:28:06.250000+02:00",
     "iopub.status.busy": "2020-09-28T10:28:06.249000+02:00",
     "iopub.status.idle": "2020-09-28T10:28:06.390000+02:00"
    }
   },
   "outputs": [],
   "source": [
    "dataset_paths = \"/home/vpetukhov/spatial/Benchmarking/run_results/\" .* \n",
    "    [\"iss_hippo/ca1_no_prior\", \"merfish_moffit\", \"osm_fish\", \"star_map/vis_1020_cl0\", \"spacejam2/allen_sm_fish/no_dapi\"];\n",
    "param_dumps = dataset_paths .* \"/segmentation_params.dump\";\n",
    "\n",
    "dataset_names = [\"iss\", \"merfish\", \"osm_fish\", \"starmap_1020\", \"allen_smfish\"];\n",
    "\n",
    "param_strings = [open(p) do f readlines(f)[1][16:end-1] end for p in param_dumps];"
   ]
  },
  {
   "cell_type": "code",
   "execution_count": null,
   "id": "imported-bubble",
   "metadata": {
    "execution": {
     "iopub.execute_input": "2020-09-21T22:18:50.630000+02:00",
     "iopub.status.busy": "2020-09-21T22:18:50.630000+02:00",
     "iopub.status.idle": "2020-09-22T08:31:29.601000+02:00"
    }
   },
   "outputs": [],
   "source": [
    "baysor_path = \"/home/vpetukhov/local/bin/baysor\";\n",
    "for i in 2:length(param_strings)\n",
    "# for i in 2:2\n",
    "    dataset = dataset_names[i]\n",
    "    params = split(param_strings[i], ' ')\n",
    "\n",
    "    out_path = expanduser(\"/home/vpetukhov/spatial/Benchmarking/run_results/profiling/$dataset/\")\n",
    "    mkpath(out_path)\n",
    "    cmd = `/usr/bin/time -f '%e %U %P %M %t %K' -o ./profiling_output/$dataset.prof -a $baysor_path run --debug -o $out_path $params`;\n",
    "#     cmd = `/usr/bin/time -f '%e %U %P %M %t %K' -o ./profiling_output/$dataset.prof -a $baysor_path run --debug --n-clusters=0 -o $out_path $params`;\n",
    "    @show cmd\n",
    "    \n",
    "    println(dataset)\n",
    "    @showprogress for ri in 1:5\n",
    "        run(pipeline(cmd, stdout=\"./profiling_output/$dataset.log\", stderr=\"./profiling_output/$dataset.err\", append=true))\n",
    "        run(pipeline(`echo -e \\\\n\\\\n\\\\n ----- RUN $ri ----- \\\\n\\\\n\\\\n`, stdout=\"./profiling_output/$dataset.log\", append=true))\n",
    "    end\n",
    "end"
   ]
  },
  {
   "cell_type": "markdown",
   "id": "fiscal-specialist",
   "metadata": {
    "heading_collapsed": "true",
    "tags": []
   },
   "source": [
    "### Summarize"
   ]
  },
  {
   "cell_type": "code",
   "execution_count": null,
   "id": "occupational-tulsa",
   "metadata": {
    "execution": {
     "iopub.execute_input": "2020-09-28T10:29:43.277000+02:00",
     "iopub.status.busy": "2020-09-28T10:29:43.277000+02:00",
     "iopub.status.idle": "2020-09-28T10:29:46.463000+02:00"
    }
   },
   "outputs": [],
   "source": [
    "using DataFrames\n",
    "using Statistics\n",
    "\n",
    "printed_names = [\"ISS\", \"MERFISH\", \"osmFISH\", \"STARmap 1020\", \"Allen smFISH\"];\n",
    "\n",
    "seg_results = dataset_paths .* \"/segmentation.csv\";\n",
    "dataset_parameters = hcat([[size(df, 1), length(unique(df.gene))] for df in DataFrame!.(CSV.File.(seg_results))]...);"
   ]
  },
  {
   "cell_type": "code",
   "execution_count": null,
   "id": "native-gender",
   "metadata": {
    "execution": {
     "iopub.execute_input": "2020-09-28T10:30:19.418000+02:00",
     "iopub.status.busy": "2020-09-28T10:30:19.418000+02:00",
     "iopub.status.idle": "2020-09-28T10:30:19.696000+02:00"
    }
   },
   "outputs": [],
   "source": [
    "bench_vals = [hcat(split.(readlines(\"./profiling_output/$ds.prof\"), ' ')...) for ds in dataset_names];\n",
    "mem_vals = hcat([parse.(Float64, x[4,:]) / 1e6 for x in bench_vals]...);\n",
    "cpu_vals = hcat([parse.(Float64, x[1,:]) / 60 for x in bench_vals]...);\n",
    "\n",
    "bench_mat = round.(vcat(mean(cpu_vals, dims=1), std(cpu_vals, dims=1), mean(mem_vals, dims=1), std(mem_vals, dims=1))', digits=2);\n",
    "bench_strs = [[\"$(r[i[1]]) ± $(r[i[2]])\" for r in eachrow(bench_mat)] for i in ((1, 2), (3, 4))];\n",
    "bench_df = DataFrame(\"Dataset\" => printed_names, \"Num. molecules\" => dataset_parameters[1,:], \"Num. genes\" => dataset_parameters[2,:],\n",
    "    \"CPU time, min\" => bench_strs[1], \"Max RSS, GB\" => bench_strs[2], \"Num. samples\" => 5)"
   ]
  },
  {
   "cell_type": "code",
   "execution_count": null,
   "id": "theoretical-dance",
   "metadata": {
    "execution": {
     "iopub.execute_input": "2020-09-28T10:30:40.543000+02:00",
     "iopub.status.busy": "2020-09-28T10:30:40.543000+02:00",
     "iopub.status.idle": "2020-09-28T10:30:40.623000+02:00"
    }
   },
   "outputs": [],
   "source": [
    "CSV.write(\"./plots/segmentation_profiling.csv\", bench_df)"
   ]
  },
  {
   "cell_type": "markdown",
   "id": "infectious-prison",
   "metadata": {},
   "source": [
    "## Parameter table"
   ]
  },
  {
   "cell_type": "code",
   "execution_count": 4,
   "id": "instrumental-learning",
   "metadata": {
    "tags": []
   },
   "outputs": [],
   "source": [
    "import Pkg: TOML\n",
    "using DataFrames\n",
    "import CSV"
   ]
  },
  {
   "cell_type": "code",
   "execution_count": 48,
   "id": "recognized-syracuse",
   "metadata": {},
   "outputs": [],
   "source": [
    "data_paths = [\"Allen smFISH\" => \"allen_smfish\", \"ISS\" => \"iss_hippo\", \"osmFISH\" => \"osmfish\", \"STARmap 1020\" => \"starmap_vis1020\", \"MERFISH Hypothalamus\" => \"merfish_moffit\", \"MERFISH Gut\" => \"merfish_membrane\"];\n",
    "prior_subfolders = [\"No\" => \"baysor\", \"Paper\" => \"baysor_prior\", \"DAPI\" => \"baysor_dapi_prior\", \"Membrane\" => \"baysor_membrane_prior\"];\n",
    "\n",
    "p_keys = [\"gene-composition-neigborhood\", \"scale\", \"prior-segmentation-confidence\", \"min-molecules-per-gene\", \"min-molecules-per-cell\", \"n-clusters\", \n",
    "    \"iters\", \"force-2d\", \"x-column\", \"y-column\", \"z-column\", \"gene-column\", \"prior_segmentation\", \"nuclei-genes\", \"cyto-genes\"];"
   ]
  },
  {
   "cell_type": "code",
   "execution_count": 49,
   "id": "covered-yahoo",
   "metadata": {},
   "outputs": [
    {
     "data": {
      "text/plain": [
       "\"/home/vpetukhov/spatial/BaysorAnalysis/plots/parameters.csv\""
      ]
     },
     "execution_count": 49,
     "metadata": {},
     "output_type": "execute_result"
    }
   ],
   "source": [
    "path_df = DataFrame([Dict(:Dataset => d, :Prior => pr, :Path => datadir(\"exp_pro\", md, sd, \"segmentation_params.dump\")) for (d, md) in data_paths for (pr, sd) in prior_subfolders]);\n",
    "path_df = path_df[isfile.(path_df.Path),:];\n",
    "\n",
    "param_dicts = [OrderedDict(k => get(d, k, \"NA\") for k in p_keys) for d in TOML.parsefile.(path_df.Path)];\n",
    "param_df = hcat(path_df[:,[:Dataset, :Prior]], vcat(DataFrame.(param_dicts)...))\n",
    "CSV.write(plotsdir(\"parameters.csv\"), param_df)"
   ]
  }
 ],
 "metadata": {
  "jupytext": {
   "formats": "ipynb,md",
   "text_representation": {
    "extension": ".md",
    "format_name": "markdown",
    "format_version": "1.2",
    "jupytext_version": "1.4.1"
   }
  },
  "kernelspec": {
   "display_name": "Julia 1.6.0",
   "language": "julia",
   "name": "julia-1.6"
  },
  "language_info": {
   "file_extension": ".jl",
   "mimetype": "application/julia",
   "name": "julia",
   "version": "1.6.0"
  }
 },
 "nbformat": 4,
 "nbformat_minor": 5
}
